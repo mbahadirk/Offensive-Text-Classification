{
 "cells": [
  {
   "cell_type": "code",
   "execution_count": 4,
   "id": "80d01b3a-a049-487a-89f8-9a8a663ffa55",
   "metadata": {},
   "outputs": [],
   "source": [
    "#Imports\n",
    "import pandas as pd\n",
    "import numpy as np\n",
    "from tqdm import tqdm\n",
    "import copy\n",
    "import matplotlib.pyplot as plt\n",
    "from sklearn.model_selection import train_test_split\n"
   ]
  },
  {
   "cell_type": "code",
   "execution_count": 6,
   "id": "82973f8a-6800-4e2b-886f-5db7217266aa",
   "metadata": {},
   "outputs": [],
   "source": [
    "path = 'datasets/turkish_dataset/turkce_cumleler_kokler_corrected_50k.csv'\n",
    "df = pd.read_csv(path)\n",
    "df = df.drop(columns=['id', 'text'])\n",
    "\n",
    "X = df['roots']  # Assuming 'roots' is the text feature\n",
    "y = df['label']  # Assuming 'label' is the target variable\n",
    "\n",
    "df = df.head(2000)\n",
    "\n",
    "X_train, X_test, y_train, y_test = train_test_split(X, y, test_size=0.1, random_state=42)\n",
    "\n",
    "cols = ['label','roots']"
   ]
  },
  {
   "cell_type": "code",
   "execution_count": 8,
   "id": "e13f8a20-de37-4e4e-a2b1-46ac1cb5022c",
   "metadata": {},
   "outputs": [],
   "source": [
    "from sklearn.feature_extraction.text import CountVectorizer\n",
    "from sklearn.feature_extraction.text import TfidfVectorizer\n",
    "\n",
    "X_train = np.where(pd.isna(X_train), '', X_train)\n",
    "X_test = np.where(pd.isna(X_test), '', X_test)\n",
    "\n",
    "# Vectorize the text data using TF-IDF\n",
    "vectorizer = TfidfVectorizer()\n",
    "X_train_tfidf = vectorizer.fit_transform(X_train)\n",
    "X_test_tfidf = vectorizer.transform(X_test)\n"
   ]
  },
  {
   "cell_type": "code",
   "execution_count": 16,
   "id": "61be2c36-cb32-461e-9ba4-d83b09238db4",
   "metadata": {},
   "outputs": [],
   "source": [
    "from sklearn.svm import SVC\n",
    "from sklearn.metrics import classification_report, accuracy_score\n",
    "from sklearn.neighbors import KNeighborsClassifier\n",
    "from sklearn.naive_bayes import GaussianNB, MultinomialNB\n",
    "from sklearn.tree import DecisionTreeClassifier\n",
    "from sklearn.ensemble import RandomForestClassifier\n",
    "from sklearn.model_selection import GridSearchCV\n",
    "from sklearn.linear_model import LogisticRegression\n",
    "\n",
    "\n",
    "def fit_model(classifierType = 'SVM'):\n",
    "    classifier = None\n",
    "    \n",
    "    if(classifierType==\"MNB\"):\n",
    "        classifier = MultinomialNB(alpha=0.7)\n",
    "        classifier.fit(X_train_tfidf, y_train)\n",
    "        \n",
    "    elif(classifierType==\"KNN\"):\n",
    "        classifier = KNeighborsClassifier(n_jobs=4)\n",
    "        params = {'n_neighbors': [3,5,7,9], 'weights':['uniform', 'distance']}\n",
    "        classifier = GridSearchCV(classifier, params, cv=3, n_jobs=4)\n",
    "        classifier.fit(X_train_tfidf, y_train)\n",
    "        classifier = classifier.best_estimator_\n",
    "        \n",
    "    elif(classifierType==\"SVM\"):\n",
    "        classifier = SVC()\n",
    "        classifier = GridSearchCV(classifier, {'C':[0.001, 0.01, 0.1, 1, 10]}, cv=3, n_jobs=4)\n",
    "        classifier.fit(X_train_tfidf, y_train)\n",
    "        classifier = classifier.best_estimator_\n",
    "        \n",
    "    elif(classifierType==\"DT\"):\n",
    "        classifier = DecisionTreeClassifier(max_depth=800, min_samples_split=5)\n",
    "        params = {'criterion':['gini','entropy']}\n",
    "        classifier = GridSearchCV(classifier, params, cv=3, n_jobs=4)\n",
    "        classifier.fit(X_train_tfidf, y_train)\n",
    "        classifier = classifier.best_estimator_\n",
    "        \n",
    "    elif(classifierType==\"RF\"):\n",
    "        classifier = RandomForestClassifier(max_depth=800, min_samples_split=5)\n",
    "        params = {'n_estimators': [n for n in range(50,200,50)], 'criterion':['gini','entropy'], }\n",
    "        classifier = GridSearchCV(classifier, params, cv=3, n_jobs=4)\n",
    "        classifier.fit(X_train_tfidf, y_train)\n",
    "        classifier = classifier.best_estimator_\n",
    "        \n",
    "    elif(classifierType==\"LR\"):\n",
    "        classifier = LogisticRegression(multi_class='auto', solver='newton-cg',)\n",
    "        classifier = GridSearchCV(classifier, {\"C\":np.logspace(-3,3,7), \"penalty\":[\"l2\"]}, cv=3, n_jobs=4)\n",
    "        classifier.fit(X_train_tfidf, y_train)\n",
    "        classifier = classifier.best_estimator_\n",
    "    return classifier\n"
   ]
  },
  {
   "cell_type": "code",
   "execution_count": null,
   "id": "1f90dcc6-8090-409b-842c-4208cf000523",
   "metadata": {},
   "outputs": [],
   "source": [
    "model = fit_model('SVM')\n",
    "\n",
    "# Make predictions\n",
    "y_pred = model.predict(X_test_tfidf)\n",
    "\n",
    "# Evaluate the model\n",
    "print(\"Accuracy:\", accuracy_score(y_test, y_pred))\n",
    "print(classification_report(y_test, y_pred))"
   ]
  },
  {
   "cell_type": "code",
   "execution_count": null,
   "id": "87cc3891-7842-4691-8f24-81770316316e",
   "metadata": {},
   "outputs": [],
   "source": [
    "from sklearn.metrics import confusion_matrix, ConfusionMatrixDisplay\n",
    "\n",
    "# Confusion matrix oluştur\n",
    "cm = confusion_matrix(y_test, y_pred)\n",
    "\n",
    "# Confusion matrix'i görselleştir\n",
    "disp = ConfusionMatrixDisplay(confusion_matrix=cm, display_labels=svm_model.classes_)\n",
    "disp.plot(cmap=plt.cm.Blues)\n",
    "plt.title(\"Confusion Matrix\")\n",
    "plt.show()"
   ]
  },
  {
   "cell_type": "code",
   "execution_count": null,
   "id": "d9d8f1af-66a0-4e6f-9143-0ff0f699785e",
   "metadata": {},
   "outputs": [],
   "source": []
  }
 ],
 "metadata": {
  "kernelspec": {
   "display_name": "Python 3 (ipykernel)",
   "language": "python",
   "name": "python3"
  },
  "language_info": {
   "codemirror_mode": {
    "name": "ipython",
    "version": 3
   },
   "file_extension": ".py",
   "mimetype": "text/x-python",
   "name": "python",
   "nbconvert_exporter": "python",
   "pygments_lexer": "ipython3",
   "version": "3.12.4"
  }
 },
 "nbformat": 4,
 "nbformat_minor": 5
}
