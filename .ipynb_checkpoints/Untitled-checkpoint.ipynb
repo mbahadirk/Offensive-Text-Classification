{
 "cells": [
  {
   "cell_type": "code",
   "execution_count": 2,
   "id": "013468e8-5187-4f62-8b39-1072a56e59c4",
   "metadata": {},
   "outputs": [
    {
     "name": "stdout",
     "output_type": "stream",
     "text": [
      "WARNING:tensorflow:From C:\\Users\\pahstoner\\anaconda3\\Lib\\site-packages\\tf_keras\\src\\losses.py:2976: The name tf.losses.sparse_softmax_cross_entropy is deprecated. Please use tf.compat.v1.losses.sparse_softmax_cross_entropy instead.\n",
      "\n"
     ]
    }
   ],
   "source": [
    "import numpy as np # linear algebra\n",
    "import pandas as pd # data processing, CSV file I/O (e.g. pd.read_csv)\n",
    "\n",
    "#For EDA\n",
    "import matplotlib.pyplot as plt\n",
    "import seaborn as sns\n",
    "\n",
    "# Packages for general use throughout the notebook.\n",
    "import random\n",
    "import warnings\n",
    "import time\n",
    "%matplotlib inline\n",
    "from sklearn.model_selection import train_test_split\n",
    "\n",
    "# to see columns properly\n",
    "pd.set_option('display.max_colwidth', None)\n",
    "\n",
    "# for build our model\n",
    "import tensorflow as tf\n",
    "from tensorflow.keras.layers import Add, GlobalAvgPool1D, MaxPool1D, Activation, BatchNormalization, Embedding, LSTM, Dense, Bidirectional, Input, SpatialDropout1D, Dropout, Conv1D\n",
    "from tensorflow.keras import Model\n",
    "from transformers import BertTokenizer, TFBertModel\n",
    "from tensorflow.keras.activations import relu\n",
    "\n",
    "from sklearn.metrics import confusion_matrix, classification_report, accuracy_score, precision_score, recall_score, f1_score\n",
    "\n",
    "#!pip install datasets\n",
    "from datasets import load_dataset\n",
    "\n",
    "# Input data files are available in the read-only \"../input/\" directory\n",
    "import os\n",
    "for dirname, _, filenames in os.walk('datasets/turkish_dataset/train.csv'):\n",
    "    for filename in filenames:\n",
    "        print(os.path.join(dirname, filename))"
   ]
  },
  {
   "cell_type": "code",
   "execution_count": 3,
   "id": "20bad1f9-3106-47c9-aa5b-e44f18fe3911",
   "metadata": {},
   "outputs": [
    {
     "data": {
      "text/html": [
       "<div>\n",
       "<style scoped>\n",
       "    .dataframe tbody tr th:only-of-type {\n",
       "        vertical-align: middle;\n",
       "    }\n",
       "\n",
       "    .dataframe tbody tr th {\n",
       "        vertical-align: top;\n",
       "    }\n",
       "\n",
       "    .dataframe thead th {\n",
       "        text-align: right;\n",
       "    }\n",
       "</style>\n",
       "<table border=\"1\" class=\"dataframe\">\n",
       "  <thead>\n",
       "    <tr style=\"text-align: right;\">\n",
       "      <th></th>\n",
       "      <th>text</th>\n",
       "      <th>label</th>\n",
       "    </tr>\n",
       "  </thead>\n",
       "  <tbody>\n",
       "    <tr>\n",
       "      <th>0</th>\n",
       "      <td>Gerçekten sizin hikayelerinizi izleyerek mi yeni yıla giricem?</td>\n",
       "      <td>0</td>\n",
       "    </tr>\n",
       "    <tr>\n",
       "      <th>1</th>\n",
       "      <td>@USER Çoook çok bi baklava bi sen zaten</td>\n",
       "      <td>0</td>\n",
       "    </tr>\n",
       "    <tr>\n",
       "      <th>2</th>\n",
       "      <td>1) Sn. DÜKEL; Atatürk'ün, Karma E. M. ile başlattığı ''Siyasi bağımsızlığın, ekonomik bağımsızlıkla mümkün olabileceği'' gerçeğinin, özelleştirmelerle sekteye uğradığını görmekteyiz. KİT'lerin halka özelleştirilmesi ile ekonomik sorunların üstesinden gelebileceğimizi düşünüyorum.</td>\n",
       "      <td>0</td>\n",
       "    </tr>\n",
       "    <tr>\n",
       "      <th>3</th>\n",
       "      <td>Konfederasyonumuzun Aile ve Sosyal Politikalar Bakanlığı ile istişare ve 5 aylık birlikte yaptığı hazırlık çalışmaları sonucu 23 Eylül İşaret Dilleri günü münasebetiyle, Türkiye’deki tüm derneklerin ve 8 federasyonun katılımıyla gerçekleşen sempozyumdan resimler.</td>\n",
       "      <td>0</td>\n",
       "    </tr>\n",
       "    <tr>\n",
       "      <th>4</th>\n",
       "      <td>Hakemler tarih yazıyorlar / 9 kişiye karşı 3-2 önde olacak alanyasporu kaybettirdi</td>\n",
       "      <td>1</td>\n",
       "    </tr>\n",
       "    <tr>\n",
       "      <th>...</th>\n",
       "      <td>...</td>\n",
       "      <td>...</td>\n",
       "    </tr>\n",
       "    <tr>\n",
       "      <th>42393</th>\n",
       "      <td>Takım otobüsüne saldırmak nedir ulan şerefini siktiğimin dürzüleri İstanbul'a geldiğinizde insallah ananızın amını sikerler</td>\n",
       "      <td>1</td>\n",
       "    </tr>\n",
       "    <tr>\n",
       "      <th>42394</th>\n",
       "      <td>@nightmareess_ Aynı bu şekldiyedim ya  başlicam yapacağınız oyuna parkur olsa Atakan hepsinden önce gelirdi zaten başlarım su oyununa</td>\n",
       "      <td>1</td>\n",
       "    </tr>\n",
       "    <tr>\n",
       "      <th>42395</th>\n",
       "      <td>@prodbyjaysou @kkesbekes ya kaybol twitimden koduğumun ergeni</td>\n",
       "      <td>1</td>\n",
       "    </tr>\n",
       "    <tr>\n",
       "      <th>42396</th>\n",
       "      <td>@82_6363AB Ben hdpliyim ve vermeyecem ama akp zaten söz konusuda olamaz,evimde otururum oy kullanmam amq.Ben kürt değilim ama kürtleri kullanan zihniyetten tiksiniyorum</td>\n",
       "      <td>1</td>\n",
       "    </tr>\n",
       "    <tr>\n",
       "      <th>42397</th>\n",
       "      <td>Bi airdrop sapığı eksikti aq</td>\n",
       "      <td>1</td>\n",
       "    </tr>\n",
       "  </tbody>\n",
       "</table>\n",
       "<p>42398 rows × 2 columns</p>\n",
       "</div>"
      ],
      "text/plain": [
       "                                                                                                                                                                                                                                                                                           text  \\\n",
       "0                                                                                                                                                                                                                                Gerçekten sizin hikayelerinizi izleyerek mi yeni yıla giricem?   \n",
       "1                                                                                                                                                                                                                                                       @USER Çoook çok bi baklava bi sen zaten   \n",
       "2      1) Sn. DÜKEL; Atatürk'ün, Karma E. M. ile başlattığı ''Siyasi bağımsızlığın, ekonomik bağımsızlıkla mümkün olabileceği'' gerçeğinin, özelleştirmelerle sekteye uğradığını görmekteyiz. KİT'lerin halka özelleştirilmesi ile ekonomik sorunların üstesinden gelebileceğimizi düşünüyorum.   \n",
       "3                       Konfederasyonumuzun Aile ve Sosyal Politikalar Bakanlığı ile istişare ve 5 aylık birlikte yaptığı hazırlık çalışmaları sonucu 23 Eylül İşaret Dilleri günü münasebetiyle, Türkiye’deki tüm derneklerin ve 8 federasyonun katılımıyla gerçekleşen sempozyumdan resimler.   \n",
       "4                                                                                                                                                                                                            Hakemler tarih yazıyorlar / 9 kişiye karşı 3-2 önde olacak alanyasporu kaybettirdi   \n",
       "...                                                                                                                                                                                                                                                                                         ...   \n",
       "42393                                                                                                                                                               Takım otobüsüne saldırmak nedir ulan şerefini siktiğimin dürzüleri İstanbul'a geldiğinizde insallah ananızın amını sikerler   \n",
       "42394                                                                                                                                                     @nightmareess_ Aynı bu şekldiyedim ya  başlicam yapacağınız oyuna parkur olsa Atakan hepsinden önce gelirdi zaten başlarım su oyununa   \n",
       "42395                                                                                                                                                                                                                             @prodbyjaysou @kkesbekes ya kaybol twitimden koduğumun ergeni   \n",
       "42396                                                                                                                  @82_6363AB Ben hdpliyim ve vermeyecem ama akp zaten söz konusuda olamaz,evimde otururum oy kullanmam amq.Ben kürt değilim ama kürtleri kullanan zihniyetten tiksiniyorum   \n",
       "42397                                                                                                                                                                                                                                                              Bi airdrop sapığı eksikti aq   \n",
       "\n",
       "       label  \n",
       "0          0  \n",
       "1          0  \n",
       "2          0  \n",
       "3          0  \n",
       "4          1  \n",
       "...      ...  \n",
       "42393      1  \n",
       "42394      1  \n",
       "42395      1  \n",
       "42396      1  \n",
       "42397      1  \n",
       "\n",
       "[42398 rows x 2 columns]"
      ]
     },
     "execution_count": 3,
     "metadata": {},
     "output_type": "execute_result"
    }
   ],
   "source": [
    "df = pd.read_csv('datasets/turkish_dataset/train.csv')\n",
    "df\n",
    "df = df.drop(\"id\",axis=1)\n",
    "df\n"
   ]
  },
  {
   "cell_type": "code",
   "execution_count": 4,
   "id": "8485c6a6-5cfb-4a8b-9e4c-579fa0f67849",
   "metadata": {},
   "outputs": [
    {
     "name": "stdout",
     "output_type": "stream",
     "text": [
      "Train labels:\n",
      " label\n",
      "0    13553\n",
      "1    11885\n",
      "Name: count, dtype: int64\n",
      "Validation labels:\n",
      " label\n",
      "0    4518\n",
      "1    3962\n",
      "Name: count, dtype: int64\n",
      "Test labels:\n",
      " label\n",
      "0    4518\n",
      "1    3962\n",
      "Name: count, dtype: int64\n"
     ]
    }
   ],
   "source": [
    "from sklearn.model_selection import train_test_split\n",
    "\n",
    "# Veri ve etiketleri ayır\n",
    "X = df.drop(columns=['label'])  # Özellik sütunları\n",
    "y = df['label']  # Etiket sütunu\n",
    "\n",
    "# Önce Test setini ayır (örneğin, %20 test)\n",
    "train_X, test_X, train_y, test_y = train_test_split(X, y, test_size=0.2, stratify=y, random_state=42)\n",
    "\n",
    "# Sonra Train setinden Validation setini ayır (örneğin, %25 validation)\n",
    "train_X, val_X, train_y, val_y = train_test_split(train_X, train_y, test_size=0.25, stratify=train_y, random_state=42)\n",
    "\n",
    "# DataFrame'leri tekrar oluştur\n",
    "train = train_X.copy()\n",
    "train['label'] = train_y\n",
    "\n",
    "val = val_X.copy()\n",
    "val['label'] = val_y\n",
    "\n",
    "test = test_X.copy()\n",
    "test['label'] = test_y\n",
    "\n",
    "# Kontrol için etiket dağılımını yazdır\n",
    "print(\"Train labels:\\n\", train['label'].value_counts())\n",
    "print(\"Validation labels:\\n\", val['label'].value_counts())\n",
    "print(\"Test labels:\\n\", test['label'].value_counts())\n"
   ]
  },
  {
   "cell_type": "code",
   "execution_count": 5,
   "id": "9b51eed2-0530-467f-aca8-ecc976a47456",
   "metadata": {},
   "outputs": [
    {
     "data": {
      "image/png": "[encoded data removed]",
      "text/plain": [
       "<Figure size 640x480 with 1 Axes>"
      ]
     },
     "metadata": {},
     "output_type": "display_data"
    }
   ],
   "source": [
    "colors=['yellow', 'steelblue']\n",
    "cmap = plt.cm.prism\n",
    "plt.pie(train['label'].value_counts(),\n",
    "            labels=[\"Not Toxic\", \"Toxic\"],\n",
    "            autopct='%1.2f%%',\n",
    "            shadow=True,\n",
    "            colors=colors,\n",
    "            explode=(0.05, 0.05))\n",
    "plt.title('Distribution of the Tweets', fontsize=14)\n",
    "plt.show()"
   ]
  },
  {
   "cell_type": "code",
   "execution_count": 6,
   "id": "2132357c-fcfb-4e1a-8421-48c9155a4c76",
   "metadata": {},
   "outputs": [
    {
     "name": "stdout",
     "output_type": "stream",
     "text": [
      "Number of replicas: 1\n"
     ]
    }
   ],
   "source": [
    "import os \n",
    "os.environ[\"4fa48c6b06d69a0e0ed7939463282c7bb98c4e37\"] = \"0\" ## to silence warning\n",
    "\n",
    "try:\n",
    "    tpu = tf.distribute.cluster_resolver.TPUClusterResolver()\n",
    "    tf.config.experimental_connect_to_cluster(tpu)\n",
    "    tf.tpu.experimental.initialize_tpu_system(tpu)\n",
    "    strategy = tf.distribute.experimental.TPUStrategy(tpu)\n",
    "except ValueError:\n",
    "    strategy = tf.distribute.get_strategy() # for CPU and single GPU\n",
    "    print('Number of replicas:', strategy.num_replicas_in_sync)"
   ]
  },
  {
   "cell_type": "code",
   "execution_count": 7,
   "id": "af7fa513-0026-4158-b96a-51b539be9e58",
   "metadata": {},
   "outputs": [],
   "source": [
    "max_length = 200\n",
    "batch_size = 128"
   ]
  },
  {
   "cell_type": "code",
   "execution_count": 8,
   "id": "6c4de12c-2c85-46f5-bd48-ce8b6c97117b",
   "metadata": {},
   "outputs": [],
   "source": [
    "from transformers import AutoModel, AutoTokenizer\n",
    "\n",
    "model_name = \"dbmdz/bert-base-turkish-128k-uncased\"\n",
    "tokenizer = AutoTokenizer.from_pretrained(model_name)\n",
    "model = AutoModel.from_pretrained(model_name)"
   ]
  },
  {
   "cell_type": "code",
   "execution_count": 9,
   "id": "7162d301-4afb-4b09-a84e-3efa4a5b486c",
   "metadata": {},
   "outputs": [],
   "source": [
    "def bert_encode(data):\n",
    "    tokens = tokenizer.batch_encode_plus(data.tolist(),  # <- Listeye çeviriyoruz\n",
    "                                         max_length=max_length, \n",
    "                                         padding='max_length', \n",
    "                                         truncation=True)\n",
    "    return tf.constant(tokens['input_ids'])\n",
    "\n",
    "train_encoded = bert_encode(train.text)  # train.text -> Listeye çevrildi\n",
    "val_encoded = bert_encode(val.text)      # val.text -> Listeye çevrildi\n"
   ]
  },
  {
   "cell_type": "code",
   "execution_count": 10,
   "id": "802ee20b-865b-41af-9c9a-b70d31a27483",
   "metadata": {},
   "outputs": [],
   "source": [
    "train_encoded = bert_encode(train.text)\n",
    "val_encoded = bert_encode(val.text)\n",
    "\n",
    "train_dataset = (\n",
    "    tf.data.Dataset\n",
    "    .from_tensor_slices((train_encoded, train.label))\n",
    "    .shuffle(64)\n",
    "    .batch(batch_size)\n",
    ")\n",
    "\n",
    "val_dataset = (\n",
    "    tf.data.Dataset\n",
    "   .from_tensor_slices((val_encoded, val.label))\n",
    "   .shuffle(64)\n",
    "   .batch(batch_size)\n",
    ")"
   ]
  },
  {
   "cell_type": "code",
   "execution_count": 11,
   "id": "413ffbb4-9a68-4e61-a78a-ca0ac5465de1",
   "metadata": {},
   "outputs": [],
   "source": [
    "def model():\n",
    "    \n",
    "    bert_encoder = TFBertModel.from_pretrained(model_name)\n",
    "    input_word_ids = Input(shape=(max_length,), dtype=tf.int32, name=\"input_ids\")\n",
    "    last_hidden_states = bert_encoder(input_word_ids)[0]\n",
    "    x = SpatialDropout1D(0.2)(last_hidden_states)\n",
    "    x = Conv1D(32, 3, activation='relu', padding='same')(x)\n",
    "    x = Bidirectional(LSTM(100, dropout=0.2, recurrent_dropout=0.2))(x)\n",
    "    x = Dropout(0.1)(x)\n",
    "    outputs = Dense(1, activation='sigmoid')(x)\n",
    "    model = Model(input_word_ids, outputs)\n",
    "    \n",
    "    return model"
   ]
  },
  {
   "cell_type": "code",
   "execution_count": 12,
   "id": "33d6ef34-ea13-48f3-8af8-7ff1b19ecaff",
   "metadata": {},
   "outputs": [
    {
     "name": "stdout",
     "output_type": "stream",
     "text": [
      "WARNING:tensorflow:From C:\\Users\\pahstoner\\anaconda3\\Lib\\site-packages\\tf_keras\\src\\backend.py:873: The name tf.get_default_graph is deprecated. Please use tf.compat.v1.get_default_graph instead.\n",
      "\n"
     ]
    },
    {
     "name": "stderr",
     "output_type": "stream",
     "text": [
      "Some weights of the PyTorch model were not used when initializing the TF 2.0 model TFBertModel: ['cls.predictions.transform.LayerNorm.weight', 'cls.seq_relationship.bias', 'cls.predictions.transform.LayerNorm.bias', 'cls.predictions.transform.dense.weight', 'cls.predictions.bias', 'cls.predictions.transform.dense.bias', 'cls.seq_relationship.weight']\n",
      "- This IS expected if you are initializing TFBertModel from a PyTorch model trained on another task or with another architecture (e.g. initializing a TFBertForSequenceClassification model from a BertForPreTraining model).\n",
      "- This IS NOT expected if you are initializing TFBertModel from a PyTorch model that you expect to be exactly identical (e.g. initializing a TFBertForSequenceClassification model from a BertForSequenceClassification model).\n",
      "All the weights of TFBertModel were initialized from the PyTorch model.\n",
      "If your task is similar to the task the model of the checkpoint was trained on, you can already use TFBertModel for predictions without further training.\n"
     ]
    },
    {
     "ename": "ValueError",
     "evalue": "Exception encountered when calling layer 'tf_bert_model' (type TFBertModel).\n\nData of type <class 'keras.src.backend.common.keras_tensor.KerasTensor'> is not allowed only (<class 'tensorflow.python.framework.tensor.Tensor'>, <class 'bool'>, <class 'int'>, <class 'transformers.utils.generic.ModelOutput'>, <class 'tuple'>, <class 'list'>, <class 'dict'>, <class 'numpy.ndarray'>) is accepted for input_ids.\n\nCall arguments received by layer 'tf_bert_model' (type TFBertModel):\n  • input_ids=<KerasTensor shape=(None, 200), dtype=int32, sparse=False, name=input_ids>\n  • attention_mask=None\n  • token_type_ids=None\n  • position_ids=None\n  • head_mask=None\n  • inputs_embeds=None\n  • encoder_hidden_states=None\n  • encoder_attention_mask=None\n  • past_key_values=None\n  • use_cache=None\n  • output_attentions=None\n  • output_hidden_states=None\n  • return_dict=None\n  • training=False",
     "output_type": "error",
     "traceback": [
      "\u001b[1;31m---------------------------------------------------------------------------\u001b[0m",
      "\u001b[1;31mValueError\u001b[0m                                Traceback (most recent call last)",
      "Cell \u001b[1;32mIn[12], line 2\u001b[0m\n\u001b[0;32m      1\u001b[0m \u001b[38;5;28;01mwith\u001b[39;00m strategy\u001b[38;5;241m.\u001b[39mscope():\n\u001b[1;32m----> 2\u001b[0m     model \u001b[38;5;241m=\u001b[39m model()\n\u001b[0;32m      3\u001b[0m     adam_optimizer \u001b[38;5;241m=\u001b[39m tf\u001b[38;5;241m.\u001b[39mkeras\u001b[38;5;241m.\u001b[39moptimizers\u001b[38;5;241m.\u001b[39mAdam(learning_rate\u001b[38;5;241m=\u001b[39m\u001b[38;5;241m1e-5\u001b[39m)\n\u001b[0;32m      4\u001b[0m     model\u001b[38;5;241m.\u001b[39mcompile(loss\u001b[38;5;241m=\u001b[39m\u001b[38;5;124m'\u001b[39m\u001b[38;5;124mbinary_crossentropy\u001b[39m\u001b[38;5;124m'\u001b[39m , optimizer\u001b[38;5;241m=\u001b[39madam_optimizer, metrics\u001b[38;5;241m=\u001b[39m[\u001b[38;5;124m'\u001b[39m\u001b[38;5;124maccuracy\u001b[39m\u001b[38;5;124m'\u001b[39m])\n",
      "Cell \u001b[1;32mIn[11], line 5\u001b[0m, in \u001b[0;36mmodel\u001b[1;34m()\u001b[0m\n\u001b[0;32m      3\u001b[0m bert_encoder \u001b[38;5;241m=\u001b[39m TFBertModel\u001b[38;5;241m.\u001b[39mfrom_pretrained(model_name)\n\u001b[0;32m      4\u001b[0m input_word_ids \u001b[38;5;241m=\u001b[39m Input(shape\u001b[38;5;241m=\u001b[39m(max_length,), dtype\u001b[38;5;241m=\u001b[39mtf\u001b[38;5;241m.\u001b[39mint32, name\u001b[38;5;241m=\u001b[39m\u001b[38;5;124m\"\u001b[39m\u001b[38;5;124minput_ids\u001b[39m\u001b[38;5;124m\"\u001b[39m)\n\u001b[1;32m----> 5\u001b[0m last_hidden_states \u001b[38;5;241m=\u001b[39m bert_encoder(input_word_ids)[\u001b[38;5;241m0\u001b[39m]\n\u001b[0;32m      6\u001b[0m x \u001b[38;5;241m=\u001b[39m SpatialDropout1D(\u001b[38;5;241m0.2\u001b[39m)(last_hidden_states)\n\u001b[0;32m      7\u001b[0m x \u001b[38;5;241m=\u001b[39m Conv1D(\u001b[38;5;241m32\u001b[39m, \u001b[38;5;241m3\u001b[39m, activation\u001b[38;5;241m=\u001b[39m\u001b[38;5;124m'\u001b[39m\u001b[38;5;124mrelu\u001b[39m\u001b[38;5;124m'\u001b[39m, padding\u001b[38;5;241m=\u001b[39m\u001b[38;5;124m'\u001b[39m\u001b[38;5;124msame\u001b[39m\u001b[38;5;124m'\u001b[39m)(x)\n",
      "File \u001b[1;32m~\\anaconda3\\Lib\\site-packages\\tf_keras\\src\\utils\\traceback_utils.py:70\u001b[0m, in \u001b[0;36mfilter_traceback.<locals>.error_handler\u001b[1;34m(*args, **kwargs)\u001b[0m\n\u001b[0;32m     67\u001b[0m     filtered_tb \u001b[38;5;241m=\u001b[39m _process_traceback_frames(e\u001b[38;5;241m.\u001b[39m__traceback__)\n\u001b[0;32m     68\u001b[0m     \u001b[38;5;66;03m# To get the full stack trace, call:\u001b[39;00m\n\u001b[0;32m     69\u001b[0m     \u001b[38;5;66;03m# `tf.debugging.disable_traceback_filtering()`\u001b[39;00m\n\u001b[1;32m---> 70\u001b[0m     \u001b[38;5;28;01mraise\u001b[39;00m e\u001b[38;5;241m.\u001b[39mwith_traceback(filtered_tb) \u001b[38;5;28;01mfrom\u001b[39;00m \u001b[38;5;28;01mNone\u001b[39;00m\n\u001b[0;32m     71\u001b[0m \u001b[38;5;28;01mfinally\u001b[39;00m:\n\u001b[0;32m     72\u001b[0m     \u001b[38;5;28;01mdel\u001b[39;00m filtered_tb\n",
      "File \u001b[1;32m~\\anaconda3\\Lib\\site-packages\\transformers\\modeling_tf_utils.py:436\u001b[0m, in \u001b[0;36munpack_inputs.<locals>.run_call_with_unpacked_inputs\u001b[1;34m(self, *args, **kwargs)\u001b[0m\n\u001b[0;32m    433\u001b[0m \u001b[38;5;28;01melse\u001b[39;00m:\n\u001b[0;32m    434\u001b[0m     config \u001b[38;5;241m=\u001b[39m \u001b[38;5;28mself\u001b[39m\u001b[38;5;241m.\u001b[39mconfig\n\u001b[1;32m--> 436\u001b[0m unpacked_inputs \u001b[38;5;241m=\u001b[39m input_processing(func, config, \u001b[38;5;241m*\u001b[39m\u001b[38;5;241m*\u001b[39mfn_args_and_kwargs)\n\u001b[0;32m    437\u001b[0m \u001b[38;5;28;01mreturn\u001b[39;00m func(\u001b[38;5;28mself\u001b[39m, \u001b[38;5;241m*\u001b[39m\u001b[38;5;241m*\u001b[39munpacked_inputs)\n",
      "File \u001b[1;32m~\\anaconda3\\Lib\\site-packages\\transformers\\modeling_tf_utils.py:566\u001b[0m, in \u001b[0;36minput_processing\u001b[1;34m(func, config, **kwargs)\u001b[0m\n\u001b[0;32m    564\u001b[0m         output[main_input_name] \u001b[38;5;241m=\u001b[39m main_input\n\u001b[0;32m    565\u001b[0m     \u001b[38;5;28;01melse\u001b[39;00m:\n\u001b[1;32m--> 566\u001b[0m         \u001b[38;5;28;01mraise\u001b[39;00m \u001b[38;5;167;01mValueError\u001b[39;00m(\n\u001b[0;32m    567\u001b[0m             \u001b[38;5;124mf\u001b[39m\u001b[38;5;124m\"\u001b[39m\u001b[38;5;124mData of type \u001b[39m\u001b[38;5;132;01m{\u001b[39;00m\u001b[38;5;28mtype\u001b[39m(main_input)\u001b[38;5;132;01m}\u001b[39;00m\u001b[38;5;124m is not allowed only \u001b[39m\u001b[38;5;132;01m{\u001b[39;00mallowed_types\u001b[38;5;132;01m}\u001b[39;00m\u001b[38;5;124m is accepted for\u001b[39m\u001b[38;5;124m\"\u001b[39m\n\u001b[0;32m    568\u001b[0m             \u001b[38;5;124mf\u001b[39m\u001b[38;5;124m\"\u001b[39m\u001b[38;5;124m \u001b[39m\u001b[38;5;132;01m{\u001b[39;00mmain_input_name\u001b[38;5;132;01m}\u001b[39;00m\u001b[38;5;124m.\u001b[39m\u001b[38;5;124m\"\u001b[39m\n\u001b[0;32m    569\u001b[0m         )\n\u001b[0;32m    571\u001b[0m \u001b[38;5;66;03m# Populates any unspecified argument with their default value, according to the signature.\u001b[39;00m\n\u001b[0;32m    572\u001b[0m \u001b[38;5;28;01mfor\u001b[39;00m name \u001b[38;5;129;01min\u001b[39;00m parameter_names:\n",
      "\u001b[1;31mValueError\u001b[0m: Exception encountered when calling layer 'tf_bert_model' (type TFBertModel).\n\nData of type <class 'keras.src.backend.common.keras_tensor.KerasTensor'> is not allowed only (<class 'tensorflow.python.framework.tensor.Tensor'>, <class 'bool'>, <class 'int'>, <class 'transformers.utils.generic.ModelOutput'>, <class 'tuple'>, <class 'list'>, <class 'dict'>, <class 'numpy.ndarray'>) is accepted for input_ids.\n\nCall arguments received by layer 'tf_bert_model' (type TFBertModel):\n  • input_ids=<KerasTensor shape=(None, 200), dtype=int32, sparse=False, name=input_ids>\n  • attention_mask=None\n  • token_type_ids=None\n  • position_ids=None\n  • head_mask=None\n  • inputs_embeds=None\n  • encoder_hidden_states=None\n  • encoder_attention_mask=None\n  • past_key_values=None\n  • use_cache=None\n  • output_attentions=None\n  • output_hidden_states=None\n  • return_dict=None\n  • training=False"
     ]
    }
   ],
   "source": [
    "with strategy.scope():\n",
    "    model = model()\n",
    "    adam_optimizer = tf.keras.optimizers.Adam(learning_rate=1e-5)\n",
    "    model.compile(loss='binary_crossentropy' , optimizer=adam_optimizer, metrics=['accuracy'])\n",
    "    model.summary()"
   ]
  },
  {
   "cell_type": "code",
   "execution_count": null,
   "id": "f68c570a-c6a9-4e4c-9e5b-9f32f777bb9a",
   "metadata": {},
   "outputs": [],
   "source": [
    "from tensorflow.keras.callbacks import ReduceLROnPlateau, EarlyStopping\n",
    "\n",
    "callbacks = [ReduceLROnPlateau(monitor='val_loss', patience=5, cooldown=0),\n",
    "              EarlyStopping(monitor='val_acc', min_delta=1e-5, patience=5)]"
   ]
  },
  {
   "cell_type": "code",
   "execution_count": null,
   "id": "fe5b799e-5283-4ec5-804f-96544e2a9233",
   "metadata": {},
   "outputs": [],
   "source": [
    "# Start train\n",
    "history = model.fit(\n",
    "    train_dataset,\n",
    "    batch_size=batch_size,\n",
    "    epochs=8,\n",
    "    validation_data=val_dataset,\n",
    "    verbose=1,\n",
    "    callbacks = callbacks)"
   ]
  },
  {
   "cell_type": "code",
   "execution_count": null,
   "id": "81b7b1fb-9206-45c3-944a-27c1ec33a8a6",
   "metadata": {},
   "outputs": [],
   "source": [
    "model.save_weights(f'offensive_weights_new_train.h5')\n"
   ]
  },
  {
   "cell_type": "code",
   "execution_count": null,
   "id": "4df6f859-75e2-401a-b16a-3f946e2f5eb8",
   "metadata": {},
   "outputs": [],
   "source": [
    "def plot_graphs(history, string):\n",
    "    plt.plot(history.history[string])\n",
    "    plt.plot(history.history['val_'+string])\n",
    "    plt.xlabel(\"Epochs\")\n",
    "    plt.ylabel(string)\n",
    "    plt.legend([string, 'val_'+string])\n",
    "    plt.show()\n",
    "plot_graphs(history, \"accuracy\")\n",
    "plot_graphs(history, \"loss\")"
   ]
  },
  {
   "cell_type": "code",
   "execution_count": null,
   "id": "6384254e-fa63-4e55-aa9d-4ec28a7f5474",
   "metadata": {},
   "outputs": [],
   "source": [
    "model.load_weights('offensive_weights_new_train.h5')\n"
   ]
  },
  {
   "cell_type": "code",
   "execution_count": null,
   "id": "d77ea194-f183-4318-8d5d-3fc19d95b929",
   "metadata": {},
   "outputs": [],
   "source": [
    "model.summary()\n"
   ]
  },
  {
   "cell_type": "code",
   "execution_count": null,
   "id": "117aa43b-016d-4825-b031-68a19c503b54",
   "metadata": {},
   "outputs": [],
   "source": [
    "from sklearn.metrics import plot_confusion_matrix\n"
   ]
  },
  {
   "cell_type": "code",
   "execution_count": null,
   "id": "77cdeed4-c8f4-4f49-9b8e-e5e9797cabc0",
   "metadata": {},
   "outputs": [],
   "source": [
    "test_encoded = bert_encode(test.text)\n",
    "\n",
    "test_dataset = (\n",
    "    tf.data.Dataset\n",
    "    .from_tensor_slices(test_encoded)\n",
    "    .batch(batch_size)\n",
    ")"
   ]
  },
  {
   "cell_type": "code",
   "execution_count": null,
   "id": "704b95a8-deae-4ce6-a3ab-14353e04467a",
   "metadata": {},
   "outputs": [],
   "source": [
    "pred = model.predict(test_dataset, batch_size=batch_size)\n",
    "y_pred = tf.cast(tf.round(pred), tf.int32).numpy().flatten()\n",
    "\n",
    "print('Precision: %.4f' % precision_score(test.label, y_pred))\n",
    "print('Recall: %.4f' % recall_score(test.label, y_pred))\n",
    "print('Accuracy: %.4f' % accuracy_score(test.label, y_pred))\n",
    "print('F1 Score: %.4f' % f1_score(test.label, y_pred))\n",
    "print(classification_report(test.label, y_pred))"
   ]
  },
  {
   "cell_type": "code",
   "execution_count": null,
   "id": "daa5e06a-8c00-4bb9-ad1c-64892ce72fca",
   "metadata": {},
   "outputs": [],
   "source": [
    "def plot_confusion_matrix(cm, classes,\n",
    "                          title='Confusion matrix',\n",
    "                          cmap=plt.cm.Blues):\n",
    "    \"\"\"\n",
    "    This function prints and plots the confusion matrix.\n",
    "    Normalization can be applied by setting `normalize=True`.\n",
    "    \"\"\"\n",
    "\n",
    "    cm = cm.astype('float') / cm.sum(axis=1)[:, np.newaxis]\n",
    "\n",
    "    plt.imshow(cm, interpolation='nearest', cmap=cmap)\n",
    "    plt.title(title, fontsize=20)\n",
    "    plt.colorbar()\n",
    "    tick_marks = np.arange(len(classes))\n",
    "    plt.xticks(tick_marks, classes, rotation=90, fontsize=16)\n",
    "    plt.yticks(tick_marks, classes, fontsize=16)\n",
    "\n",
    "    fmt = '.2f'\n",
    "    thresh = cm.max() / 2.\n",
    "    for i, j in itertools.product(range(cm.shape[0]), range(cm.shape[1])):\n",
    "        plt.text(j, i, format(cm[i, j], fmt),\n",
    "                 horizontalalignment=\"center\",\n",
    "                 color=\"white\" if cm[i, j] > thresh else \"black\")\n",
    "\n",
    "    plt.ylabel('True label', fontsize=12)\n",
    "    plt.xlabel('Predicted label', fontsize=12)"
   ]
  },
  {
   "cell_type": "code",
   "execution_count": null,
   "id": "98e388a3-1458-48ab-9619-ce31544cc1fc",
   "metadata": {},
   "outputs": [],
   "source": [
    "import itertools\n",
    "cnf_matrix = confusion_matrix(test.label, y_pred)\n",
    "plt.figure(figsize=(6,6))\n",
    "plot_confusion_matrix(cnf_matrix, classes=train.label.unique(),cmap=\"Greens\", title=\"Confusion matrix\")\n",
    "plt.show()"
   ]
  }
 ],
 "metadata": {
  "kernelspec": {
   "display_name": "Python 3 (ipykernel)",
   "language": "python",
   "name": "python3"
  },
  "language_info": {
   "codemirror_mode": {
    "name": "ipython",
    "version": 3
   },
   "file_extension": ".py",
   "mimetype": "text/x-python",
   "name": "python",
   "nbconvert_exporter": "python",
   "pygments_lexer": "ipython3",
   "version": "3.12.4"
  }
 },
 "nbformat": 4,
 "nbformat_minor": 5
}
