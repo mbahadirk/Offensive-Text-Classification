{
 "cells": [
  {
   "cell_type": "code",
   "execution_count": 1,
   "id": "e642f6b8-8fc1-441f-93c5-cb255c0174a1",
   "metadata": {},
   "outputs": [],
   "source": [
    "import pandas as pd\n",
    "import numpy as np\n",
    "from tqdm import tqdm\n",
    "import copy\n",
    "import matplotlib.pyplot as plt\n",
    "from sklearn.model_selection import train_test_split\n",
    "from sklearn.feature_extraction.text import CountVectorizer # Bag of Words için\n",
    "from sklearn.feature_extraction.text import TfidfVectorizer\n",
    "from sklearn.linear_model import LogisticRegression\n",
    "from sklearn.metrics import classification_report, accuracy_score, confusion_matrix, ConfusionMatrixDisplay\n",
    "from sklearn.svm import SVC\n",
    "from sklearn.metrics import classification_report, accuracy_score\n",
    "from sklearn.naive_bayes import GaussianNB, MultinomialNB\n",
    "from sklearn.tree import DecisionTreeClassifier\n",
    "from sklearn.neighbors import KNeighborsClassifier\n",
    "from sklearn.ensemble import RandomForestClassifier\n",
    "from sklearn.model_selection import GridSearchCV\n",
    "import joblib\n",
    "import os"
   ]
  },
  {
   "cell_type": "code",
   "execution_count": 2,
   "id": "b270ae2d-08c8-4a16-b861-94402eb82999",
   "metadata": {},
   "outputs": [],
   "source": [
    "def load_dataset(path, rows=2000):\n",
    "    df = pd.read_csv(path)\n",
    "    df = df.drop(columns=['id', 'text'])\n",
    "    X = df['roots']\n",
    "    y = df['label']\n",
    "    df = df.head(rows)\n",
    "    return X, y, df"
   ]
  },
  {
   "cell_type": "code",
   "execution_count": 3,
   "id": "9c135baa-3d53-43fd-821b-c208a0c80e12",
   "metadata": {},
   "outputs": [],
   "source": [
    "def classify(X, y, modelType=\"SVM\", vectorizerType=\"BOW\", save=False ):\n",
    "    # Eğitim ve test veri setlerini ayır\n",
    "    X_train, X_test, y_train, y_test = train_test_split(X, y, test_size=0.3, random_state=42)\n",
    "\n",
    "    # Eksik verileri doldur\n",
    "    X_train = np.where(pd.isna(X_train), '', X_train)\n",
    "    X_test = np.where(pd.isna(X_test), '', X_test)\n",
    "\n",
    "    if(vectorizerType==\"BOW\"):\n",
    "        # Bag of Words vektörleştirme\n",
    "        vectorizer = CountVectorizer()\n",
    "        #vectorizer = CountVectorizer(max_features=500)   # Bag of Words için CountVectorizer kullanıyoruz\n",
    "        X_train_vectorized = vectorizer.fit_transform(X_train)\n",
    "        X_test_vectorized = vectorizer.transform(X_test)\n",
    "    elif(vectorizerType==\"TF\"):\n",
    "        # Vectorize the text data using TF-IDF\n",
    "        vectorizer = TfidfVectorizer()\n",
    "        X_train_vectorized = vectorizer.fit_transform(X_train)\n",
    "        X_test_vectorized = vectorizer.transform(X_test)\n",
    "    else:\n",
    "        print(\"Yanlis vectorizer adi!\")\n",
    "        return\n",
    "\n",
    "    # Initialize Model\n",
    "    classifier = None\n",
    "    if(modelType==\"SVM\"):\n",
    "        # Create and train the SVM model\n",
    "        classifier = SVC(kernel='linear', probability=True, max_iter = 5000, tol=0.001)\n",
    "        params = {'C': [0.1, 1, 10], 'kernel': ['linear', 'rbf'], 'gamma': [0.001, 0.01, 0.1]}\n",
    "        classifier = GridSearchCV(SVC(), params, cv=3, n_jobs=4)\n",
    "    elif(modelType==\"LR\"):\n",
    "        # Logistic Regression modelini oluştur ve eğit\n",
    "        classifier = LogisticRegression(max_iter=1000)\n",
    "        params = {'C': [0.1, 1, 10], 'penalty': ['l2'], 'solver': ['newton-cg', 'saga']}\n",
    "        classifier = GridSearchCV(LogisticRegression(), params, cv=3, n_jobs=4)\n",
    "    elif(modelType==\"MNB\"):\n",
    "        #MultinomialNB modeli\n",
    "        classifier = MultinomialNB()\n",
    "        params = {'alpha': [0.1, 0.7, 1.0, 2.0]}\n",
    "        classifier = GridSearchCV(MultinomialNB(), params, cv=3, n_jobs=4)\n",
    "    elif (modelType == \"DT\"):\n",
    "        # Decision Tree modeli\n",
    "        classifier = DecisionTreeClassifier(random_state=42)\n",
    "        params = {'criterion': ['gini', 'entropy'], 'max_depth': [10, 50, 100], 'min_samples_split': [2, 5, 10]}\n",
    "        classifier = GridSearchCV(DecisionTreeClassifier(), params, cv=3, n_jobs=4)\n",
    "    elif (modelType == \"KNN\"):\n",
    "        # K-Neighbors modeli\n",
    "        classifier = KNeighborsClassifier()\n",
    "        params = {'n_neighbors': [3, 5, 7, 9], 'weights': ['uniform', 'distance'], 'metric': ['euclidean', 'manhattan']}\n",
    "        classifier = GridSearchCV(KNeighborsClassifier(), params, cv=3, n_jobs=4)\n",
    "    elif (modelType == \"RF\"):\n",
    "        # Random Forest modeli\n",
    "        classifier = RandomForestClassifier(random_state=42)\n",
    "        params = {'n_estimators': [50, 100, 150], 'criterion': ['gini', 'entropy'], 'max_depth': [10, 50, 100]}\n",
    "        classifier = GridSearchCV(RandomForestClassifier(), params, cv=3, n_jobs=4)\n",
    "        \n",
    "    else:\n",
    "        print(\"Yanlis model adi!\")\n",
    "        return\n",
    "\n",
    "    classifier.fit(X_train_vectorized, y_train)\n",
    "    # Make predictions\n",
    "    y_pred = classifier.predict(X_test_vectorized)\n",
    "\n",
    "    print(\"\\nModel Performansi:\")\n",
    "    print(\"Accuracy:\", accuracy_score(y_test, y_pred))\n",
    "    print(classification_report(y_test, y_pred))\n",
    "    \n",
    "    save_path = f'models/{modelType}_{vectorizerType}'\n",
    "    model_path = f'{save_path}_model.pkl'\n",
    "    vectorizer_path = f'{save_path}_vectorizer.pkl'\n",
    "\n",
    "    # Modeli kaydetme\n",
    "    if save:\n",
    "        with open(model_path, 'wb') as file:\n",
    "            pickle.dump(model, file)\n",
    "            \n",
    "        with open(vectorizer_path, 'wb') as vectorizer_file:\n",
    "            pickle.dump(vectorizer, vectorizer_file)\n",
    "\n",
    "    return y_test, y_pred, classifier"
   ]
  },
  {
   "cell_type": "code",
   "execution_count": 4,
   "id": "f88fe998-3602-4d1d-aeb7-773c06b228fd",
   "metadata": {},
   "outputs": [],
   "source": [
    "def create_matrix(y_test, y_pred, classifier):\n",
    "    cm = confusion_matrix(y_test, y_pred)\n",
    "    disp = ConfusionMatrixDisplay(confusion_matrix=cm, display_labels=classifier.classes_)\n",
    "    disp.plot(cmap=plt.cm.Blues)\n",
    "    plt.title(\"Confusion Matrix\")\n",
    "    plt.show()"
   ]
  },
  {
   "cell_type": "code",
   "execution_count": null,
   "id": "fc372b1a-3654-466f-a64e-0b20058f6157",
   "metadata": {},
   "outputs": [
    {
     "name": "stdout",
     "output_type": "stream",
     "text": [
      "\n",
      "Veri yuklendi!\n",
      "\n",
      "Model isleniyor...\n"
     ]
    }
   ],
   "source": [
    "if __name__ == \"__main__\":\n",
    "    X, y, df = load_dataset(path  = 'datasets/turkish_dataset/turkce_cumleler_kokler_corrected_50k.csv', rows = 2000)\n",
    "    print(\"\\nVeri yuklendi!\")\n",
    "    print(\"\\nModel isleniyor...\")\n",
    "    #y_test, y_pred, classifier = classify(X, y, \"LOG\", \"BOW\")\n",
    "    y_test, y_pred, classifier = classify(X, y, \"RF\", \"TF\", save=True) #Modeli kaydetmek için\n",
    "    #Modeller: SVM, LOG, MNB, DT, KNN, RF\n",
    "    #Vektörleştiriciler: BOW, TF\n",
    "    if y_test is not None and y_pred is not None:\n",
    "        create_matrix(y_test, y_pred, classifier)"
   ]
  },
  {
   "cell_type": "code",
   "execution_count": null,
   "id": "791734be-6e8a-447e-97d8-151c7bd7e780",
   "metadata": {},
   "outputs": [],
   "source": [
    "# Kaydedilen modeli yükleme\n",
    "# import joblib\n",
    "# loaded_model = joblib.load(\"svm_model.pkl\")\n",
    "# predictions = loaded_model.predict(new_data)"
   ]
  }
 ],
 "metadata": {
  "kernelspec": {
   "display_name": "Python 3 (ipykernel)",
   "language": "python",
   "name": "python3"
  },
  "language_info": {
   "codemirror_mode": {
    "name": "ipython",
    "version": 3
   },
   "file_extension": ".py",
   "mimetype": "text/x-python",
   "name": "python",
   "nbconvert_exporter": "python",
   "pygments_lexer": "ipython3",
   "version": "3.12.4"
  }
 },
 "nbformat": 4,
 "nbformat_minor": 5
}
