{
  "cells": [
    {
      "cell_type": "code",
      "execution_count": null,
      "metadata": {
        "id": "1MAnruLCmDAl"
      },
      "outputs": [],
      "source": [
        "# from google.colab import files\n",
        "\n",
        "# upload = files.upload()"
      ]
    },
    {
      "cell_type": "markdown",
      "metadata": {
        "id": "pa0ApCSXnrM6"
      },
      "source": [
        "# Importing Data"
      ]
    },
    {
      "cell_type": "code",
      "execution_count": null,
      "metadata": {
        "colab": {
          "base_uri": "https://localhost:8080/",
          "height": 206
        },
        "id": "YBYJbRj6mb_U",
        "outputId": "8bc4b034-4d15-4d01-8c1f-ef88b2b95c44"
      },
      "outputs": [
        {
          "data": {
            "application/vnd.google.colaboratory.intrinsic+json": {
              "summary": "{\n  \"name\": \"df\",\n  \"rows\": 42398,\n  \"fields\": [\n    {\n      \"column\": \"text\",\n      \"properties\": {\n        \"dtype\": \"string\",\n        \"num_unique_values\": 42141,\n        \"samples\": [\n          \"vay cakal erbakan kurdleri yillarca kandirmis demekki milli milli derken mhp gibiymis kodugumun turkcusu\",\n          \"amk ulkemizi ziyarete gelen cebelitarik vatandasindan bahsediyorlar sanki yabanci uyrukluymus amina kodugumun suriyelisi yazin gecin iste\",\n          \"wanyama neden olmasin beklemeye gectik\"\n        ],\n        \"semantic_type\": \"\",\n        \"description\": \"\"\n      }\n    },\n    {\n      \"column\": \"label\",\n      \"properties\": {\n        \"dtype\": \"number\",\n        \"std\": 0,\n        \"min\": 0,\n        \"max\": 1,\n        \"num_unique_values\": 2,\n        \"samples\": [\n          1,\n          0\n        ],\n        \"semantic_type\": \"\",\n        \"description\": \"\"\n      }\n    }\n  ]\n}",
              "type": "dataframe",
              "variable_name": "df"
            },
            "text/html": [
              "\n",
              "  <div id=\"df-438f60ce-ef44-4a68-bca0-3edfaac7048d\" class=\"colab-df-container\">\n",
              "    <div>\n",
              "<style scoped>\n",
              "    .dataframe tbody tr th:only-of-type {\n",
              "        vertical-align: middle;\n",
              "    }\n",
              "\n",
              "    .dataframe tbody tr th {\n",
              "        vertical-align: top;\n",
              "    }\n",
              "\n",
              "    .dataframe thead th {\n",
              "        text-align: right;\n",
              "    }\n",
              "</style>\n",
              "<table border=\"1\" class=\"dataframe\">\n",
              "  <thead>\n",
              "    <tr style=\"text-align: right;\">\n",
              "      <th></th>\n",
              "      <th>text</th>\n",
              "      <th>label</th>\n",
              "    </tr>\n",
              "  </thead>\n",
              "  <tbody>\n",
              "    <tr>\n",
              "      <th>0</th>\n",
              "      <td>gercekten sizin hikayelerinizi izleyerek mi ye...</td>\n",
              "      <td>0</td>\n",
              "    </tr>\n",
              "    <tr>\n",
              "      <th>1</th>\n",
              "      <td>coook cok bi baklava bi sen zaten</td>\n",
              "      <td>0</td>\n",
              "    </tr>\n",
              "    <tr>\n",
              "      <th>2</th>\n",
              "      <td>sn dukel ataturkun karma ile baslattigi siyasi...</td>\n",
              "      <td>0</td>\n",
              "    </tr>\n",
              "    <tr>\n",
              "      <th>3</th>\n",
              "      <td>konfederasyonumuzun aile ve sosyal politikalar...</td>\n",
              "      <td>0</td>\n",
              "    </tr>\n",
              "    <tr>\n",
              "      <th>4</th>\n",
              "      <td>hakemler tarih yaziyorlar kisiye karsi 32 onde...</td>\n",
              "      <td>1</td>\n",
              "    </tr>\n",
              "  </tbody>\n",
              "</table>\n",
              "</div>\n",
              "    <div class=\"colab-df-buttons\">\n",
              "\n",
              "  <div class=\"colab-df-container\">\n",
              "    <button class=\"colab-df-convert\" onclick=\"convertToInteractive('df-438f60ce-ef44-4a68-bca0-3edfaac7048d')\"\n",
              "            title=\"Convert this dataframe to an interactive table.\"\n",
              "            style=\"display:none;\">\n",
              "\n",
              "  <svg xmlns=\"http://www.w3.org/2000/svg\" height=\"24px\" viewBox=\"0 -960 960 960\">\n",
              "    <path d=\"M120-120v-720h720v720H120Zm60-500h600v-160H180v160Zm220 220h160v-160H400v160Zm0 220h160v-160H400v160ZM180-400h160v-160H180v160Zm440 0h160v-160H620v160ZM180-180h160v-160H180v160Zm440 0h160v-160H620v160Z\"/>\n",
              "  </svg>\n",
              "    </button>\n",
              "\n",
              "  <style>\n",
              "    .colab-df-container {\n",
              "      display:flex;\n",
              "      gap: 12px;\n",
              "    }\n",
              "\n",
              "    .colab-df-convert {\n",
              "      background-color: #E8F0FE;\n",
              "      border: none;\n",
              "      border-radius: 50%;\n",
              "      cursor: pointer;\n",
              "      display: none;\n",
              "      fill: #1967D2;\n",
              "      height: 32px;\n",
              "      padding: 0 0 0 0;\n",
              "      width: 32px;\n",
              "    }\n",
              "\n",
              "    .colab-df-convert:hover {\n",
              "      background-color: #E2EBFA;\n",
              "      box-shadow: 0px 1px 2px rgba(60, 64, 67, 0.3), 0px 1px 3px 1px rgba(60, 64, 67, 0.15);\n",
              "      fill: #174EA6;\n",
              "    }\n",
              "\n",
              "    .colab-df-buttons div {\n",
              "      margin-bottom: 4px;\n",
              "    }\n",
              "\n",
              "    [theme=dark] .colab-df-convert {\n",
              "      background-color: #3B4455;\n",
              "      fill: #D2E3FC;\n",
              "    }\n",
              "\n",
              "    [theme=dark] .colab-df-convert:hover {\n",
              "      background-color: #434B5C;\n",
              "      box-shadow: 0px 1px 3px 1px rgba(0, 0, 0, 0.15);\n",
              "      filter: drop-shadow(0px 1px 2px rgba(0, 0, 0, 0.3));\n",
              "      fill: #FFFFFF;\n",
              "    }\n",
              "  </style>\n",
              "\n",
              "    <script>\n",
              "      const buttonEl =\n",
              "        document.querySelector('#df-438f60ce-ef44-4a68-bca0-3edfaac7048d button.colab-df-convert');\n",
              "      buttonEl.style.display =\n",
              "        google.colab.kernel.accessAllowed ? 'block' : 'none';\n",
              "\n",
              "      async function convertToInteractive(key) {\n",
              "        const element = document.querySelector('#df-438f60ce-ef44-4a68-bca0-3edfaac7048d');\n",
              "        const dataTable =\n",
              "          await google.colab.kernel.invokeFunction('convertToInteractive',\n",
              "                                                    [key], {});\n",
              "        if (!dataTable) return;\n",
              "\n",
              "        const docLinkHtml = 'Like what you see? Visit the ' +\n",
              "          '<a target=\"_blank\" href=https://colab.research.google.com/notebooks/data_table.ipynb>data table notebook</a>'\n",
              "          + ' to learn more about interactive tables.';\n",
              "        element.innerHTML = '';\n",
              "        dataTable['output_type'] = 'display_data';\n",
              "        await google.colab.output.renderOutput(dataTable, element);\n",
              "        const docLink = document.createElement('div');\n",
              "        docLink.innerHTML = docLinkHtml;\n",
              "        element.appendChild(docLink);\n",
              "      }\n",
              "    </script>\n",
              "  </div>\n",
              "\n",
              "\n",
              "<div id=\"df-5430d245-dbac-4392-83f1-3ef4e09ab0e0\">\n",
              "  <button class=\"colab-df-quickchart\" onclick=\"quickchart('df-5430d245-dbac-4392-83f1-3ef4e09ab0e0')\"\n",
              "            title=\"Suggest charts\"\n",
              "            style=\"display:none;\">\n",
              "\n",
              "<svg xmlns=\"http://www.w3.org/2000/svg\" height=\"24px\"viewBox=\"0 0 24 24\"\n",
              "     width=\"24px\">\n",
              "    <g>\n",
              "        <path d=\"M19 3H5c-1.1 0-2 .9-2 2v14c0 1.1.9 2 2 2h14c1.1 0 2-.9 2-2V5c0-1.1-.9-2-2-2zM9 17H7v-7h2v7zm4 0h-2V7h2v10zm4 0h-2v-4h2v4z\"/>\n",
              "    </g>\n",
              "</svg>\n",
              "  </button>\n",
              "\n",
              "<style>\n",
              "  .colab-df-quickchart {\n",
              "      --bg-color: #E8F0FE;\n",
              "      --fill-color: #1967D2;\n",
              "      --hover-bg-color: #E2EBFA;\n",
              "      --hover-fill-color: #174EA6;\n",
              "      --disabled-fill-color: #AAA;\n",
              "      --disabled-bg-color: #DDD;\n",
              "  }\n",
              "\n",
              "  [theme=dark] .colab-df-quickchart {\n",
              "      --bg-color: #3B4455;\n",
              "      --fill-color: #D2E3FC;\n",
              "      --hover-bg-color: #434B5C;\n",
              "      --hover-fill-color: #FFFFFF;\n",
              "      --disabled-bg-color: #3B4455;\n",
              "      --disabled-fill-color: #666;\n",
              "  }\n",
              "\n",
              "  .colab-df-quickchart {\n",
              "    background-color: var(--bg-color);\n",
              "    border: none;\n",
              "    border-radius: 50%;\n",
              "    cursor: pointer;\n",
              "    display: none;\n",
              "    fill: var(--fill-color);\n",
              "    height: 32px;\n",
              "    padding: 0;\n",
              "    width: 32px;\n",
              "  }\n",
              "\n",
              "  .colab-df-quickchart:hover {\n",
              "    background-color: var(--hover-bg-color);\n",
              "    box-shadow: 0 1px 2px rgba(60, 64, 67, 0.3), 0 1px 3px 1px rgba(60, 64, 67, 0.15);\n",
              "    fill: var(--button-hover-fill-color);\n",
              "  }\n",
              "\n",
              "  .colab-df-quickchart-complete:disabled,\n",
              "  .colab-df-quickchart-complete:disabled:hover {\n",
              "    background-color: var(--disabled-bg-color);\n",
              "    fill: var(--disabled-fill-color);\n",
              "    box-shadow: none;\n",
              "  }\n",
              "\n",
              "  .colab-df-spinner {\n",
              "    border: 2px solid var(--fill-color);\n",
              "    border-color: transparent;\n",
              "    border-bottom-color: var(--fill-color);\n",
              "    animation:\n",
              "      spin 1s steps(1) infinite;\n",
              "  }\n",
              "\n",
              "  @keyframes spin {\n",
              "    0% {\n",
              "      border-color: transparent;\n",
              "      border-bottom-color: var(--fill-color);\n",
              "      border-left-color: var(--fill-color);\n",
              "    }\n",
              "    20% {\n",
              "      border-color: transparent;\n",
              "      border-left-color: var(--fill-color);\n",
              "      border-top-color: var(--fill-color);\n",
              "    }\n",
              "    30% {\n",
              "      border-color: transparent;\n",
              "      border-left-color: var(--fill-color);\n",
              "      border-top-color: var(--fill-color);\n",
              "      border-right-color: var(--fill-color);\n",
              "    }\n",
              "    40% {\n",
              "      border-color: transparent;\n",
              "      border-right-color: var(--fill-color);\n",
              "      border-top-color: var(--fill-color);\n",
              "    }\n",
              "    60% {\n",
              "      border-color: transparent;\n",
              "      border-right-color: var(--fill-color);\n",
              "    }\n",
              "    80% {\n",
              "      border-color: transparent;\n",
              "      border-right-color: var(--fill-color);\n",
              "      border-bottom-color: var(--fill-color);\n",
              "    }\n",
              "    90% {\n",
              "      border-color: transparent;\n",
              "      border-bottom-color: var(--fill-color);\n",
              "    }\n",
              "  }\n",
              "</style>\n",
              "\n",
              "  <script>\n",
              "    async function quickchart(key) {\n",
              "      const quickchartButtonEl =\n",
              "        document.querySelector('#' + key + ' button');\n",
              "      quickchartButtonEl.disabled = true;  // To prevent multiple clicks.\n",
              "      quickchartButtonEl.classList.add('colab-df-spinner');\n",
              "      try {\n",
              "        const charts = await google.colab.kernel.invokeFunction(\n",
              "            'suggestCharts', [key], {});\n",
              "      } catch (error) {\n",
              "        console.error('Error during call to suggestCharts:', error);\n",
              "      }\n",
              "      quickchartButtonEl.classList.remove('colab-df-spinner');\n",
              "      quickchartButtonEl.classList.add('colab-df-quickchart-complete');\n",
              "    }\n",
              "    (() => {\n",
              "      let quickchartButtonEl =\n",
              "        document.querySelector('#df-5430d245-dbac-4392-83f1-3ef4e09ab0e0 button');\n",
              "      quickchartButtonEl.style.display =\n",
              "        google.colab.kernel.accessAllowed ? 'block' : 'none';\n",
              "    })();\n",
              "  </script>\n",
              "</div>\n",
              "\n",
              "    </div>\n",
              "  </div>\n"
            ],
            "text/plain": [
              "                                                text  label\n",
              "0  gercekten sizin hikayelerinizi izleyerek mi ye...      0\n",
              "1                  coook cok bi baklava bi sen zaten      0\n",
              "2  sn dukel ataturkun karma ile baslattigi siyasi...      0\n",
              "3  konfederasyonumuzun aile ve sosyal politikalar...      0\n",
              "4  hakemler tarih yaziyorlar kisiye karsi 32 onde...      1"
            ]
          },
          "execution_count": 2,
          "metadata": {},
          "output_type": "execute_result"
        }
      ],
      "source": [
        "import pandas as pd\n",
        "\n",
        "# Kullandığımız veri setindeki satırları \"|\" ayıracı ile ayırıyoruz.\n",
        "df = pd.read_csv('/content/preprocessed_train_40k.csv')\n",
        "df = df[[\"text\", \"label\"]]\n",
        "df.head()"
      ]
    },
    {
      "cell_type": "code",
      "execution_count": null,
      "metadata": {
        "colab": {
          "base_uri": "https://localhost:8080/"
        },
        "id": "fdHe_Tov6E_n",
        "outputId": "aad0bd31-fc82-4080-fea3-98521f4cccf7"
      },
      "outputs": [
        {
          "name": "stdout",
          "output_type": "stream",
          "text": [
            "Mounted at /content/drive\n"
          ]
        }
      ],
      "source": [
        "from google.colab import drive\n",
        "drive.mount('/content/drive')"
      ]
    },
    {
      "cell_type": "code",
      "execution_count": null,
      "metadata": {
        "colab": {
          "base_uri": "https://localhost:8080/"
        },
        "id": "xX9CLWljnzXS",
        "outputId": "60c2dad6-85b1-4e32-8e35-eebdb0e3e477"
      },
      "outputs": [
        {
          "name": "stdout",
          "output_type": "stream",
          "text": [
            "<class 'pandas.core.frame.DataFrame'>\n",
            "RangeIndex: 42398 entries, 0 to 42397\n",
            "Data columns (total 2 columns):\n",
            " #   Column  Non-Null Count  Dtype \n",
            "---  ------  --------------  ----- \n",
            " 0   text    42396 non-null  object\n",
            " 1   label   42398 non-null  int64 \n",
            "dtypes: int64(1), object(1)\n",
            "memory usage: 662.6+ KB\n"
          ]
        }
      ],
      "source": [
        "# Veri seti hakkında bilgileri yazdırdık.\n",
        "df.info()"
      ]
    },
    {
      "cell_type": "code",
      "execution_count": null,
      "metadata": {
        "colab": {
          "base_uri": "https://localhost:8080/",
          "height": 526
        },
        "id": "DIPEA9OPn493",
        "outputId": "69b37d32-99b7-4673-c568-13aad42a1631"
      },
      "outputs": [
        {
          "data": {
            "text/plain": [
              "([<matplotlib.patches.Wedge at 0x7ae4857b3e10>,\n",
              "  <matplotlib.patches.Wedge at 0x7ae4857be810>],\n",
              " [Text(-1.0941706636813076, -0.11309535242089684, 'Zararsiz'),\n",
              "  Text(1.0941707077221812, 0.11309492633509963, 'Zararli')],\n",
              " [Text(-0.5968203620079859, -0.06168837404776191, '53.3%'),\n",
              "  Text(0.5968203860302805, 0.06168814163732706, '46.7%')])"
            ]
          },
          "execution_count": 5,
          "metadata": {},
          "output_type": "execute_result"
        },
        {
          "data": {
            "image/png": "[encoded data removed]",
            "text/plain": [
              "<Figure size 1500x500 with 1 Axes>"
            ]
          },
          "metadata": {},
          "output_type": "display_data"
        }
      ],
      "source": [
        "import matplotlib.pyplot as plt\n",
        "plt.rcParams['figure.figsize'] = (15, 5)\n",
        "\n",
        "# OTHER kategorisindeki veri adetini hesapladik.\n",
        "positive = len(df[df['label'] == 0])\n",
        "# (RACIST+INSULT+PROFANITY+SEXIST) kategorisindeki veri adetini hesapladik.\n",
        "negative = len(df[df['label'] == 1])\n",
        "# Dairesel grafikteki verilerimizi ayarladık.\n",
        "pie_y = [positive, negative]\n",
        "# Dairesel grafikteki verilerimizin adını ayarladık.\n",
        "pie_labels = [\"Zararsiz\", \"Zararli\"]\n",
        "\n",
        "# Dairesel grafiğimizi oluşturduk.\n",
        "plt.pie(pie_y, labels=pie_labels, startangle=90, autopct='%1.1f%%')"
      ]
    },
    {
      "cell_type": "markdown",
      "metadata": {
        "id": "ATtugYUJoWnq"
      },
      "source": [
        "# Her bir kategorideki veri adeti"
      ]
    },
    {
      "cell_type": "code",
      "execution_count": null,
      "metadata": {
        "colab": {
          "base_uri": "https://localhost:8080/",
          "height": 358
        },
        "id": "4pTObUuaoC6i",
        "outputId": "82bf8107-f38b-459d-a65d-9239c9571eeb"
      },
      "outputs": [
        {
          "data": {
            "image/png": "[encoded data removed]",
            "text/plain": [
              "<Figure size 1500x500 with 1 Axes>"
            ]
          },
          "metadata": {},
          "output_type": "display_data"
        }
      ],
      "source": [
        "from collections import Counter\n",
        "# TARGET sütunundaki kategorileri bulduk.\n",
        "tags = Counter(df[\"label\"]).keys()\n",
        "# TARGET sütunundaki kategorilerin adetini bulduk.\n",
        "tags_len = Counter(df[\"label\"]).values()\n",
        "\n",
        "# Kategori ismi ve adet sayısını veri seti haline getirdik.\n",
        "tag_df = pd.DataFrame(zip(tags, tags_len), columns=[\"Sinif\", \"Toplam\"])\n",
        "# Plot grafiğimizi oluşturduk.\n",
        "tag_df.plot(x=\"Sinif\", y=\"Toplam\", kind=\"bar\", legend=False, grid=False, figsize=(15,5))\n",
        "# Plot grafiğimizin başlığını ayarladık.\n",
        "plt.title(\"Etiket Sayılarının Görselleştirilmesi\", fontsize=18)\n",
        "# Plot grafiğimizin x ekseni başlığını ayarladık.\n",
        "plt.xlabel(\"Etiketler\", fontsize=15)\n",
        "# Plot grafiğimizin y ekseni başlığını ayarladık.\n",
        "plt.ylabel(\"Toplam\", fontsize=15)\n",
        "# Plot grafiğimizi ekrana yazdırdık.\n",
        "plt.show()"
      ]
    },
    {
      "cell_type": "markdown",
      "metadata": {
        "id": "F7kGF4wNo0YL"
      },
      "source": [
        "# Temizlemeden önceki en sık kullanılan kelimeler"
      ]
    },
    {
      "cell_type": "code",
      "execution_count": null,
      "metadata": {
        "colab": {
          "base_uri": "https://localhost:8080/"
        },
        "id": "1AFrfNSCol5F",
        "outputId": "092df689-1348-41f8-e6b3-b5a890078605"
      },
      "outputs": [
        {
          "name": "stderr",
          "output_type": "stream",
          "text": [
            "[nltk_data] Downloading package punkt_tab to /root/nltk_data...\n",
            "[nltk_data]   Unzipping tokenizers/punkt_tab.zip.\n"
          ]
        }
      ],
      "source": [
        "import nltk\n",
        "import string\n",
        "# Download the 'punkt_tab' resource\n",
        "nltk.download('punkt_tab')\n",
        "\n",
        "# Bir kategorideki en sık geçen kelimeleri bulmaya yarayan fonksiyonumuzu tanımladık.\n",
        "def word_freq(CATEGORY):\n",
        "  # Parametre olarak verilen kategoriyi kullanarak veri setimizi oluşturduk.\n",
        "  freq_df = df[df['label'] == CATEGORY]\n",
        "  # Kategorimizin text sınıfındaki satırlardaki kelimeleri bir değişkene aktardık.\n",
        "  freq_words = freq_df[\"text\"].tolist()\n",
        "  # The error is likely due to some values in the \"text\" column being floats or NaNs.\n",
        "  # This line converts all elements of freq_words to strings before applying lower(),\n",
        "  # preventing the AttributeError.\n",
        "  freq_words = [str(i).lower() for i in freq_words]\n",
        "  freq_punc = []\n",
        "  # Dizimizdeki kelimelerin sıklığındaki noktalama işaretlerini saydık.\n",
        "  for o in freq_words:\n",
        "    freq_punc += nltk.word_tokenize(o)\n",
        "  freq_punc = [o for o in freq_punc if o not in string.punctuation]\n",
        "  freq_freq = Counter(freq_punc)\n",
        "  # En sık geçen 15 kelimeyi bir değişkene atadık.\n",
        "  freq_top = freq_freq.most_common(15)\n",
        "\n",
        "\n",
        "  words = [word for word, _ in freq_top]\n",
        "\n",
        "  counts = [counts for _, counts in freq_top]\n",
        "\n",
        "  # Sütun grafiğimizi oluşturduk.\n",
        "  plt.bar(words, counts)\n",
        "  # Sütun grafiğimizin başlığını ayarladık.\n",
        "  plt.title(f\"{CATEGORY} SINIFINDAKI EN SIK GECEN 15 KELIME\")\n",
        "  # Sütun grafiğimizin y ekseni başlığını ayarladık.\n",
        "  plt.ylabel(\"Frekans\")\n",
        "  # Sütun grafiğimizin x ekseni başlığını ayarladık.\n",
        "  plt.xlabel(\"Kelimeler\")\n",
        "  # Sütün grafiğimizi ekrana bastırdık.\n",
        "  plt.show()\n",
        "\n",
        "  # WordCloud'da kullanmak için en sık geçen kelimeleri döndürdük.\n",
        "  return freq_top"
      ]
    },
    {
      "cell_type": "code",
      "execution_count": null,
      "metadata": {
        "colab": {
          "base_uri": "https://localhost:8080/",
          "height": 358
        },
        "id": "qafX1tTRo-bT",
        "outputId": "04ccf924-5c05-4c9e-8706-47d831366b4d"
      },
      "outputs": [
        {
          "data": {
            "image/png": "[encoded data removed]",
            "text/plain": [
              "<Figure size 1500x500 with 1 Axes>"
            ]
          },
          "metadata": {},
          "output_type": "display_data"
        }
      ],
      "source": [
        "# 1 kategorisindeki en sık geçen 15 kelimeyi gösteren grafiği ekrana yazdırdık.\n",
        "negative_top = word_freq(1)"
      ]
    },
    {
      "cell_type": "code",
      "execution_count": null,
      "metadata": {
        "colab": {
          "base_uri": "https://localhost:8080/",
          "height": 358
        },
        "id": "u8VlMjmmpEA6",
        "outputId": "936680ac-5d7d-4fba-ce07-008e55886383"
      },
      "outputs": [
        {
          "data": {
            "image/png": "[encoded data removed]",
            "text/plain": [
              "<Figure size 1500x500 with 1 Axes>"
            ]
          },
          "metadata": {},
          "output_type": "display_data"
        }
      ],
      "source": [
        "# 0 kategorisindeki en sık geçen 15 kelimeyi gösteren grafiği ekrana yazdırdık.\n",
        "positive_top = word_freq(0)"
      ]
    },
    {
      "cell_type": "code",
      "execution_count": null,
      "metadata": {
        "colab": {
          "background_save": true
        },
        "id": "M__oj8sRUO_C"
      },
      "outputs": [],
      "source": [
        "from sklearn.preprocessing import LabelEncoder\n",
        "# LabelEncoder kullanarak \"target\" sütunumuza dönüşüm yaptırdık.\n",
        "le = LabelEncoder().fit(df[\"label\"])\n",
        "# \"Name Mapping\" işlemini tanımladık.\n",
        "le_nm = dict(zip(le.classes_, le.transform(le.classes_)))\n",
        "# Veri setimizde \"labels\" adında sütun oluşturarak \"target\" sütununa \"Name Mapping\" işlemi yaparak \"labels\" sütunu altına aktardık.\n",
        "df[\"labels\"] = df[\"label\"].apply(lambda x: le_nm[x])\n",
        "# \"id\", \"text\", \"target\" sütunlarını veri setimizden çıkardık.\n",
        "df = df.drop(['label'], axis=1)"
      ]
    },
    {
      "cell_type": "code",
      "execution_count": null,
      "metadata": {
        "id": "EqMZzOELqDpc"
      },
      "outputs": [],
      "source": [
        "import numpy as np\n",
        "import torch\n",
        "from transformers import BertTokenizer, BertModel\n",
        "\n",
        "# Verilerimizi BERT'e uygun biçimde dönüştürmemiz gerekiyor. Bunu da Hugging Face'den önceden eğitilmiş \"bert-base-turkish-uncased\" modelini kullanarak yapıyoruz.\n",
        "tokenizer = BertTokenizer.from_pretrained(\"dbmdz/bert-base-turkish-uncased\")\n",
        "labels = le_nm\n",
        "\n",
        "class Dataset(torch.utils.data.Dataset):\n",
        "    def __init__(self, df):\n",
        "      # Kategorik sınıflar.\n",
        "      self.labels = [label for label in df['labels']]\n",
        "      # text = Modeli eğitmek için kullanılacak veri setindeki \"clean_text\" sütunundaki her bir satır.\n",
        "      # padding = Her bir diziyi belirttiğimiz maksimum uzunluga kadar doldurmak için.\n",
        "      # max_length = Her bir dizinin maksimum uzunluğu\n",
        "      # truncation = Eğer değeri \"True\" ise dizimiz maksimum uzunluğu aşar ise onu keser.\n",
        "      # return_tensors = Döndürelecek tensörlerin türü. Pytorch kullandığımız için \"pt\" yazıyoruz. Tensorflow kullansaydık \"tf\" yazmamız gerekirdi.\n",
        "      df['text'] = df['text'].astype(str)\n",
        "      self.text = [tokenizer(text, padding='max_length', max_length=512, truncation=True, return_tensors=\"pt\") for text in df['text']]\n",
        "\n",
        "    def classes(self):\n",
        "      return self.labels\n",
        "\n",
        "    def __len__(self):\n",
        "      return len(self.labels)\n",
        "\n",
        "    def get_batch_labels(self, idx):\n",
        "      # Bir grup etiket getir.\n",
        "      return np.array(self.labels[idx])\n",
        "\n",
        "    def get_batch_texts(self, idx):\n",
        "      # Bir grup girdi getir.\n",
        "      return self.text[idx]\n",
        "\n",
        "    def __getitem__(self, idx):\n",
        "      batch_texts = self.get_batch_texts(idx)\n",
        "      batch_y = self.get_batch_labels(idx)\n",
        "\n",
        "      return batch_texts, batch_y"
      ]
    },
    {
      "cell_type": "code",
      "execution_count": null,
      "metadata": {
        "colab": {
          "base_uri": "https://localhost:8080/"
        },
        "id": "SnTm6kd_v-87",
        "outputId": "8c02a4c1-8740-449d-86c4-bc14f03f52f3"
      },
      "outputs": [
        {
          "name": "stdout",
          "output_type": "stream",
          "text": [
            "25438 8479 8481\n"
          ]
        }
      ],
      "source": [
        "def train_validate_test_split(df):\n",
        "    # Rastgelelik durumu.\n",
        "    np.random.seed(4242)\n",
        "    # Diziyi rastgele permute eder.\n",
        "    perm = np.random.permutation(df.index)\n",
        "    # Veri setinin %60'ının sayısal değeri hesaplandı.\n",
        "    train_end = int(.6 * len(df.index))\n",
        "    # Veri setinin %20'sinin sayısal değeri hesaplandı.\n",
        "    validate_end = int(.2 * len(df.index)) + train_end\n",
        "    # Veri setinin %60'ını train etmek için ayırdık.\n",
        "    train = df.iloc[perm[:train_end]]\n",
        "    # Veri setinin %20'sini validation etmek için ayırdık.\n",
        "    validate = df.iloc[perm[train_end:validate_end]]\n",
        "    # Veri setinin %20'sini test etmek için ayırdık.\n",
        "    test = df.iloc[perm[validate_end:]]\n",
        "    # train, validation, test veri setlerini döndür.\n",
        "    return train, validate, test\n",
        "\n",
        "# Train, Validation ve Test için veri setlerimiz oluşturduk.\n",
        "df_train, df_validation, df_test = train_validate_test_split(df)\n",
        "# Train, Validation ve Test için oluşturduğumuz veri setlerinin uzunluğunu ekrana yazdırdık. (%60 - %20 - %20)\n",
        "print(len(df_train), len(df_validation), len(df_test))"
      ]
    },
    {
      "cell_type": "code",
      "execution_count": null,
      "metadata": {
        "colab": {
          "background_save": true
        },
        "id": "y8gUKIFgwBRu"
      },
      "outputs": [],
      "source": [
        "class BertClassifier(torch.nn.Module):\n",
        "  def __init__(self, dropout=0.5):\n",
        "    super(BertClassifier, self).__init__()\n",
        "\n",
        "    self.bert = BertModel.from_pretrained(\"dbmdz/bert-base-turkish-uncased\")\n",
        "    self.dropout = torch.nn.Dropout(dropout)\n",
        "    # Kullandığımız önceden eğilmiş model \"base\" sınıfına ait bir BERT modelidir. Yani;\n",
        "    # 12 layers of Transformer encoder, 12 attention heads, 768 hidden size, 110M parameters.\n",
        "    # 768, BERT-base modelindeki hidden size'yi, 2 ise veri setimizdek  i toplam kategori sayısını temsil ediyor.\n",
        "    self.linear = torch.nn.Linear(768, 2)\n",
        "    self.relu = torch.nn.ReLU()\n",
        "\n",
        "  def forward(self, input_id, mask):\n",
        "    # _ değişkeni dizideki tüm belirteçlerin gömme vektörlerini içerir.\n",
        "    # pooled_output değişkeni [CLS] belirtecinin gömme vektörünü içerir.\n",
        "    # Metin sınıflandırma için polled_output değişkenini girdi olarak kullanmak yeterlidir.\n",
        "\n",
        "    # Attention mask, bir belirtecin gercek bir kelimemi yoksa dolgu mu olduğunu tanımlar.\n",
        "    # Eğer gerçek bir kelime ise attention_mask=1, eğer dolgu ise attention_mask=0 olacaktır.\n",
        "    # return_dict, değeri \"True ise\" bir BERT modeli tahmin, eğitim veya değerlendirme sırasında ortaya çıkan\n",
        "    # loss, logits, hidden_states ve attentions dan oluşan bir tuple oluşturacaktır.\n",
        "    _, pooled_output = self.bert(input_ids=input_id, attention_mask=mask, return_dict=False)\n",
        "    dropout_output = self.dropout(pooled_output)\n",
        "    linear_output = self.linear(dropout_output)\n",
        "    final_layer = self.relu(linear_output)\n",
        "\n",
        "    return final_layer"
      ]
    },
    {
      "cell_type": "code",
      "execution_count": null,
      "metadata": {
        "colab": {
          "background_save": true
        },
        "id": "LF__SR-hwFbB"
      },
      "outputs": [],
      "source": [
        "# Eğitim tur sayısı\n",
        "EPOCHS = 1\n",
        "# BERT model tanımlaması.\n",
        "model = BertClassifier()\n",
        "# Öğrenme oranı\n",
        "LR = 1e-6\n",
        "\n",
        "# Train ve Validation için ayırdığımız veri setlerini\n",
        "train, validation = Dataset(df_train), Dataset(df_validation)\n",
        "\n",
        "# Verilerin toplu olarak içe aktarılması için DataLoader kullanıyoruz.\n",
        "# batch_size, model güncellenmeden önce işlenen örnek sayısıdır.\n",
        "# shuffle, karıştır.\n",
        "tdl = torch.utils.data.DataLoader(train, batch_size=2, shuffle=True)\n",
        "vdl = torch.utils.data.DataLoader(validation, batch_size=2)\n",
        "device = torch.device(\"cuda\")\n",
        "\n",
        "# Çok sınıflı sınıflandırma kullandığımız için çapraz entropi kullanmamız gerekiyor.\n",
        "criterion = torch.nn.CrossEntropyLoss().cuda()\n",
        "# Optimizer için Adam kullanıyoruz.\n",
        "optimizer = torch.optim.Adam(model.parameters(), lr=LR)\n",
        "model = model.cuda()\n",
        "\n",
        "for EPOCH in range(EPOCHS):\n",
        "    # Toplam eğitim doğruluğu\n",
        "    total_train_accuracy = 0\n",
        "    # Toplam eğitim kaybı\n",
        "    total_train_loss = 0\n",
        "    # Toplam validation doğruluğu\n",
        "    total_validation_accuracy = 0\n",
        "    # Toplam validation kaybı\n",
        "    total_validation_loss = 0\n",
        "\n",
        "    # tqdm kütüphanesi, \"Progress Bar\" oluşturmaya yarar.\n",
        "    from tqdm import tqdm\n",
        "    for train_input, train_label in tqdm(tdl):\n",
        "        # Modelin verileri işleyebilmesi için hem modelin hem de verilerin CPU veya GPU olmak üzere aynı cihazda olması gerekir.\n",
        "        # Örneğin veriler CPU'da, model GPU'da olursa çalışma zamanı hatası oluşacaktır.\n",
        "        # Bunu önlemek için pytorch kütüphanesinden \"to\" fonksiyonunu kullanıyoruz.\n",
        "        train_label = train_label.to(device)\n",
        "\n",
        "        # Attention mask, bir belirtecin gercek bir kelimemi yoksa dolgu mu olduğunu tanımlar.\n",
        "        # Eğer gerçek bir kelime ise attention_mask=1, eğer dolgu ise attention_mask=0 olacaktır.\n",
        "        mask = train_input['attention_mask'].to(device)\n",
        "        # input_ids, her bir tokenin id gösterimidir.\n",
        "        input_id = train_input['input_ids'].squeeze(1).to(device)\n",
        "\n",
        "        # Modelin eğitim verileri üzerindeki tahminlerinin sonuçları saklanır.\n",
        "        output = model(input_id, mask)\n",
        "\n",
        "        # Çapraz entropi ile örneklem kaybını hesaplıyoruz.\n",
        "        batch_loss = criterion(output, train_label.long())\n",
        "        # Her bir epoch için toplam train kaybını bulmak için her bir örneklemin train kaybını topluyoruz.\n",
        "        total_train_loss += batch_loss.item()\n",
        "\n",
        "        # \"output\" değişkenindeki her bir veri örneği için çıktı tensöründe en yüksek olasılığa sahip\n",
        "        # sınıfın indexini döndürür. Daha sonra \"train_label\" adlı tensörde modein doğru sınıf tahmilnerinin\n",
        "        # bulunduğu etiketleri saklanır. Doğru tahmin edilen sınıfların sayısı hesaplanır ve \"item\"\n",
        "        # fonksiyonu ile sayısal bir değere dönüştürülür.\n",
        "        train_accuracy = (output.argmax(dim=1) == train_label).sum().item()\n",
        "        # Her bir epoch için toplam train doğruluğunu bulmak için her bir örneklemin doğruluk kaybını topluyoruz.\n",
        "        total_train_accuracy += train_accuracy\n",
        "\n",
        "        # Gradyanlar, modelin kaybını optimize etmek için geriye doğru hesaplanır ve eğitim adımlarında kullanılır.\n",
        "        # Pytorch'da Gradyanlar biriktirilir ve önceki gradyan üzerine eklenir. Bu nedenle, modelin bir sonraki eğitim\n",
        "        # adımında geçerli gradyan değerlerini kullanabilmesi için, gradyanların önce sıfırlanması gerekir.\n",
        "        # Bu işlemi de \"zero_grad\" fonksiyonunu kullanarak yapıyoruz.\n",
        "        model.zero_grad()\n",
        "\n",
        "        # Kayıp fonksiyonunun gradyanını hesaplamak ve bu gradyanı kullanarak modelin ağırlıklarının güncellenmesi için\n",
        "        # geriye doğru geçiş (backpropagation) işlemini başlatıyoruz.\n",
        "        batch_loss.backward()\n",
        "\n",
        "        #step(), optimize edicinin güncellemesi gereken tüm tensörler üzerinde yineleme yapmasını ve değerlerini güncellemek için dahili olarak depolanan gradlarını kullanmasını sağlar\n",
        "        optimizer.step()\n",
        "\n",
        "    # Doğrulama işlemi sırasında model ağırlıklarını değiştirmeyeceğimiz modelin gradyanlara ihtiyacı yoktur\n",
        "    # \"no_grad\" fonksiyonu ile gradyan hesaplarını devre dışı bırakıyoruz.\n",
        "    with torch.no_grad():\n",
        "        # tqdm kütüphanesi, \"Progress Bar\" oluşturmaya yarar.\n",
        "        for val_input, val_label in tqdm(vdl):\n",
        "            # Modelin verileri işleyebilmesi için hem modelin hem de verilerin CPU veya GPU olmak üzere aynı cihazda olması gerekir.\n",
        "            # Örneğin veriler CPU'da, model GPU'da olursa çalışma zamanı hatası oluşacaktır.\n",
        "            # Bunu önlemek için pytorch kütüphanesinden \"to\" fonksiyonunu kullanıyoruz.\n",
        "            val_label = val_label.to(device)\n",
        "\n",
        "            # Attention mask, bir belirtecin gercek bir kelimemi yoksa dolgu mu olduğunu tanımlar.\n",
        "            # Eğer gerçek bir kelime ise attention_mask=1, eğer dolgu ise attention_mask=0 olacaktır.\n",
        "            mask = val_input['attention_mask'].to(device)\n",
        "            input_id = val_input['input_ids'].squeeze(1).to(device)\n",
        "\n",
        "            # Modelin eğitim verileri üzerindeki tahminlerinin sonuçları saklanır.\n",
        "            output = model(input_id, mask)\n",
        "\n",
        "            # Çapraz entropi ile örneklem kaybını hesaplıyoruz.\n",
        "            batch_loss = criterion(output, val_label.long())\n",
        "            # Her bir epoch için toplam train kaybını bulmak için her bir örneklemin train kaybını topluyoruz.\n",
        "            total_validation_loss += batch_loss.item()\n",
        "\n",
        "            # \"output\" değişkenindeki her bir veri örneği için çıktı tensöründe en yüksek olasılığa sahip\n",
        "            # sınıfın indexini döndürür. Daha sonra \"train_label\" adlı tensörde modein doğru sınıf tahmilnerinin\n",
        "            # bulunduğu etiketleri saklanır. Doğru tahmin edilen sınıfların sayısı hesaplanır ve \"item\"\n",
        "            # fonksiyonu ile sayısal bir değere dönüştürülür.\n",
        "            validation_accuracy = (output.argmax(dim=1) == val_label).sum().item()\n",
        "            # Her bir epoch için toplam train doğruluğunu bulmak için her bir örneklemin doğruluk kaybını topluyoruz.\n",
        "            total_validation_accuracy += validation_accuracy\n",
        "\n",
        "    # Mevcut Epoch\n",
        "    print(f'Epochs: {EPOCH + 1}')\n",
        "    # Train Kaybı\n",
        "    print(f'Train Loss: {total_train_loss / len(df_train): .4f}')\n",
        "    # Train Dogruluk\n",
        "    print(f'Train Accuracy: {total_train_accuracy / len(df_train): .4f}')\n",
        "    # Validation Kaybı\n",
        "    print(f'Validation Loss: {total_validation_loss / len(df_validation): .4f}')\n",
        "    # Validation Dogruluk\n",
        "    print(f'Validation Accuracy: {total_validation_accuracy / len(df_validation): .4f}')"
      ]
    },
    {
      "cell_type": "markdown",
      "source": [
        "Train Loss:  0.1570\n",
        "Train Accuracy:  0.8679\n",
        "Validation Loss:  0.1151\n",
        "Validation Accuracy:  0.9100\n"
      ],
      "metadata": {
        "id": "5soCPQQT0vPa"
      }
    },
    {
      "cell_type": "code",
      "execution_count": null,
      "metadata": {
        "colab": {
          "background_save": true
        },
        "id": "SoXrfcfewIwc",
        "outputId": "992a23cd-1fae-4b49-9fdf-161805484edc"
      },
      "outputs": [
        {
          "name": "stderr",
          "output_type": "stream",
          "text": [
            "<ipython-input-11-f8e866449052>:18: SettingWithCopyWarning: \n",
            "A value is trying to be set on a copy of a slice from a DataFrame.\n",
            "Try using .loc[row_indexer,col_indexer] = value instead\n",
            "\n",
            "See the caveats in the documentation: https://pandas.pydata.org/pandas-docs/stable/user_guide/indexing.html#returning-a-view-versus-a-copy\n",
            "  df['text'] = df['text'].astype(str)\n"
          ]
        },
        {
          "name": "stdout",
          "output_type": "stream",
          "text": [
            "Test Accuracy:  1.824\n"
          ]
        }
      ],
      "source": [
        "# Test için ayırdığımız veri setlerini\n",
        "test = Dataset(df_test)\n",
        "\n",
        "# Verilerin toplu olarak içe aktarılması için DataLoader kullanıyoruz.\n",
        "# batch_size, model güncellenmeden önce işlenen örnek sayısıdır.\n",
        "# shuffle, karıştır.\n",
        "tdl = torch.utils.data.DataLoader(test, batch_size=2)\n",
        "device = torch.device(\"cuda\")\n",
        "model = model.cuda()\n",
        "\n",
        "# Toplam test doğruluğu\n",
        "total_test_accuracy = 0\n",
        "\n",
        "# Test işlemi sırasında model ağırlıklarını değiştirmeyeceğimiz modelin gradyanlara ihtiyacı yoktur\n",
        "# \"no_grad\" fonksiyonu ile gradyan hesaplarını devre dışı bırakıyoruz.\n",
        "with torch.no_grad():\n",
        "  for test_input, test_label in tdl:\n",
        "    # Modelin verileri işleyebilmesi için hem modelin hem de verilerin CPU veya GPU olmak üzere aynı cihazda olması gerekir.\n",
        "    # Örneğin veriler CPU'da, model GPU'da olursa çalışma zamanı hatası oluşacaktır.\n",
        "    # Bunu önlemek için pytorch kütüphanesinden \"to\" fonksiyonunu kullanıyoruz.\n",
        "    test_label = test_label.to(device)\n",
        "\n",
        "    # Attention mask, bir belirtecin gercek bir kelimemi yoksa dolgu mu olduğunu tanımlar.\n",
        "    # Eğer gerçek bir kelime ise attention_mask=1, eğer dolgu ise attention_mask=0 olacaktır.\n",
        "    mask = test_input['attention_mask'].to(device)\n",
        "    # squeeze() fonksiyonu ile \"input_ids\" özelliğindeki tensörlerin boyutu 1 olan boyutları\n",
        "    # kaldırarak, tensörün boyutunu azaltıyoruz.\n",
        "    input_id = test_input['input_ids'].squeeze(1).to(device)\n",
        "\n",
        "    # Modelin eğitim verileri üzerindeki tahminlerinin sonuçları saklanır.\n",
        "    output = model(input_id, mask)\n",
        "\n",
        "    # \"output\" değişkenindeki her bir veri örneği için çıktı tensöründe en yüksek olasılığa sahip\n",
        "    # sınıfın indexini döndürür. Daha sonra \"test_label\" adlı tensörde modein doğru sınıf tahmilnerinin\n",
        "    # bulunduğu etiketleri saklanır. Doğru tahmin edilen sınıfların sayısı hesaplanır ve \"item\"\n",
        "    # fonksiyonu ile sayısal bir değere dönüştürülür.\n",
        "    test_accuracy = (output.argmax(dim=1) == test_label).sum().item()\n",
        "    # Her bir epoch için toplam test doğruluğunu bulmak için her bir örneklemin doğruluk kaybını topluyoruz.\n",
        "    total_test_accuracy += test_accuracy\n",
        "\n",
        "# Test Dogruluğu\n",
        "print(f'Test Accuracy: {total_test_accuracy / len(tdl): .3f}')"
      ]
    },
    {
      "cell_type": "code",
      "execution_count": null,
      "metadata": {
        "colab": {
          "background_save": true
        },
        "id": "W1HEnB56Ochs"
      },
      "outputs": [],
      "source": [
        "# Prediction fonksiyonunu tanımladık.\n",
        "def predict(model, sentence):\n",
        "  device = torch.device(\"cuda\")\n",
        "  model = model.cuda()\n",
        "  # Prediction işlemi sırasında model ağırlıklarını değiştirmeyeceğimiz modelin gradyanlara ihtiyacı yoktur\n",
        "  # \"no_grad\" fonksiyonu ile gradyan hesaplarını devre dışı bırakıyoruz.\n",
        "  with torch.no_grad():\n",
        "    # text = Modeli eğitmek için kullanılacak veri setindeki \"clean_text\" sütunundaki her bir satır.\n",
        "    # padding = Her bir diziyi belirttiğimiz maksimum uzunluga kadar doldurmak için.\n",
        "    # max_length = Her bir dizinin maksimum uzunluğu\n",
        "    # truncation = Eğer değeri \"True\" ise dizimiz maksimum uzunluğu aşar ise onu keser.\n",
        "    # return_tensors = Döndürelecek tensörlerin türü. Pytorch kullandığımız için \"pt\" yazıyoruz. Tensorflow kullansaydık \"tf\" yazmamız gerekirdi.\n",
        "    input_id = tokenizer(sentence, padding='max_length', max_length = 512, truncation=True, return_tensors=\"pt\")\n",
        "\n",
        "    # Attention mask, bir belirtecin gercek bir kelimemi yoksa dolgu mu olduğunu tanımlar.\n",
        "    # Eğer gerçek bir kelime ise attention_mask=1, eğer dolgu ise attention_mask=0 olacaktır.\n",
        "    mask = input_id['attention_mask'].to(device)\n",
        "\n",
        "    # squeeze() fonksiyonu ile \"input_ids\" özelliğindeki tensörlerin boyutu 1 olan boyutları\n",
        "    # kaldırarak, tensörün boyutunu azaltıyoruz.\n",
        "    input_id = input_id['input_ids'].squeeze(1).to(device)\n",
        "\n",
        "    # Modelin eğitim verileri üzerindeki tahminlerinin sonuçları saklanır.\n",
        "    output = model(input_id, mask)\n",
        "\n",
        "    # Kategorik sınıfı döndür.\n",
        "    return output.argmax(dim=1).item()"
      ]
    },
    {
      "cell_type": "code",
      "execution_count": null,
      "metadata": {
        "colab": {
          "background_save": true
        },
        "id": "dd1vW1wGMrp1",
        "outputId": "3c627f60-2fbb-409c-bb13-fc2e55bc9943"
      },
      "outputs": [
        {
          "name": "stdout",
          "output_type": "stream",
          "text": [
            "              precision    recall  f1-score   support\n",
            "\n",
            "           0       0.92      0.91      0.91      4498\n",
            "           1       0.90      0.91      0.90      3983\n",
            "\n",
            "    accuracy                           0.91      8481\n",
            "   macro avg       0.91      0.91      0.91      8481\n",
            "weighted avg       0.91      0.91      0.91      8481\n",
            "\n"
          ]
        }
      ],
      "source": [
        "from sklearn.metrics import classification_report\n",
        "\n",
        "# Her bir dizi için tahmin yapılır\n",
        "actuals = df_test.labels\n",
        "predicted = [predict(model, text) for text in df_test['text'].values]\n",
        "\n",
        "print(classification_report(actuals, predicted))"
      ]
    },
    {
      "cell_type": "code",
      "execution_count": null,
      "metadata": {
        "colab": {
          "background_save": true
        },
        "id": "4tUlbpOYOWae",
        "outputId": "d49fd992-287f-434c-d719-6b28aeb99785"
      },
      "outputs": [
        {
          "data": {
            "text/plain": [
              "0"
            ]
          },
          "execution_count": 18,
          "metadata": {},
          "output_type": "execute_result"
        }
      ],
      "source": [
        "predict(model, \"\")"
      ]
    },
    {
      "cell_type": "code",
      "execution_count": null,
      "metadata": {
        "colab": {
          "background_save": true
        },
        "id": "Mr5pWQolQNMU",
        "outputId": "839fd04d-1630-4d9d-93fe-e2358616dc3e"
      },
      "outputs": [
        {
          "data": {
            "image/png": "[encoded data removed]",
            "text/plain": [
              "<Figure size 1500x500 with 2 Axes>"
            ]
          },
          "metadata": {},
          "output_type": "display_data"
        }
      ],
      "source": [
        "import itertools\n",
        "from sklearn.metrics import confusion_matrix\n",
        "\n",
        "def plot_confusion_matrix(predicted, actuals, sub_classes, title='Confusion matrix', cmap=plt.cm.Blues):\n",
        "    # Confusion Matrix oluştur.\n",
        "    confusion = confusion_matrix(predicted, actuals)\n",
        "\n",
        "    # interpolation -> Grafikte kullanılacak renklerin aralığı\n",
        "    # cmap -> Grafikte kullanılacak renk\n",
        "    plt.imshow(confusion, interpolation='nearest', cmap=cmap)\n",
        "    plt.title(title)\n",
        "    plt.colorbar()\n",
        "    # Alt sınıfların sayısına göre bir numpy dizisi oluşturduk.\n",
        "    # Bu diziyi sınıf etiketlerinin eksenlerdeki konumlarını belirlemek için kullanacağız.\n",
        "    tick_marks = np.arange(len(sub_classes))\n",
        "    # rotation -> X ekseni işaretleyicilerinin açısı\n",
        "    plt.xticks(tick_marks, sub_classes, rotation=90)\n",
        "    plt.yticks(tick_marks, sub_classes)\n",
        "\n",
        "    for i, j in itertools.product(range(confusion.shape[0]), range(confusion.shape[1])):\n",
        "        # horizontalalignment, yazılacak sayısal değerin hücre ortasında yer almasını sağlar.\n",
        "        # color, yazı rengini belirler.\n",
        "        # j -> x koordinatı\n",
        "        # i -> y koordinatı\n",
        "        # confusion[i, j] -> yazılacak sayısal değer\n",
        "        plt.text(j, i, confusion[i, j], horizontalalignment=\"center\", color=\"black\")\n",
        "\n",
        "    # Figür boyutu\n",
        "    plt.rcParams[\"figure.figsize\"] = (15,5)\n",
        "    # y Ekseni adı\n",
        "    plt.ylabel('Actuals')\n",
        "    # x Ekseni adı\n",
        "    plt.xlabel('Predicted')\n",
        "    #plt.savefig(\"cm_matrix.png\")\n",
        "    plt.show()\n",
        "\n",
        "plot_confusion_matrix(predicted, actuals, sub_classes=le_nm.keys())"
      ]
    },
    {
      "cell_type": "code",
      "execution_count": null,
      "metadata": {
        "colab": {
          "background_save": true
        },
        "id": "63PtrJHbQQuu",
        "outputId": "0515391f-a43b-439e-e99b-023cf9a28d62"
      },
      "outputs": [
        {
          "name": "stdout",
          "output_type": "stream",
          "text": [
            "Drive already mounted at /content/drive; to attempt to forcibly remount, call drive.mount(\"/content/drive\", force_remount=True).\n"
          ]
        }
      ],
      "source": [
        "from google.colab import drive\n",
        "drive.mount('/content/drive')\n",
        "\n",
        "# Modelimize isim vererek Drive'a kaydettik.\n",
        "model_name = \"bertVia40k.pt\"\n",
        "path = F\"/content/drive/My Drive/{model_name}\"\n",
        "\n",
        "torch.save(model.state_dict(), path)"
      ]
    },
    {
      "cell_type": "code",
      "execution_count": null,
      "metadata": {
        "colab": {
          "background_save": true
        },
        "id": "vJcEwTAp5rpI"
      },
      "outputs": [],
      "source": []
    }
  ],
  "metadata": {
    "accelerator": "GPU",
    "colab": {
      "gpuType": "L4",
      "machine_shape": "hm",
      "provenance": []
    },
    "kernelspec": {
      "display_name": "Python 3",
      "name": "python3"
    },
    "language_info": {
      "codemirror_mode": {
        "name": "ipython",
        "version": 3
      },
      "file_extension": ".py",
      "mimetype": "text/x-python",
      "name": "python",
      "nbconvert_exporter": "python",
      "pygments_lexer": "ipython3",
      "version": "3.12.7"
    }
  },
  "nbformat": 4,
  "nbformat_minor": 0
}