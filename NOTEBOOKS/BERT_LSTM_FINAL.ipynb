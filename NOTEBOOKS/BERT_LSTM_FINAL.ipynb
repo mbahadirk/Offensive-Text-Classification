{
  "cells": [
    {
      "cell_type": "markdown",
      "metadata": {
        "id": "pa0ApCSXnrM6"
      },
      "source": [
        "# Importing Data"
      ]
    },
    {
      "cell_type": "code",
      "execution_count": null,
      "metadata": {
        "id": "fdHe_Tov6E_n",
        "colab": {
          "base_uri": "https://localhost:8080/"
        },
        "outputId": "ae368694-f9c3-41d3-f8e5-2a497cf2679c"
      },
      "outputs": [
        {
          "output_type": "stream",
          "name": "stdout",
          "text": [
            "Mounted at /content/drive\n"
          ]
        }
      ],
      "source": [
        "from google.colab import drive\n",
        "drive.mount('/content/drive')"
      ]
    },
    {
      "cell_type": "code",
      "execution_count": null,
      "metadata": {
        "id": "YBYJbRj6mb_U",
        "colab": {
          "base_uri": "https://localhost:8080/",
          "height": 206
        },
        "outputId": "084907ce-4e25-4f77-8bde-7c0636a3bb5b"
      },
      "outputs": [
        {
          "output_type": "execute_result",
          "data": {
            "text/plain": [
              "                                                text  label\n",
              "0  gercekten sizin hikayelerinizi izleyerek mi ye...      0\n",
              "1                  coook cok bi baklava bi sen zaten      0\n",
              "2  sn dukel ataturkun karma ile baslattigi siyasi...      0\n",
              "3  konfederasyonumuzun aile ve sosyal politikalar...      0\n",
              "4  hakemler tarih yaziyorlar kisiye karsi 32 onde...      1"
            ],
            "text/html": [
              "\n",
              "  <div id=\"df-ec18673c-24b8-4cb9-b502-92976b9b0c69\" class=\"colab-df-container\">\n",
              "    <div>\n",
              "<style scoped>\n",
              "    .dataframe tbody tr th:only-of-type {\n",
              "        vertical-align: middle;\n",
              "    }\n",
              "\n",
              "    .dataframe tbody tr th {\n",
              "        vertical-align: top;\n",
              "    }\n",
              "\n",
              "    .dataframe thead th {\n",
              "        text-align: right;\n",
              "    }\n",
              "</style>\n",
              "<table border=\"1\" class=\"dataframe\">\n",
              "  <thead>\n",
              "    <tr style=\"text-align: right;\">\n",
              "      <th></th>\n",
              "      <th>text</th>\n",
              "      <th>label</th>\n",
              "    </tr>\n",
              "  </thead>\n",
              "  <tbody>\n",
              "    <tr>\n",
              "      <th>0</th>\n",
              "      <td>gercekten sizin hikayelerinizi izleyerek mi ye...</td>\n",
              "      <td>0</td>\n",
              "    </tr>\n",
              "    <tr>\n",
              "      <th>1</th>\n",
              "      <td>coook cok bi baklava bi sen zaten</td>\n",
              "      <td>0</td>\n",
              "    </tr>\n",
              "    <tr>\n",
              "      <th>2</th>\n",
              "      <td>sn dukel ataturkun karma ile baslattigi siyasi...</td>\n",
              "      <td>0</td>\n",
              "    </tr>\n",
              "    <tr>\n",
              "      <th>3</th>\n",
              "      <td>konfederasyonumuzun aile ve sosyal politikalar...</td>\n",
              "      <td>0</td>\n",
              "    </tr>\n",
              "    <tr>\n",
              "      <th>4</th>\n",
              "      <td>hakemler tarih yaziyorlar kisiye karsi 32 onde...</td>\n",
              "      <td>1</td>\n",
              "    </tr>\n",
              "  </tbody>\n",
              "</table>\n",
              "</div>\n",
              "    <div class=\"colab-df-buttons\">\n",
              "\n",
              "  <div class=\"colab-df-container\">\n",
              "    <button class=\"colab-df-convert\" onclick=\"convertToInteractive('df-ec18673c-24b8-4cb9-b502-92976b9b0c69')\"\n",
              "            title=\"Convert this dataframe to an interactive table.\"\n",
              "            style=\"display:none;\">\n",
              "\n",
              "  <svg xmlns=\"http://www.w3.org/2000/svg\" height=\"24px\" viewBox=\"0 -960 960 960\">\n",
              "    <path d=\"M120-120v-720h720v720H120Zm60-500h600v-160H180v160Zm220 220h160v-160H400v160Zm0 220h160v-160H400v160ZM180-400h160v-160H180v160Zm440 0h160v-160H620v160ZM180-180h160v-160H180v160Zm440 0h160v-160H620v160Z\"/>\n",
              "  </svg>\n",
              "    </button>\n",
              "\n",
              "  <style>\n",
              "    .colab-df-container {\n",
              "      display:flex;\n",
              "      gap: 12px;\n",
              "    }\n",
              "\n",
              "    .colab-df-convert {\n",
              "      background-color: #E8F0FE;\n",
              "      border: none;\n",
              "      border-radius: 50%;\n",
              "      cursor: pointer;\n",
              "      display: none;\n",
              "      fill: #1967D2;\n",
              "      height: 32px;\n",
              "      padding: 0 0 0 0;\n",
              "      width: 32px;\n",
              "    }\n",
              "\n",
              "    .colab-df-convert:hover {\n",
              "      background-color: #E2EBFA;\n",
              "      box-shadow: 0px 1px 2px rgba(60, 64, 67, 0.3), 0px 1px 3px 1px rgba(60, 64, 67, 0.15);\n",
              "      fill: #174EA6;\n",
              "    }\n",
              "\n",
              "    .colab-df-buttons div {\n",
              "      margin-bottom: 4px;\n",
              "    }\n",
              "\n",
              "    [theme=dark] .colab-df-convert {\n",
              "      background-color: #3B4455;\n",
              "      fill: #D2E3FC;\n",
              "    }\n",
              "\n",
              "    [theme=dark] .colab-df-convert:hover {\n",
              "      background-color: #434B5C;\n",
              "      box-shadow: 0px 1px 3px 1px rgba(0, 0, 0, 0.15);\n",
              "      filter: drop-shadow(0px 1px 2px rgba(0, 0, 0, 0.3));\n",
              "      fill: #FFFFFF;\n",
              "    }\n",
              "  </style>\n",
              "\n",
              "    <script>\n",
              "      const buttonEl =\n",
              "        document.querySelector('#df-ec18673c-24b8-4cb9-b502-92976b9b0c69 button.colab-df-convert');\n",
              "      buttonEl.style.display =\n",
              "        google.colab.kernel.accessAllowed ? 'block' : 'none';\n",
              "\n",
              "      async function convertToInteractive(key) {\n",
              "        const element = document.querySelector('#df-ec18673c-24b8-4cb9-b502-92976b9b0c69');\n",
              "        const dataTable =\n",
              "          await google.colab.kernel.invokeFunction('convertToInteractive',\n",
              "                                                    [key], {});\n",
              "        if (!dataTable) return;\n",
              "\n",
              "        const docLinkHtml = 'Like what you see? Visit the ' +\n",
              "          '<a target=\"_blank\" href=https://colab.research.google.com/notebooks/data_table.ipynb>data table notebook</a>'\n",
              "          + ' to learn more about interactive tables.';\n",
              "        element.innerHTML = '';\n",
              "        dataTable['output_type'] = 'display_data';\n",
              "        await google.colab.output.renderOutput(dataTable, element);\n",
              "        const docLink = document.createElement('div');\n",
              "        docLink.innerHTML = docLinkHtml;\n",
              "        element.appendChild(docLink);\n",
              "      }\n",
              "    </script>\n",
              "  </div>\n",
              "\n",
              "\n",
              "    <div id=\"df-541e7abf-7db2-4198-9710-704c44ee694d\">\n",
              "      <button class=\"colab-df-quickchart\" onclick=\"quickchart('df-541e7abf-7db2-4198-9710-704c44ee694d')\"\n",
              "                title=\"Suggest charts\"\n",
              "                style=\"display:none;\">\n",
              "\n",
              "<svg xmlns=\"http://www.w3.org/2000/svg\" height=\"24px\"viewBox=\"0 0 24 24\"\n",
              "     width=\"24px\">\n",
              "    <g>\n",
              "        <path d=\"M19 3H5c-1.1 0-2 .9-2 2v14c0 1.1.9 2 2 2h14c1.1 0 2-.9 2-2V5c0-1.1-.9-2-2-2zM9 17H7v-7h2v7zm4 0h-2V7h2v10zm4 0h-2v-4h2v4z\"/>\n",
              "    </g>\n",
              "</svg>\n",
              "      </button>\n",
              "\n",
              "<style>\n",
              "  .colab-df-quickchart {\n",
              "      --bg-color: #E8F0FE;\n",
              "      --fill-color: #1967D2;\n",
              "      --hover-bg-color: #E2EBFA;\n",
              "      --hover-fill-color: #174EA6;\n",
              "      --disabled-fill-color: #AAA;\n",
              "      --disabled-bg-color: #DDD;\n",
              "  }\n",
              "\n",
              "  [theme=dark] .colab-df-quickchart {\n",
              "      --bg-color: #3B4455;\n",
              "      --fill-color: #D2E3FC;\n",
              "      --hover-bg-color: #434B5C;\n",
              "      --hover-fill-color: #FFFFFF;\n",
              "      --disabled-bg-color: #3B4455;\n",
              "      --disabled-fill-color: #666;\n",
              "  }\n",
              "\n",
              "  .colab-df-quickchart {\n",
              "    background-color: var(--bg-color);\n",
              "    border: none;\n",
              "    border-radius: 50%;\n",
              "    cursor: pointer;\n",
              "    display: none;\n",
              "    fill: var(--fill-color);\n",
              "    height: 32px;\n",
              "    padding: 0;\n",
              "    width: 32px;\n",
              "  }\n",
              "\n",
              "  .colab-df-quickchart:hover {\n",
              "    background-color: var(--hover-bg-color);\n",
              "    box-shadow: 0 1px 2px rgba(60, 64, 67, 0.3), 0 1px 3px 1px rgba(60, 64, 67, 0.15);\n",
              "    fill: var(--button-hover-fill-color);\n",
              "  }\n",
              "\n",
              "  .colab-df-quickchart-complete:disabled,\n",
              "  .colab-df-quickchart-complete:disabled:hover {\n",
              "    background-color: var(--disabled-bg-color);\n",
              "    fill: var(--disabled-fill-color);\n",
              "    box-shadow: none;\n",
              "  }\n",
              "\n",
              "  .colab-df-spinner {\n",
              "    border: 2px solid var(--fill-color);\n",
              "    border-color: transparent;\n",
              "    border-bottom-color: var(--fill-color);\n",
              "    animation:\n",
              "      spin 1s steps(1) infinite;\n",
              "  }\n",
              "\n",
              "  @keyframes spin {\n",
              "    0% {\n",
              "      border-color: transparent;\n",
              "      border-bottom-color: var(--fill-color);\n",
              "      border-left-color: var(--fill-color);\n",
              "    }\n",
              "    20% {\n",
              "      border-color: transparent;\n",
              "      border-left-color: var(--fill-color);\n",
              "      border-top-color: var(--fill-color);\n",
              "    }\n",
              "    30% {\n",
              "      border-color: transparent;\n",
              "      border-left-color: var(--fill-color);\n",
              "      border-top-color: var(--fill-color);\n",
              "      border-right-color: var(--fill-color);\n",
              "    }\n",
              "    40% {\n",
              "      border-color: transparent;\n",
              "      border-right-color: var(--fill-color);\n",
              "      border-top-color: var(--fill-color);\n",
              "    }\n",
              "    60% {\n",
              "      border-color: transparent;\n",
              "      border-right-color: var(--fill-color);\n",
              "    }\n",
              "    80% {\n",
              "      border-color: transparent;\n",
              "      border-right-color: var(--fill-color);\n",
              "      border-bottom-color: var(--fill-color);\n",
              "    }\n",
              "    90% {\n",
              "      border-color: transparent;\n",
              "      border-bottom-color: var(--fill-color);\n",
              "    }\n",
              "  }\n",
              "</style>\n",
              "\n",
              "      <script>\n",
              "        async function quickchart(key) {\n",
              "          const quickchartButtonEl =\n",
              "            document.querySelector('#' + key + ' button');\n",
              "          quickchartButtonEl.disabled = true;  // To prevent multiple clicks.\n",
              "          quickchartButtonEl.classList.add('colab-df-spinner');\n",
              "          try {\n",
              "            const charts = await google.colab.kernel.invokeFunction(\n",
              "                'suggestCharts', [key], {});\n",
              "          } catch (error) {\n",
              "            console.error('Error during call to suggestCharts:', error);\n",
              "          }\n",
              "          quickchartButtonEl.classList.remove('colab-df-spinner');\n",
              "          quickchartButtonEl.classList.add('colab-df-quickchart-complete');\n",
              "        }\n",
              "        (() => {\n",
              "          let quickchartButtonEl =\n",
              "            document.querySelector('#df-541e7abf-7db2-4198-9710-704c44ee694d button');\n",
              "          quickchartButtonEl.style.display =\n",
              "            google.colab.kernel.accessAllowed ? 'block' : 'none';\n",
              "        })();\n",
              "      </script>\n",
              "    </div>\n",
              "\n",
              "    </div>\n",
              "  </div>\n"
            ],
            "application/vnd.google.colaboratory.intrinsic+json": {
              "type": "dataframe",
              "variable_name": "df",
              "summary": "{\n  \"name\": \"df\",\n  \"rows\": 42398,\n  \"fields\": [\n    {\n      \"column\": \"text\",\n      \"properties\": {\n        \"dtype\": \"string\",\n        \"num_unique_values\": 42141,\n        \"samples\": [\n          \"vay cakal erbakan kurdleri yillarca kandirmis demekki milli milli derken mhp gibiymis kodugumun turkcusu\",\n          \"amk ulkemizi ziyarete gelen cebelitarik vatandasindan bahsediyorlar sanki yabanci uyrukluymus amina kodugumun suriyelisi yazin gecin iste\",\n          \"wanyama neden olmasin beklemeye gectik\"\n        ],\n        \"semantic_type\": \"\",\n        \"description\": \"\"\n      }\n    },\n    {\n      \"column\": \"label\",\n      \"properties\": {\n        \"dtype\": \"number\",\n        \"std\": 0,\n        \"min\": 0,\n        \"max\": 1,\n        \"num_unique_values\": 2,\n        \"samples\": [\n          1,\n          0\n        ],\n        \"semantic_type\": \"\",\n        \"description\": \"\"\n      }\n    }\n  ]\n}"
            }
          },
          "metadata": {},
          "execution_count": 2
        }
      ],
      "source": [
        "import pandas as pd\n",
        "\n",
        "# Kullandığımız veri setindeki satırları \"|\" ayıracı ile ayırıyoruz.\n",
        "df = pd.read_csv('/content/drive/MyDrive/preprocessed_train_40k.csv')\n",
        "df = df[[\"text\", \"label\"]]\n",
        "df.head()"
      ]
    },
    {
      "cell_type": "code",
      "execution_count": null,
      "metadata": {
        "id": "xX9CLWljnzXS",
        "colab": {
          "base_uri": "https://localhost:8080/"
        },
        "outputId": "7dc241dd-598e-4d75-881a-151e0a62e046"
      },
      "outputs": [
        {
          "output_type": "stream",
          "name": "stdout",
          "text": [
            "<class 'pandas.core.frame.DataFrame'>\n",
            "RangeIndex: 42398 entries, 0 to 42397\n",
            "Data columns (total 2 columns):\n",
            " #   Column  Non-Null Count  Dtype \n",
            "---  ------  --------------  ----- \n",
            " 0   text    42396 non-null  object\n",
            " 1   label   42398 non-null  int64 \n",
            "dtypes: int64(1), object(1)\n",
            "memory usage: 662.6+ KB\n"
          ]
        }
      ],
      "source": [
        "# Veri seti hakkında bilgileri yazdırdık.\n",
        "df.info()"
      ]
    },
    {
      "cell_type": "markdown",
      "source": [
        "Parameters\n"
      ],
      "metadata": {
        "id": "pI6bcLCMUIv-"
      }
    },
    {
      "cell_type": "code",
      "source": [
        "batch_size = 32\n",
        "max_length = 200"
      ],
      "metadata": {
        "id": "lHh7nt5LUKOX"
      },
      "execution_count": null,
      "outputs": []
    },
    {
      "cell_type": "code",
      "execution_count": null,
      "metadata": {
        "id": "DIPEA9OPn493",
        "colab": {
          "base_uri": "https://localhost:8080/",
          "height": 526
        },
        "outputId": "64a50c67-c899-4f57-a978-acecd4c1e300"
      },
      "outputs": [
        {
          "output_type": "execute_result",
          "data": {
            "text/plain": [
              "([<matplotlib.patches.Wedge at 0x7c7dbe2e6550>,\n",
              "  <matplotlib.patches.Wedge at 0x7c7dbf3b2910>],\n",
              " [Text(-1.0941706636813076, -0.11309535242089684, 'Zararsiz'),\n",
              "  Text(1.0941707077221812, 0.11309492633509963, 'Zararli')],\n",
              " [Text(-0.5968203620079859, -0.06168837404776191, '53.3%'),\n",
              "  Text(0.5968203860302805, 0.06168814163732706, '46.7%')])"
            ]
          },
          "metadata": {},
          "execution_count": 5
        },
        {
          "output_type": "display_data",
          "data": {
            "text/plain": [
              "<Figure size 1500x500 with 1 Axes>"
            ],
            "image/png": "[encoded data removed]"
          },
          "metadata": {}
        }
      ],
      "source": [
        "import matplotlib.pyplot as plt\n",
        "plt.rcParams['figure.figsize'] = (15, 5)\n",
        "\n",
        "# OTHER kategorisindeki veri adetini hesapladik.\n",
        "positive = len(df[df['label'] == 0])\n",
        "# (RACIST+INSULT+PROFANITY+SEXIST) kategorisindeki veri adetini hesapladik.\n",
        "negative = len(df[df['label'] == 1])\n",
        "# Dairesel grafikteki verilerimizi ayarladık.\n",
        "pie_y = [positive, negative]\n",
        "# Dairesel grafikteki verilerimizin adını ayarladık.\n",
        "pie_labels = [\"Zararsiz\", \"Zararli\"]\n",
        "\n",
        "# Dairesel grafiğimizi oluşturduk.\n",
        "plt.pie(pie_y, labels=pie_labels, startangle=90, autopct='%1.1f%%')"
      ]
    },
    {
      "cell_type": "markdown",
      "metadata": {
        "id": "ATtugYUJoWnq"
      },
      "source": [
        "# Her bir kategorideki veri adeti"
      ]
    },
    {
      "cell_type": "code",
      "execution_count": null,
      "metadata": {
        "id": "4pTObUuaoC6i",
        "colab": {
          "base_uri": "https://localhost:8080/",
          "height": 493
        },
        "outputId": "86425e87-003c-4fae-f356-cbdcd5d09fec"
      },
      "outputs": [
        {
          "output_type": "display_data",
          "data": {
            "text/plain": [
              "<Figure size 1500x500 with 1 Axes>"
            ],
            "image/png": "[encoded data removed]"
          },
          "metadata": {}
        }
      ],
      "source": [
        "from collections import Counter\n",
        "# TARGET sütunundaki kategorileri bulduk.\n",
        "tags = Counter(df[\"label\"]).keys()\n",
        "# TARGET sütunundaki kategorilerin adetini bulduk.\n",
        "tags_len = Counter(df[\"label\"]).values()\n",
        "\n",
        "# Kategori ismi ve adet sayısını veri seti haline getirdik.\n",
        "tag_df = pd.DataFrame(zip(tags, tags_len), columns=[\"Sinif\", \"Toplam\"])\n",
        "# Plot grafiğimizi oluşturduk.\n",
        "tag_df.plot(x=\"Sinif\", y=\"Toplam\", kind=\"bar\", legend=False, grid=False, figsize=(15,5))\n",
        "# Plot grafiğimizin başlığını ayarladık.\n",
        "plt.title(\"Etiket Sayılarının Görselleştirilmesi\", fontsize=18)\n",
        "# Plot grafiğimizin x ekseni başlığını ayarladık.\n",
        "plt.xlabel(\"Etiketler\", fontsize=15)\n",
        "# Plot grafiğimizin y ekseni başlığını ayarladık.\n",
        "plt.ylabel(\"Toplam\", fontsize=15)\n",
        "# Plot grafiğimizi ekrana yazdırdık.\n",
        "plt.show()"
      ]
    },
    {
      "cell_type": "markdown",
      "metadata": {
        "id": "F7kGF4wNo0YL"
      },
      "source": [
        "# Temizlemeden önceki en sık kullanılan kelimeler"
      ]
    },
    {
      "cell_type": "code",
      "execution_count": null,
      "metadata": {
        "id": "1AFrfNSCol5F",
        "colab": {
          "base_uri": "https://localhost:8080/"
        },
        "outputId": "30da708c-1d82-4342-bb4c-390339094091"
      },
      "outputs": [
        {
          "output_type": "stream",
          "name": "stderr",
          "text": [
            "[nltk_data] Downloading package punkt_tab to /root/nltk_data...\n",
            "[nltk_data]   Unzipping tokenizers/punkt_tab.zip.\n"
          ]
        }
      ],
      "source": [
        "import nltk\n",
        "import string\n",
        "# Download the 'punkt_tab' resource\n",
        "nltk.download('punkt_tab')\n",
        "\n",
        "# Bir kategorideki en sık geçen kelimeleri bulmaya yarayan fonksiyonumuzu tanımladık.\n",
        "def word_freq(CATEGORY):\n",
        "  # Parametre olarak verilen kategoriyi kullanarak veri setimizi oluşturduk.\n",
        "  freq_df = df[df['label'] == CATEGORY]\n",
        "  # Kategorimizin text sınıfındaki satırlardaki kelimeleri bir değişkene aktardık.\n",
        "  freq_words = freq_df[\"text\"].tolist()\n",
        "  # The error is likely due to some values in the \"text\" column being floats or NaNs.\n",
        "  # This line converts all elements of freq_words to strings before applying lower(),\n",
        "  # preventing the AttributeError.\n",
        "  freq_words = [str(i).lower() for i in freq_words]\n",
        "  freq_punc = []\n",
        "  # Dizimizdeki kelimelerin sıklığındaki noktalama işaretlerini saydık.\n",
        "  for o in freq_words:\n",
        "    freq_punc += nltk.word_tokenize(o)\n",
        "  freq_punc = [o for o in freq_punc if o not in string.punctuation]\n",
        "  freq_freq = Counter(freq_punc)\n",
        "  # En sık geçen 15 kelimeyi bir değişkene atadık.\n",
        "  freq_top = freq_freq.most_common(15)\n",
        "\n",
        "\n",
        "  words = [word for word, _ in freq_top]\n",
        "\n",
        "  counts = [counts for _, counts in freq_top]\n",
        "\n",
        "  # Sütun grafiğimizi oluşturduk.\n",
        "  plt.bar(words, counts)\n",
        "  # Sütun grafiğimizin başlığını ayarladık.\n",
        "  plt.title(f\"{CATEGORY} SINIFINDAKI EN SIK GECEN 15 KELIME\")\n",
        "  # Sütun grafiğimizin y ekseni başlığını ayarladık.\n",
        "  plt.ylabel(\"Frekans\")\n",
        "  # Sütun grafiğimizin x ekseni başlığını ayarladık.\n",
        "  plt.xlabel(\"Kelimeler\")\n",
        "  # Sütün grafiğimizi ekrana bastırdık.\n",
        "  plt.show()\n",
        "\n",
        "  # WordCloud'da kullanmak için en sık geçen kelimeleri döndürdük.\n",
        "  return freq_top"
      ]
    },
    {
      "cell_type": "code",
      "execution_count": null,
      "metadata": {
        "id": "qafX1tTRo-bT",
        "colab": {
          "base_uri": "https://localhost:8080/",
          "height": 487
        },
        "outputId": "7f5ab1ce-0c37-4888-d3f1-6a04527663c8"
      },
      "outputs": [
        {
          "output_type": "display_data",
          "data": {
            "text/plain": [
              "<Figure size 1500x500 with 1 Axes>"
            ],
            "image/png": "[encoded data removed]"
          },
          "metadata": {}
        }
      ],
      "source": [
        "# 1 kategorisindeki en sık geçen 15 kelimeyi gösteren grafiği ekrana yazdırdık.\n",
        "negative_top = word_freq(1)"
      ]
    },
    {
      "cell_type": "code",
      "execution_count": null,
      "metadata": {
        "id": "u8VlMjmmpEA6",
        "colab": {
          "base_uri": "https://localhost:8080/",
          "height": 487
        },
        "outputId": "7d2c1923-c4a7-4374-ad91-40f472d0f0af"
      },
      "outputs": [
        {
          "output_type": "display_data",
          "data": {
            "text/plain": [
              "<Figure size 1500x500 with 1 Axes>"
            ],
            "image/png": "[encoded data removed]"
          },
          "metadata": {}
        }
      ],
      "source": [
        "# 0 kategorisindeki en sık geçen 15 kelimeyi gösteren grafiği ekrana yazdırdık.\n",
        "positive_top = word_freq(0)"
      ]
    },
    {
      "cell_type": "code",
      "execution_count": null,
      "metadata": {
        "id": "M__oj8sRUO_C"
      },
      "outputs": [],
      "source": [
        "from sklearn.preprocessing import LabelEncoder\n",
        "# LabelEncoder kullanarak \"target\" sütunumuza dönüşüm yaptırdık.\n",
        "le = LabelEncoder().fit(df[\"label\"])\n",
        "# \"Name Mapping\" işlemini tanımladık.\n",
        "le_nm = dict(zip(le.classes_, le.transform(le.classes_)))\n",
        "# Veri setimizde \"labels\" adında sütun oluşturarak \"target\" sütununa \"Name Mapping\" işlemi yaparak \"labels\" sütunu altına aktardık.\n",
        "df[\"labels\"] = df[\"label\"].apply(lambda x: le_nm[x])\n",
        "# \"id\", \"text\", \"target\" sütunlarını veri setimizden çıkardık.\n",
        "df = df.drop(['label'], axis=1)"
      ]
    },
    {
      "cell_type": "code",
      "execution_count": null,
      "metadata": {
        "id": "EqMZzOELqDpc",
        "colab": {
          "base_uri": "https://localhost:8080/",
          "height": 217,
          "referenced_widgets": [
            "553dfc20edd14cf584ce5fa452861e9c",
            "dc8fab6fecb54a208c126f6c2875f1ca",
            "37a2540ab3a54b43a1c2ef4db13026b8",
            "675bdf5f825c4273a0ffe377b250d649",
            "9900fa23ddf84f0ab19652cde3734941",
            "cd62774e34b447a495c422415c80aacd",
            "852850d42c394f81bb455314f0a851ef",
            "d7a33bd67e534ab5ab8cf852c75bd32c",
            "bca73152b54b43b58671e94d6096f1b0",
            "d652109186a047f98debec2d02f16b67",
            "ca792e0066a749ec9b7577f80a7c9cca",
            "ae2123214ac441e4b814a01663f7a4c2",
            "30b1f8ea9db04c1194165edbb947c2bf",
            "a0dc608759a044bab2f2dd612950c1ef",
            "d1a3836db9204c65b2bc30cef47af1c5",
            "ad3741b1c0854ad7ad4a7b8525ecb895",
            "60efb325cba5488fbcf4b2e0e74b7e7e",
            "c17bd92190694fdc87f3ad3ebcce3cdb",
            "4535ee3dfc0e4bd48bbf7413d972c2cd",
            "89acf074adf74495b0a1388abce56031",
            "6355067f88124f99af2df73c5ab6f3ff",
            "101eb27e7eae4daca6eeb1657a4c8c91",
            "51e258ef853f49c0a4e44e4bd84f5bd5",
            "fb83291c948343fc8abf248f00619ff6",
            "9b937183a29a4afb811ec0d81a19619c",
            "1bc3e637f7eb4f5dbae44fcd94b80d13",
            "301df618902e4763928066ddfccc7349",
            "0e604d7de14e4e6199377358eb8b4bd0",
            "f1ce2099a9554665a5cdfb44db74ed7a",
            "baf221ee7d814f41b9318b7bdc9c237f",
            "b14f3a2238af4da4982dceb8d4e36b85",
            "d64e54fd9d004b09aea5f19472d619a1",
            "b737517251ea4bd188ada9e000070ac1"
          ]
        },
        "outputId": "f740b584-f9ee-4d4d-9e21-e9ce624e9915"
      },
      "outputs": [
        {
          "output_type": "stream",
          "name": "stderr",
          "text": [
            "/usr/local/lib/python3.11/dist-packages/huggingface_hub/utils/_auth.py:94: UserWarning: \n",
            "The secret `HF_TOKEN` does not exist in your Colab secrets.\n",
            "To authenticate with the Hugging Face Hub, create a token in your settings tab (https://huggingface.co/settings/tokens), set it as secret in your Google Colab and restart your session.\n",
            "You will be able to reuse this secret in all of your notebooks.\n",
            "Please note that authentication is recommended but still optional to access public models or datasets.\n",
            "  warnings.warn(\n"
          ]
        },
        {
          "output_type": "display_data",
          "data": {
            "text/plain": [
              "tokenizer_config.json:   0%|          | 0.00/59.0 [00:00<?, ?B/s]"
            ],
            "application/vnd.jupyter.widget-view+json": {
              "version_major": 2,
              "version_minor": 0,
              "model_id": "553dfc20edd14cf584ce5fa452861e9c"
            }
          },
          "metadata": {}
        },
        {
          "output_type": "display_data",
          "data": {
            "text/plain": [
              "vocab.txt:   0%|          | 0.00/263k [00:00<?, ?B/s]"
            ],
            "application/vnd.jupyter.widget-view+json": {
              "version_major": 2,
              "version_minor": 0,
              "model_id": "ae2123214ac441e4b814a01663f7a4c2"
            }
          },
          "metadata": {}
        },
        {
          "output_type": "display_data",
          "data": {
            "text/plain": [
              "config.json:   0%|          | 0.00/385 [00:00<?, ?B/s]"
            ],
            "application/vnd.jupyter.widget-view+json": {
              "version_major": 2,
              "version_minor": 0,
              "model_id": "51e258ef853f49c0a4e44e4bd84f5bd5"
            }
          },
          "metadata": {}
        }
      ],
      "source": [
        "import numpy as np\n",
        "import torch\n",
        "from transformers import BertTokenizer, BertModel\n",
        "\n",
        "# Verilerimizi BERT'e uygun biçimde dönüştürmemiz gerekiyor. Bunu da Hugging Face'den önceden eğitilmiş \"bert-base-turkish-uncased\" modelini kullanarak yapıyoruz.\n",
        "tokenizer = BertTokenizer.from_pretrained(\"dbmdz/bert-base-turkish-uncased\")\n",
        "labels = le_nm\n",
        "\n",
        "class Dataset(torch.utils.data.Dataset):\n",
        "    def __init__(self, df):\n",
        "      # Kategorik sınıflar.\n",
        "      self.labels = [label for label in df['labels']]\n",
        "      # text = Modeli eğitmek için kullanılacak veri setindeki \"clean_text\" sütunundaki her bir satır.\n",
        "      # padding = Her bir diziyi belirttiğimiz maksimum uzunluga kadar doldurmak için.\n",
        "      # max_length = Her bir dizinin maksimum uzunluğu\n",
        "      # truncation = Eğer değeri \"True\" ise dizimiz maksimum uzunluğu aşar ise onu keser.\n",
        "      # return_tensors = Döndürelecek tensörlerin türü. Pytorch kullandığımız için \"pt\" yazıyoruz. Tensorflow kullansaydık \"tf\" yazmamız gerekirdi.\n",
        "      self.text = [tokenizer(str(text), padding='max_length', max_length=max_length, truncation=True, return_tensors=\"pt\") for text in df['text']]\n",
        "\n",
        "    def classes(self):\n",
        "      return self.labels\n",
        "\n",
        "    def __len__(self):\n",
        "      return len(self.labels)\n",
        "\n",
        "    def get_batch_labels(self, idx):\n",
        "      # Bir grup etiket getir.\n",
        "      return np.array(self.labels[idx])\n",
        "\n",
        "    def get_batch_texts(self, idx):\n",
        "      # Bir grup girdi getir.\n",
        "      return self.text[idx]\n",
        "\n",
        "    def __getitem__(self, idx):\n",
        "      batch_texts = self.get_batch_texts(idx)\n",
        "      batch_y = self.get_batch_labels(idx)\n",
        "\n",
        "      return batch_texts, batch_y"
      ]
    },
    {
      "cell_type": "code",
      "execution_count": null,
      "metadata": {
        "id": "SnTm6kd_v-87",
        "colab": {
          "base_uri": "https://localhost:8080/"
        },
        "outputId": "2f342b20-ac59-4021-d54b-c61c1c447c8f"
      },
      "outputs": [
        {
          "output_type": "stream",
          "name": "stdout",
          "text": [
            "25438 8479 8481\n"
          ]
        }
      ],
      "source": [
        "def train_validate_test_split(df):\n",
        "    # Rastgelelik durumu.\n",
        "    np.random.seed(4242)\n",
        "    # Diziyi rastgele permute eder.\n",
        "    perm = np.random.permutation(df.index)\n",
        "    # Veri setinin %60'ının sayısal değeri hesaplandı.\n",
        "    train_end = int(.6 * len(df.index))\n",
        "    # Veri setinin %20'sinin sayısal değeri hesaplandı.\n",
        "    validate_end = int(.2 * len(df.index)) + train_end\n",
        "    # Veri setinin %60'ını train etmek için ayırdık.\n",
        "    train = df.iloc[perm[:train_end]]\n",
        "    # Veri setinin %20'sini validation etmek için ayırdık.\n",
        "    validate = df.iloc[perm[train_end:validate_end]]\n",
        "    # Veri setinin %20'sini test etmek için ayırdık.\n",
        "    test = df.iloc[perm[validate_end:]]\n",
        "    # train, validation, test veri setlerini döndür.\n",
        "    return train, validate, test\n",
        "\n",
        "# Train, Validation ve Test için veri setlerimiz oluşturduk.\n",
        "df_train, df_validation, df_test = train_validate_test_split(df)\n",
        "# Train, Validation ve Test için oluşturduğumuz veri setlerinin uzunluğunu ekrana yazdırdık. (%60 - %20 - %20)\n",
        "print(len(df_train), len(df_validation), len(df_test))"
      ]
    },
    {
      "cell_type": "code",
      "execution_count": null,
      "metadata": {
        "id": "y8gUKIFgwBRu"
      },
      "outputs": [],
      "source": [
        "\n",
        "\n",
        "class BertLSTMClassifier(torch.nn.Module):\n",
        "    def __init__(self, dropout=0.7):\n",
        "        super(BertLSTMClassifier, self).__init__()\n",
        "\n",
        "        self.bert = BertModel.from_pretrained(\"dbmdz/bert-base-turkish-uncased\")\n",
        "        self.lstm = torch.nn.LSTM(input_size=768, hidden_size=256, batch_first=True, bidirectional=True)\n",
        "        self.dropout = torch.nn.Dropout(dropout)\n",
        "        self.linear = torch.nn.Linear(256 * 2, 2)  # 2 çünkü Bidirectional LSTM\n",
        "        self.relu = torch.nn.ReLU()\n",
        "\n",
        "    def forward(self, input_id, mask):\n",
        "        # last_hidden_state: her token için embedding (batch_size, seq_len, hidden_size)\n",
        "        last_hidden_state, _ = self.bert(input_ids=input_id, attention_mask=mask, return_dict=False)\n",
        "\n",
        "        # LSTM'e sokuyoruz tüm token vektörlerini\n",
        "        lstm_output, _ = self.lstm(last_hidden_state)  # (batch_size, seq_len, 2*hidden_size)\n",
        "\n",
        "        # Sadece ilk token ([CLS])'ın LSTM çıktısını al\n",
        "        cls_lstm_output = lstm_output[:, 0, :]  # İlk token'ın çıktısı\n",
        "\n",
        "        dropout_output = self.dropout(cls_lstm_output)\n",
        "        linear_output = self.linear(dropout_output)\n",
        "        final_layer = self.relu(linear_output)\n",
        "\n",
        "        return final_layer\n"
      ]
    },
    {
      "cell_type": "code",
      "execution_count": null,
      "metadata": {
        "id": "LF__SR-hwFbB",
        "colab": {
          "base_uri": "https://localhost:8080/"
        },
        "outputId": "f9a9e623-8201-4d86-e6e4-7ba9178e92c8"
      },
      "outputs": [
        {
          "output_type": "stream",
          "name": "stderr",
          "text": [
            "100%|██████████| 795/795 [03:07<00:00,  4.25it/s]\n",
            "100%|██████████| 265/265 [00:20<00:00, 13.24it/s]\n"
          ]
        },
        {
          "output_type": "stream",
          "name": "stdout",
          "text": [
            "\n",
            "Epochs: 1\n",
            "Train Loss:  0.0160\n",
            "Train Accuracy:  0.7727\n",
            "Validation Loss:  0.0094\n",
            "Validation Accuracy:  0.8962\n"
          ]
        },
        {
          "output_type": "stream",
          "name": "stderr",
          "text": [
            "100%|██████████| 795/795 [03:07<00:00,  4.25it/s]\n",
            "100%|██████████| 265/265 [00:20<00:00, 13.23it/s]\n"
          ]
        },
        {
          "output_type": "stream",
          "name": "stdout",
          "text": [
            "\n",
            "Epochs: 2\n",
            "Train Loss:  0.0085\n",
            "Train Accuracy:  0.9018\n",
            "Validation Loss:  0.0077\n",
            "Validation Accuracy:  0.9095\n"
          ]
        },
        {
          "output_type": "stream",
          "name": "stderr",
          "text": [
            "100%|██████████| 795/795 [03:07<00:00,  4.25it/s]\n",
            "100%|██████████| 265/265 [00:20<00:00, 13.24it/s]\n"
          ]
        },
        {
          "output_type": "stream",
          "name": "stdout",
          "text": [
            "\n",
            "Epochs: 3\n",
            "Train Loss:  0.0072\n",
            "Train Accuracy:  0.9171\n",
            "Validation Loss:  0.0072\n",
            "Validation Accuracy:  0.9157\n"
          ]
        },
        {
          "output_type": "stream",
          "name": "stderr",
          "text": [
            "100%|██████████| 795/795 [03:07<00:00,  4.25it/s]\n",
            "100%|██████████| 265/265 [00:20<00:00, 13.21it/s]\n"
          ]
        },
        {
          "output_type": "stream",
          "name": "stdout",
          "text": [
            "\n",
            "Epochs: 4\n",
            "Train Loss:  0.0064\n",
            "Train Accuracy:  0.9283\n",
            "Validation Loss:  0.0069\n",
            "Validation Accuracy:  0.9170\n"
          ]
        },
        {
          "output_type": "stream",
          "name": "stderr",
          "text": [
            "100%|██████████| 795/795 [03:07<00:00,  4.25it/s]\n",
            "100%|██████████| 265/265 [00:20<00:00, 13.22it/s]\n"
          ]
        },
        {
          "output_type": "stream",
          "name": "stdout",
          "text": [
            "\n",
            "Epochs: 5\n",
            "Train Loss:  0.0057\n",
            "Train Accuracy:  0.9386\n",
            "Validation Loss:  0.0070\n",
            "Validation Accuracy:  0.9161\n",
            "⚠️ No improvement. Early Stop Counter: 1/2\n"
          ]
        },
        {
          "output_type": "stream",
          "name": "stderr",
          "text": [
            "100%|██████████| 795/795 [03:07<00:00,  4.25it/s]\n",
            "100%|██████████| 265/265 [00:20<00:00, 13.23it/s]"
          ]
        },
        {
          "output_type": "stream",
          "name": "stdout",
          "text": [
            "\n",
            "Epochs: 6\n",
            "Train Loss:  0.0050\n",
            "Train Accuracy:  0.9480\n",
            "Validation Loss:  0.0071\n",
            "Validation Accuracy:  0.9173\n",
            "⚠️ No improvement. Early Stop Counter: 2/2\n",
            "🛑 Early stopping: Validation loss has not improved.\n"
          ]
        },
        {
          "output_type": "stream",
          "name": "stderr",
          "text": [
            "\n"
          ]
        }
      ],
      "source": [
        "# Eğitim tur sayısı\n",
        "EPOCHS = 20\n",
        "# BERT model tanımlaması.\n",
        "model = BertLSTMClassifier()\n",
        "# Öğrenme oranı\n",
        "LR = 1e-6\n",
        "\n",
        "# Train ve Validation için ayırdığımız veri setlerini\n",
        "train, validation = Dataset(df_train), Dataset(df_validation)\n",
        "\n",
        "# Verilerin toplu olarak içe aktarılması için DataLoader kullanıyoruz.\n",
        "# batch_size, model güncellenmeden önce işlenen örnek sayısıdır.\n",
        "# shuffle, karıştır.\n",
        "tdl = torch.utils.data.DataLoader(train, batch_size=batch_size, shuffle=True)\n",
        "vdl = torch.utils.data.DataLoader(validation, batch_size=batch_size)\n",
        "device = torch.device(\"cuda\")\n",
        "\n",
        "# Çok sınıflı sınıflandırma kullandığımız için çapraz entropi kullanmamız gerekiyor.\n",
        "criterion = torch.nn.CrossEntropyLoss().cuda()\n",
        "# Optimizer için Adam kullanıyoruz.\n",
        "optimizer = torch.optim.Adam(model.parameters(), lr=LR)\n",
        "model = model.cuda()\n",
        "\n",
        "# EARLY STOPPING PARAMETRELERI\n",
        "patience = 2  # sabit kalınacak epoch sayısı\n",
        "min_delta = 0.0001  # iyileşme sayılabilmesi için minimum fark\n",
        "best_val_loss = float('inf')  # ilk karşılaştırma için sonsuz\n",
        "early_stop_counter = 0\n",
        "\n",
        "for EPOCH in range(EPOCHS):\n",
        "    # Toplam eğitim doğruluğu\n",
        "    total_train_accuracy = 0\n",
        "    # Toplam eğitim kaybı\n",
        "    total_train_loss = 0\n",
        "    # Toplam validation doğruluğu\n",
        "    total_validation_accuracy = 0\n",
        "    # Toplam validation kaybı\n",
        "    total_validation_loss = 0\n",
        "\n",
        "    # tqdm kütüphanesi, \"Progress Bar\" oluşturmaya yarar.\n",
        "    from tqdm import tqdm\n",
        "    for train_input, train_label in tqdm(tdl):\n",
        "        # Modelin verileri işleyebilmesi için hem modelin hem de verilerin CPU veya GPU olmak üzere aynı cihazda olması gerekir.\n",
        "        # Örneğin veriler CPU'da, model GPU'da olursa çalışma zamanı hatası oluşacaktır.\n",
        "        # Bunu önlemek için pytorch kütüphanesinden \"to\" fonksiyonunu kullanıyoruz.\n",
        "        train_label = train_label.to(device)\n",
        "\n",
        "        # Attention mask, bir belirtecin gercek bir kelimemi yoksa dolgu mu olduğunu tanımlar.\n",
        "        # Eğer gerçek bir kelime ise attention_mask=1, eğer dolgu ise attention_mask=0 olacaktır.\n",
        "        mask = train_input['attention_mask'].to(device)\n",
        "        # input_ids, her bir tokenin id gösterimidir.\n",
        "        input_id = train_input['input_ids'].squeeze(1).to(device)\n",
        "\n",
        "        # Modelin eğitim verileri üzerindeki tahminlerinin sonuçları saklanır.\n",
        "        output = model(input_id, mask)\n",
        "\n",
        "        # Çapraz entropi ile örneklem kaybını hesaplıyoruz.\n",
        "        batch_loss = criterion(output, train_label.long())\n",
        "        # Her bir epoch için toplam train kaybını bulmak için her bir örneklemin train kaybını topluyoruz.\n",
        "        total_train_loss += batch_loss.item()\n",
        "\n",
        "        # \"output\" değişkenindeki her bir veri örneği için çıktı tensöründe en yüksek olasılığa sahip\n",
        "        # sınıfın indexini döndürür. Daha sonra \"train_label\" adlı tensörde modein doğru sınıf tahmilnerinin\n",
        "        # bulunduğu etiketleri saklanır. Doğru tahmin edilen sınıfların sayısı hesaplanır ve \"item\"\n",
        "        # fonksiyonu ile sayısal bir değere dönüştürülür.\n",
        "        train_accuracy = (output.argmax(dim=1) == train_label).sum().item()\n",
        "        # Her bir epoch için toplam train doğruluğunu bulmak için her bir örneklemin doğruluk kaybını topluyoruz.\n",
        "        total_train_accuracy += train_accuracy\n",
        "\n",
        "        # Gradyanlar, modelin kaybını optimize etmek için geriye doğru hesaplanır ve eğitim adımlarında kullanılır.\n",
        "        # Pytorch'da Gradyanlar biriktirilir ve önceki gradyan üzerine eklenir. Bu nedenle, modelin bir sonraki eğitim\n",
        "        # adımında geçerli gradyan değerlerini kullanabilmesi için, gradyanların önce sıfırlanması gerekir.\n",
        "        # Bu işlemi de \"zero_grad\" fonksiyonunu kullanarak yapıyoruz.\n",
        "        model.zero_grad()\n",
        "\n",
        "        # Kayıp fonksiyonunun gradyanını hesaplamak ve bu gradyanı kullanarak modelin ağırlıklarının güncellenmesi için\n",
        "        # geriye doğru geçiş (backpropagation) işlemini başlatıyoruz.\n",
        "        batch_loss.backward()\n",
        "\n",
        "        #step(), optimize edicinin güncellemesi gereken tüm tensörler üzerinde yineleme yapmasını ve değerlerini güncellemek için dahili olarak depolanan gradlarını kullanmasını sağlar\n",
        "        optimizer.step()\n",
        "\n",
        "    # Doğrulama işlemi sırasında model ağırlıklarını değiştirmeyeceğimiz modelin gradyanlara ihtiyacı yoktur\n",
        "    # \"no_grad\" fonksiyonu ile gradyan hesaplarını devre dışı bırakıyoruz.\n",
        "    with torch.no_grad():\n",
        "        # tqdm kütüphanesi, \"Progress Bar\" oluşturmaya yarar.\n",
        "        for val_input, val_label in tqdm(vdl):\n",
        "            # Modelin verileri işleyebilmesi için hem modelin hem de verilerin CPU veya GPU olmak üzere aynı cihazda olması gerekir.\n",
        "            # Örneğin veriler CPU'da, model GPU'da olursa çalışma zamanı hatası oluşacaktır.\n",
        "            # Bunu önlemek için pytorch kütüphanesinden \"to\" fonksiyonunu kullanıyoruz.\n",
        "            val_label = val_label.to(device)\n",
        "\n",
        "            # Attention mask, bir belirtecin gercek bir kelimemi yoksa dolgu mu olduğunu tanımlar.\n",
        "            # Eğer gerçek bir kelime ise attention_mask=1, eğer dolgu ise attention_mask=0 olacaktır.\n",
        "            mask = val_input['attention_mask'].to(device)\n",
        "            input_id = val_input['input_ids'].squeeze(1).to(device)\n",
        "\n",
        "            # Modelin eğitim verileri üzerindeki tahminlerinin sonuçları saklanır.\n",
        "            output = model(input_id, mask)\n",
        "\n",
        "            # Çapraz entropi ile örneklem kaybını hesaplıyoruz.\n",
        "            batch_loss = criterion(output, val_label.long())\n",
        "            # Her bir epoch için toplam train kaybını bulmak için her bir örneklemin train kaybını topluyoruz.\n",
        "            total_validation_loss += batch_loss.item()\n",
        "\n",
        "            # \"output\" değişkenindeki her bir veri örneği için çıktı tensöründe en yüksek olasılığa sahip\n",
        "            # sınıfın indexini döndürür. Daha sonra \"train_label\" adlı tensörde modein doğru sınıf tahmilnerinin\n",
        "            # bulunduğu etiketleri saklanır. Doğru tahmin edilen sınıfların sayısı hesaplanır ve \"item\"\n",
        "            # fonksiyonu ile sayısal bir değere dönüştürülür.\n",
        "            validation_accuracy = (output.argmax(dim=1) == val_label).sum().item()\n",
        "            # Her bir epoch için toplam train doğruluğunu bulmak için her bir örneklemin doğruluk kaybını topluyoruz.\n",
        "            total_validation_accuracy += validation_accuracy\n",
        "\n",
        "\n",
        "    current_val_loss = total_validation_loss / len(df_validation)\n",
        "\n",
        "\n",
        "    # Mevcut Epoch\n",
        "    print(f'\\nEpochs: {EPOCH + 1}')\n",
        "    # Train Kaybı\n",
        "    print(f'Train Loss: {total_train_loss / len(df_train): .4f}')\n",
        "    # Train Dogruluk\n",
        "    print(f'Train Accuracy: {total_train_accuracy / len(df_train): .4f}')\n",
        "    # Validation Kaybı\n",
        "    print(f'Validation Loss: {total_validation_loss / len(df_validation): .4f}')\n",
        "    # Validation Dogruluk\n",
        "    print(f'Validation Accuracy: {total_validation_accuracy / len(df_validation): .4f}')\n",
        "\n",
        "    # Early Stopping kontrolü\n",
        "    if best_val_loss - current_val_loss > min_delta:\n",
        "        best_val_loss = current_val_loss\n",
        "        early_stop_counter = 0  # gelişme varsa sıfırla\n",
        "    else:\n",
        "        early_stop_counter += 1\n",
        "        print(f'⚠️ No improvement. Early Stop Counter: {early_stop_counter}/{patience}')\n",
        "\n",
        "    if early_stop_counter >= patience:\n",
        "        print(\"🛑 Early stopping: Validation loss has not improved.\")\n",
        "        break"
      ]
    },
    {
      "cell_type": "code",
      "execution_count": null,
      "metadata": {
        "id": "SoXrfcfewIwc",
        "colab": {
          "base_uri": "https://localhost:8080/"
        },
        "outputId": "b4560750-3a37-4687-d19d-618fe899e3c4"
      },
      "outputs": [
        {
          "output_type": "stream",
          "name": "stdout",
          "text": [
            "Test Accuracy:  0.917\n"
          ]
        }
      ],
      "source": [
        "# Test için ayırdığımız veri setlerini\n",
        "test = Dataset(df_test)\n",
        "\n",
        "# Verilerin toplu olarak içe aktarılması için DataLoader kullanıyoruz.\n",
        "# batch_size, model güncellenmeden önce işlenen örnek sayısıdır.\n",
        "# shuffle, karıştır.\n",
        "tdl = torch.utils.data.DataLoader(test, batch_size=batch_size)\n",
        "device = torch.device(\"cuda\")\n",
        "model = model.cuda()\n",
        "\n",
        "# Toplam test doğruluğu\n",
        "total_test_accuracy = 0\n",
        "\n",
        "# Test işlemi sırasında model ağırlıklarını değiştirmeyeceğimiz modelin gradyanlara ihtiyacı yoktur\n",
        "# \"no_grad\" fonksiyonu ile gradyan hesaplarını devre dışı bırakıyoruz.\n",
        "with torch.no_grad():\n",
        "  for test_input, test_label in tdl:\n",
        "    # Modelin verileri işleyebilmesi için hem modelin hem de verilerin CPU veya GPU olmak üzere aynı cihazda olması gerekir.\n",
        "    # Örneğin veriler CPU'da, model GPU'da olursa çalışma zamanı hatası oluşacaktır.\n",
        "    # Bunu önlemek için pytorch kütüphanesinden \"to\" fonksiyonunu kullanıyoruz.\n",
        "    test_label = test_label.to(device)\n",
        "\n",
        "    # Attention mask, bir belirtecin gercek bir kelimemi yoksa dolgu mu olduğunu tanımlar.\n",
        "    # Eğer gerçek bir kelime ise attention_mask=1, eğer dolgu ise attention_mask=0 olacaktır.\n",
        "    mask = test_input['attention_mask'].to(device)\n",
        "    # squeeze() fonksiyonu ile \"input_ids\" özelliğindeki tensörlerin boyutu 1 olan boyutları\n",
        "    # kaldırarak, tensörün boyutunu azaltıyoruz.\n",
        "    input_id = test_input['input_ids'].squeeze(1).to(device)\n",
        "\n",
        "    # Modelin eğitim verileri üzerindeki tahminlerinin sonuçları saklanır.\n",
        "    output = model(input_id, mask)\n",
        "\n",
        "    # \"output\" değişkenindeki her bir veri örneği için çıktı tensöründe en yüksek olasılığa sahip\n",
        "    # sınıfın indexini döndürür. Daha sonra \"test_label\" adlı tensörde modein doğru sınıf tahmilnerinin\n",
        "    # bulunduğu etiketleri saklanır. Doğru tahmin edilen sınıfların sayısı hesaplanır ve \"item\"\n",
        "    # fonksiyonu ile sayısal bir değere dönüştürülür.\n",
        "    test_accuracy = (output.argmax(dim=1) == test_label).sum().item()\n",
        "    # Her bir epoch için toplam test doğruluğunu bulmak için her bir örneklemin doğruluk kaybını topluyoruz.\n",
        "    total_test_accuracy += test_accuracy\n",
        "\n",
        "# Test Dogruluğu\n",
        "print(f'Test Accuracy: {total_test_accuracy / len(test): .3f}')"
      ]
    },
    {
      "cell_type": "code",
      "execution_count": null,
      "metadata": {
        "id": "W1HEnB56Ochs"
      },
      "outputs": [],
      "source": [
        "# Prediction fonksiyonunu tanımladık.\n",
        "def predict(model, sentence):\n",
        "  device = torch.device(\"cuda\")\n",
        "  model = model.cuda()\n",
        "  # Prediction işlemi sırasında model ağırlıklarını değiştirmeyeceğimiz modelin gradyanlara ihtiyacı yoktur\n",
        "  # \"no_grad\" fonksiyonu ile gradyan hesaplarını devre dışı bırakıyoruz.\n",
        "  with torch.no_grad():\n",
        "    # text = Modeli eğitmek için kullanılacak veri setindeki \"clean_text\" sütunundaki her bir satır.\n",
        "    # padding = Her bir diziyi belirttiğimiz maksimum uzunluga kadar doldurmak için.\n",
        "    # max_length = Her bir dizinin maksimum uzunluğu\n",
        "    # truncation = Eğer değeri \"True\" ise dizimiz maksimum uzunluğu aşar ise onu keser.\n",
        "    # return_tensors = Döndürelecek tensörlerin türü. Pytorch kullandığımız için \"pt\" yazıyoruz. Tensorflow kullansaydık \"tf\" yazmamız gerekirdi.\n",
        "    # Ensure sentence is a string before passing it to tokenizer\n",
        "    input_id = tokenizer(str(sentence), padding='max_length', max_length = max_length, truncation=True, return_tensors=\"pt\")\n",
        "\n",
        "    # Attention mask, bir belirtecin gercek bir kelimemi yoksa dolgu mu olduğunu tanımlar.\n",
        "    # Eğer gerçek bir kelime ise attention_mask=1, eğer dolgu ise attention_mask=0 olacaktır.\n",
        "    mask = input_id['attention_mask'].to(device)\n",
        "\n",
        "    # squeeze() fonksiyonu ile \"input_ids\" özelliğindeki tensörlerin boyutu 1 olan boyutları\n",
        "    # kaldırarak, tensörün boyutunu azaltıyoruz.\n",
        "    input_id = input_id['input_ids'].squeeze(1).to(device)\n",
        "\n",
        "    # Modelin eğitim verileri üzerindeki tahminlerinin sonuçları saklanır.\n",
        "    output = model(input_id, mask)\n",
        "\n",
        "    # Kategorik sınıfı döndür.\n",
        "    return output.argmax(dim=1).item()"
      ]
    },
    {
      "cell_type": "code",
      "execution_count": null,
      "metadata": {
        "id": "dd1vW1wGMrp1",
        "colab": {
          "base_uri": "https://localhost:8080/"
        },
        "outputId": "46ae170d-9adc-4ca5-e3cc-d6bec7c5658b"
      },
      "outputs": [
        {
          "output_type": "stream",
          "name": "stdout",
          "text": [
            "              precision    recall  f1-score   support\n",
            "\n",
            "           0       0.89      0.95      0.92      4498\n",
            "           1       0.94      0.87      0.91      3983\n",
            "\n",
            "    accuracy                           0.91      8481\n",
            "   macro avg       0.92      0.91      0.91      8481\n",
            "weighted avg       0.92      0.91      0.91      8481\n",
            "\n"
          ]
        }
      ],
      "source": [
        "from sklearn.metrics import classification_report\n",
        "\n",
        "# Her bir dizi için tahmin yapılır\n",
        "actuals = df_test.labels\n",
        "predicted = [predict(model, text) for text in df_test['text'].values]\n",
        "\n",
        "print(classification_report(actuals, predicted))"
      ]
    },
    {
      "cell_type": "code",
      "execution_count": null,
      "metadata": {
        "id": "4tUlbpOYOWae",
        "colab": {
          "base_uri": "https://localhost:8080/"
        },
        "outputId": "1dcf38f7-d4b1-4901-b00b-03efb739b43f"
      },
      "outputs": [
        {
          "output_type": "execute_result",
          "data": {
            "text/plain": [
              "1"
            ]
          },
          "metadata": {},
          "execution_count": 23
        }
      ],
      "source": [
        "predict(model, \"kürt oğlu kürt\")"
      ]
    },
    {
      "cell_type": "code",
      "execution_count": null,
      "metadata": {
        "id": "Mr5pWQolQNMU",
        "colab": {
          "base_uri": "https://localhost:8080/",
          "height": 482
        },
        "outputId": "5ac5fc9e-dec8-4e1c-cc56-5eb160d0c382"
      },
      "outputs": [
        {
          "output_type": "display_data",
          "data": {
            "text/plain": [
              "<Figure size 1500x500 with 2 Axes>"
            ],
            "image/png": "[encoded data removed]"
          },
          "metadata": {}
        }
      ],
      "source": [
        "import itertools\n",
        "from sklearn.metrics import confusion_matrix\n",
        "\n",
        "def plot_confusion_matrix(predicted, actuals, sub_classes, title='Confusion matrix', cmap=plt.cm.Blues):\n",
        "    # Confusion Matrix oluştur.\n",
        "    confusion = confusion_matrix(predicted, actuals)\n",
        "\n",
        "    # interpolation -> Grafikte kullanılacak renklerin aralığı\n",
        "    # cmap -> Grafikte kullanılacak renk\n",
        "    plt.imshow(confusion, interpolation='nearest', cmap=cmap)\n",
        "    plt.title(title)\n",
        "    plt.colorbar()\n",
        "    # Alt sınıfların sayısına göre bir numpy dizisi oluşturduk.\n",
        "    # Bu diziyi sınıf etiketlerinin eksenlerdeki konumlarını belirlemek için kullanacağız.\n",
        "    tick_marks = np.arange(len(sub_classes))\n",
        "    # rotation -> X ekseni işaretleyicilerinin açısı\n",
        "    plt.xticks(tick_marks, sub_classes, rotation=90)\n",
        "    plt.yticks(tick_marks, sub_classes)\n",
        "\n",
        "    for i, j in itertools.product(range(confusion.shape[0]), range(confusion.shape[1])):\n",
        "        # horizontalalignment, yazılacak sayısal değerin hücre ortasında yer almasını sağlar.\n",
        "        # color, yazı rengini belirler.\n",
        "        # j -> x koordinatı\n",
        "        # i -> y koordinatı\n",
        "        # confusion[i, j] -> yazılacak sayısal değer\n",
        "        plt.text(j, i, confusion[i, j], horizontalalignment=\"center\", color=\"black\")\n",
        "\n",
        "    # Figür boyutu\n",
        "    plt.rcParams[\"figure.figsize\"] = (15,5)\n",
        "    # y Ekseni adı\n",
        "    plt.ylabel('Actuals')\n",
        "    # x Ekseni adı\n",
        "    plt.xlabel('Predicted')\n",
        "    #plt.savefig(\"cm_matrix.png\")\n",
        "    plt.show()\n",
        "\n",
        "plot_confusion_matrix(predicted, actuals, sub_classes=le_nm.keys())"
      ]
    },
    {
      "cell_type": "code",
      "execution_count": null,
      "metadata": {
        "id": "63PtrJHbQQuu",
        "colab": {
          "base_uri": "https://localhost:8080/"
        },
        "outputId": "a5d29c5b-8a62-4080-9f18-ccb173b2da7c"
      },
      "outputs": [
        {
          "output_type": "stream",
          "name": "stdout",
          "text": [
            "Drive already mounted at /content/drive; to attempt to forcibly remount, call drive.mount(\"/content/drive\", force_remount=True).\n"
          ]
        }
      ],
      "source": [
        "from google.colab import drive\n",
        "drive.mount('/content/drive')\n",
        "\n",
        "# Modelimize isim vererek Drive'a kaydettik.\n",
        "model_name = \"BERTLSTM_91AC_FINAL.pt\"\n",
        "path = F\"/content/drive/My Drive/{model_name}\"\n",
        "\n",
        "torch.save(model.state_dict(), path)"
      ]
    },
    {
      "cell_type": "code",
      "execution_count": null,
      "metadata": {
        "id": "vJcEwTAp5rpI"
      },
      "outputs": [],
      "source": []
    }
  ],
  "metadata": {
    "accelerator": "GPU",
    "colab": {
      "gpuType": "A100",
      "provenance": [],
      "machine_shape": "hm"
    },
    "kernelspec": {
      "display_name": "Python 3",
      "name": "python3"
    },
    "language_info": {
      "codemirror_mode": {
        "name": "ipython",
        "version": 3
      },
      "file_extension": ".py",
      "mimetype": "text/x-python",
      "name": "python",
      "nbconvert_exporter": "python",
      "pygments_lexer": "ipython3",
      "version": "3.12.7"
    },
    "widgets": {
      "application/vnd.jupyter.widget-state+json": {
        "553dfc20edd14cf584ce5fa452861e9c": {
          "model_module": "@jupyter-widgets/controls",
          "model_name": "HBoxModel",
          "model_module_version": "1.5.0",
          "state": {
            "_dom_classes": [],
            "_model_module": "@jupyter-widgets/controls",
            "_model_module_version": "1.5.0",
            "_model_name": "HBoxModel",
            "_view_count": null,
            "_view_module": "@jupyter-widgets/controls",
            "_view_module_version": "1.5.0",
            "_view_name": "HBoxView",
            "box_style": "",
            "children": [
              "IPY_MODEL_dc8fab6fecb54a208c126f6c2875f1ca",
              "IPY_MODEL_37a2540ab3a54b43a1c2ef4db13026b8",
              "IPY_MODEL_675bdf5f825c4273a0ffe377b250d649"
            ],
            "layout": "IPY_MODEL_9900fa23ddf84f0ab19652cde3734941"
          }
        },
        "dc8fab6fecb54a208c126f6c2875f1ca": {
          "model_module": "@jupyter-widgets/controls",
          "model_name": "HTMLModel",
          "model_module_version": "1.5.0",
          "state": {
            "_dom_classes": [],
            "_model_module": "@jupyter-widgets/controls",
            "_model_module_version": "1.5.0",
            "_model_name": "HTMLModel",
            "_view_count": null,
            "_view_module": "@jupyter-widgets/controls",
            "_view_module_version": "1.5.0",
            "_view_name": "HTMLView",
            "description": "",
            "description_tooltip": null,
            "layout": "IPY_MODEL_cd62774e34b447a495c422415c80aacd",
            "placeholder": "​",
            "style": "IPY_MODEL_852850d42c394f81bb455314f0a851ef",
            "value": "tokenizer_config.json: 100%"
          }
        },
        "37a2540ab3a54b43a1c2ef4db13026b8": {
          "model_module": "@jupyter-widgets/controls",
          "model_name": "FloatProgressModel",
          "model_module_version": "1.5.0",
          "state": {
            "_dom_classes": [],
            "_model_module": "@jupyter-widgets/controls",
            "_model_module_version": "1.5.0",
            "_model_name": "FloatProgressModel",
            "_view_count": null,
            "_view_module": "@jupyter-widgets/controls",
            "_view_module_version": "1.5.0",
            "_view_name": "ProgressView",
            "bar_style": "success",
            "description": "",
            "description_tooltip": null,
            "layout": "IPY_MODEL_d7a33bd67e534ab5ab8cf852c75bd32c",
            "max": 59,
            "min": 0,
            "orientation": "horizontal",
            "style": "IPY_MODEL_bca73152b54b43b58671e94d6096f1b0",
            "value": 59
          }
        },
        "675bdf5f825c4273a0ffe377b250d649": {
          "model_module": "@jupyter-widgets/controls",
          "model_name": "HTMLModel",
          "model_module_version": "1.5.0",
          "state": {
            "_dom_classes": [],
            "_model_module": "@jupyter-widgets/controls",
            "_model_module_version": "1.5.0",
            "_model_name": "HTMLModel",
            "_view_count": null,
            "_view_module": "@jupyter-widgets/controls",
            "_view_module_version": "1.5.0",
            "_view_name": "HTMLView",
            "description": "",
            "description_tooltip": null,
            "layout": "IPY_MODEL_d652109186a047f98debec2d02f16b67",
            "placeholder": "​",
            "style": "IPY_MODEL_ca792e0066a749ec9b7577f80a7c9cca",
            "value": " 59.0/59.0 [00:00&lt;00:00, 6.89kB/s]"
          }
        },
        "9900fa23ddf84f0ab19652cde3734941": {
          "model_module": "@jupyter-widgets/base",
          "model_name": "LayoutModel",
          "model_module_version": "1.2.0",
          "state": {
            "_model_module": "@jupyter-widgets/base",
            "_model_module_version": "1.2.0",
            "_model_name": "LayoutModel",
            "_view_count": null,
            "_view_module": "@jupyter-widgets/base",
            "_view_module_version": "1.2.0",
            "_view_name": "LayoutView",
            "align_content": null,
            "align_items": null,
            "align_self": null,
            "border": null,
            "bottom": null,
            "display": null,
            "flex": null,
            "flex_flow": null,
            "grid_area": null,
            "grid_auto_columns": null,
            "grid_auto_flow": null,
            "grid_auto_rows": null,
            "grid_column": null,
            "grid_gap": null,
            "grid_row": null,
            "grid_template_areas": null,
            "grid_template_columns": null,
            "grid_template_rows": null,
            "height": null,
            "justify_content": null,
            "justify_items": null,
            "left": null,
            "margin": null,
            "max_height": null,
            "max_width": null,
            "min_height": null,
            "min_width": null,
            "object_fit": null,
            "object_position": null,
            "order": null,
            "overflow": null,
            "overflow_x": null,
            "overflow_y": null,
            "padding": null,
            "right": null,
            "top": null,
            "visibility": null,
            "width": null
          }
        },
        "cd62774e34b447a495c422415c80aacd": {
          "model_module": "@jupyter-widgets/base",
          "model_name": "LayoutModel",
          "model_module_version": "1.2.0",
          "state": {
            "_model_module": "@jupyter-widgets/base",
            "_model_module_version": "1.2.0",
            "_model_name": "LayoutModel",
            "_view_count": null,
            "_view_module": "@jupyter-widgets/base",
            "_view_module_version": "1.2.0",
            "_view_name": "LayoutView",
            "align_content": null,
            "align_items": null,
            "align_self": null,
            "border": null,
            "bottom": null,
            "display": null,
            "flex": null,
            "flex_flow": null,
            "grid_area": null,
            "grid_auto_columns": null,
            "grid_auto_flow": null,
            "grid_auto_rows": null,
            "grid_column": null,
            "grid_gap": null,
            "grid_row": null,
            "grid_template_areas": null,
            "grid_template_columns": null,
            "grid_template_rows": null,
            "height": null,
            "justify_content": null,
            "justify_items": null,
            "left": null,
            "margin": null,
            "max_height": null,
            "max_width": null,
            "min_height": null,
            "min_width": null,
            "object_fit": null,
            "object_position": null,
            "order": null,
            "overflow": null,
            "overflow_x": null,
            "overflow_y": null,
            "padding": null,
            "right": null,
            "top": null,
            "visibility": null,
            "width": null
          }
        },
        "852850d42c394f81bb455314f0a851ef": {
          "model_module": "@jupyter-widgets/controls",
          "model_name": "DescriptionStyleModel",
          "model_module_version": "1.5.0",
          "state": {
            "_model_module": "@jupyter-widgets/controls",
            "_model_module_version": "1.5.0",
            "_model_name": "DescriptionStyleModel",
            "_view_count": null,
            "_view_module": "@jupyter-widgets/base",
            "_view_module_version": "1.2.0",
            "_view_name": "StyleView",
            "description_width": ""
          }
        },
        "d7a33bd67e534ab5ab8cf852c75bd32c": {
          "model_module": "@jupyter-widgets/base",
          "model_name": "LayoutModel",
          "model_module_version": "1.2.0",
          "state": {
            "_model_module": "@jupyter-widgets/base",
            "_model_module_version": "1.2.0",
            "_model_name": "LayoutModel",
            "_view_count": null,
            "_view_module": "@jupyter-widgets/base",
            "_view_module_version": "1.2.0",
            "_view_name": "LayoutView",
            "align_content": null,
            "align_items": null,
            "align_self": null,
            "border": null,
            "bottom": null,
            "display": null,
            "flex": null,
            "flex_flow": null,
            "grid_area": null,
            "grid_auto_columns": null,
            "grid_auto_flow": null,
            "grid_auto_rows": null,
            "grid_column": null,
            "grid_gap": null,
            "grid_row": null,
            "grid_template_areas": null,
            "grid_template_columns": null,
            "grid_template_rows": null,
            "height": null,
            "justify_content": null,
            "justify_items": null,
            "left": null,
            "margin": null,
            "max_height": null,
            "max_width": null,
            "min_height": null,
            "min_width": null,
            "object_fit": null,
            "object_position": null,
            "order": null,
            "overflow": null,
            "overflow_x": null,
            "overflow_y": null,
            "padding": null,
            "right": null,
            "top": null,
            "visibility": null,
            "width": null
          }
        },
        "bca73152b54b43b58671e94d6096f1b0": {
          "model_module": "@jupyter-widgets/controls",
          "model_name": "ProgressStyleModel",
          "model_module_version": "1.5.0",
          "state": {
            "_model_module": "@jupyter-widgets/controls",
            "_model_module_version": "1.5.0",
            "_model_name": "ProgressStyleModel",
            "_view_count": null,
            "_view_module": "@jupyter-widgets/base",
            "_view_module_version": "1.2.0",
            "_view_name": "StyleView",
            "bar_color": null,
            "description_width": ""
          }
        },
        "d652109186a047f98debec2d02f16b67": {
          "model_module": "@jupyter-widgets/base",
          "model_name": "LayoutModel",
          "model_module_version": "1.2.0",
          "state": {
            "_model_module": "@jupyter-widgets/base",
            "_model_module_version": "1.2.0",
            "_model_name": "LayoutModel",
            "_view_count": null,
            "_view_module": "@jupyter-widgets/base",
            "_view_module_version": "1.2.0",
            "_view_name": "LayoutView",
            "align_content": null,
            "align_items": null,
            "align_self": null,
            "border": null,
            "bottom": null,
            "display": null,
            "flex": null,
            "flex_flow": null,
            "grid_area": null,
            "grid_auto_columns": null,
            "grid_auto_flow": null,
            "grid_auto_rows": null,
            "grid_column": null,
            "grid_gap": null,
            "grid_row": null,
            "grid_template_areas": null,
            "grid_template_columns": null,
            "grid_template_rows": null,
            "height": null,
            "justify_content": null,
            "justify_items": null,
            "left": null,
            "margin": null,
            "max_height": null,
            "max_width": null,
            "min_height": null,
            "min_width": null,
            "object_fit": null,
            "object_position": null,
            "order": null,
            "overflow": null,
            "overflow_x": null,
            "overflow_y": null,
            "padding": null,
            "right": null,
            "top": null,
            "visibility": null,
            "width": null
          }
        },
        "ca792e0066a749ec9b7577f80a7c9cca": {
          "model_module": "@jupyter-widgets/controls",
          "model_name": "DescriptionStyleModel",
          "model_module_version": "1.5.0",
          "state": {
            "_model_module": "@jupyter-widgets/controls",
            "_model_module_version": "1.5.0",
            "_model_name": "DescriptionStyleModel",
            "_view_count": null,
            "_view_module": "@jupyter-widgets/base",
            "_view_module_version": "1.2.0",
            "_view_name": "StyleView",
            "description_width": ""
          }
        },
        "ae2123214ac441e4b814a01663f7a4c2": {
          "model_module": "@jupyter-widgets/controls",
          "model_name": "HBoxModel",
          "model_module_version": "1.5.0",
          "state": {
            "_dom_classes": [],
            "_model_module": "@jupyter-widgets/controls",
            "_model_module_version": "1.5.0",
            "_model_name": "HBoxModel",
            "_view_count": null,
            "_view_module": "@jupyter-widgets/controls",
            "_view_module_version": "1.5.0",
            "_view_name": "HBoxView",
            "box_style": "",
            "children": [
              "IPY_MODEL_30b1f8ea9db04c1194165edbb947c2bf",
              "IPY_MODEL_a0dc608759a044bab2f2dd612950c1ef",
              "IPY_MODEL_d1a3836db9204c65b2bc30cef47af1c5"
            ],
            "layout": "IPY_MODEL_ad3741b1c0854ad7ad4a7b8525ecb895"
          }
        },
        "30b1f8ea9db04c1194165edbb947c2bf": {
          "model_module": "@jupyter-widgets/controls",
          "model_name": "HTMLModel",
          "model_module_version": "1.5.0",
          "state": {
            "_dom_classes": [],
            "_model_module": "@jupyter-widgets/controls",
            "_model_module_version": "1.5.0",
            "_model_name": "HTMLModel",
            "_view_count": null,
            "_view_module": "@jupyter-widgets/controls",
            "_view_module_version": "1.5.0",
            "_view_name": "HTMLView",
            "description": "",
            "description_tooltip": null,
            "layout": "IPY_MODEL_60efb325cba5488fbcf4b2e0e74b7e7e",
            "placeholder": "​",
            "style": "IPY_MODEL_c17bd92190694fdc87f3ad3ebcce3cdb",
            "value": "vocab.txt: 100%"
          }
        },
        "a0dc608759a044bab2f2dd612950c1ef": {
          "model_module": "@jupyter-widgets/controls",
          "model_name": "FloatProgressModel",
          "model_module_version": "1.5.0",
          "state": {
            "_dom_classes": [],
            "_model_module": "@jupyter-widgets/controls",
            "_model_module_version": "1.5.0",
            "_model_name": "FloatProgressModel",
            "_view_count": null,
            "_view_module": "@jupyter-widgets/controls",
            "_view_module_version": "1.5.0",
            "_view_name": "ProgressView",
            "bar_style": "success",
            "description": "",
            "description_tooltip": null,
            "layout": "IPY_MODEL_4535ee3dfc0e4bd48bbf7413d972c2cd",
            "max": 262620,
            "min": 0,
            "orientation": "horizontal",
            "style": "IPY_MODEL_89acf074adf74495b0a1388abce56031",
            "value": 262620
          }
        },
        "d1a3836db9204c65b2bc30cef47af1c5": {
          "model_module": "@jupyter-widgets/controls",
          "model_name": "HTMLModel",
          "model_module_version": "1.5.0",
          "state": {
            "_dom_classes": [],
            "_model_module": "@jupyter-widgets/controls",
            "_model_module_version": "1.5.0",
            "_model_name": "HTMLModel",
            "_view_count": null,
            "_view_module": "@jupyter-widgets/controls",
            "_view_module_version": "1.5.0",
            "_view_name": "HTMLView",
            "description": "",
            "description_tooltip": null,
            "layout": "IPY_MODEL_6355067f88124f99af2df73c5ab6f3ff",
            "placeholder": "​",
            "style": "IPY_MODEL_101eb27e7eae4daca6eeb1657a4c8c91",
            "value": " 263k/263k [00:00&lt;00:00, 2.49MB/s]"
          }
        },
        "ad3741b1c0854ad7ad4a7b8525ecb895": {
          "model_module": "@jupyter-widgets/base",
          "model_name": "LayoutModel",
          "model_module_version": "1.2.0",
          "state": {
            "_model_module": "@jupyter-widgets/base",
            "_model_module_version": "1.2.0",
            "_model_name": "LayoutModel",
            "_view_count": null,
            "_view_module": "@jupyter-widgets/base",
            "_view_module_version": "1.2.0",
            "_view_name": "LayoutView",
            "align_content": null,
            "align_items": null,
            "align_self": null,
            "border": null,
            "bottom": null,
            "display": null,
            "flex": null,
            "flex_flow": null,
            "grid_area": null,
            "grid_auto_columns": null,
            "grid_auto_flow": null,
            "grid_auto_rows": null,
            "grid_column": null,
            "grid_gap": null,
            "grid_row": null,
            "grid_template_areas": null,
            "grid_template_columns": null,
            "grid_template_rows": null,
            "height": null,
            "justify_content": null,
            "justify_items": null,
            "left": null,
            "margin": null,
            "max_height": null,
            "max_width": null,
            "min_height": null,
            "min_width": null,
            "object_fit": null,
            "object_position": null,
            "order": null,
            "overflow": null,
            "overflow_x": null,
            "overflow_y": null,
            "padding": null,
            "right": null,
            "top": null,
            "visibility": null,
            "width": null
          }
        },
        "60efb325cba5488fbcf4b2e0e74b7e7e": {
          "model_module": "@jupyter-widgets/base",
          "model_name": "LayoutModel",
          "model_module_version": "1.2.0",
          "state": {
            "_model_module": "@jupyter-widgets/base",
            "_model_module_version": "1.2.0",
            "_model_name": "LayoutModel",
            "_view_count": null,
            "_view_module": "@jupyter-widgets/base",
            "_view_module_version": "1.2.0",
            "_view_name": "LayoutView",
            "align_content": null,
            "align_items": null,
            "align_self": null,
            "border": null,
            "bottom": null,
            "display": null,
            "flex": null,
            "flex_flow": null,
            "grid_area": null,
            "grid_auto_columns": null,
            "grid_auto_flow": null,
            "grid_auto_rows": null,
            "grid_column": null,
            "grid_gap": null,
            "grid_row": null,
            "grid_template_areas": null,
            "grid_template_columns": null,
            "grid_template_rows": null,
            "height": null,
            "justify_content": null,
            "justify_items": null,
            "left": null,
            "margin": null,
            "max_height": null,
            "max_width": null,
            "min_height": null,
            "min_width": null,
            "object_fit": null,
            "object_position": null,
            "order": null,
            "overflow": null,
            "overflow_x": null,
            "overflow_y": null,
            "padding": null,
            "right": null,
            "top": null,
            "visibility": null,
            "width": null
          }
        },
        "c17bd92190694fdc87f3ad3ebcce3cdb": {
          "model_module": "@jupyter-widgets/controls",
          "model_name": "DescriptionStyleModel",
          "model_module_version": "1.5.0",
          "state": {
            "_model_module": "@jupyter-widgets/controls",
            "_model_module_version": "1.5.0",
            "_model_name": "DescriptionStyleModel",
            "_view_count": null,
            "_view_module": "@jupyter-widgets/base",
            "_view_module_version": "1.2.0",
            "_view_name": "StyleView",
            "description_width": ""
          }
        },
        "4535ee3dfc0e4bd48bbf7413d972c2cd": {
          "model_module": "@jupyter-widgets/base",
          "model_name": "LayoutModel",
          "model_module_version": "1.2.0",
          "state": {
            "_model_module": "@jupyter-widgets/base",
            "_model_module_version": "1.2.0",
            "_model_name": "LayoutModel",
            "_view_count": null,
            "_view_module": "@jupyter-widgets/base",
            "_view_module_version": "1.2.0",
            "_view_name": "LayoutView",
            "align_content": null,
            "align_items": null,
            "align_self": null,
            "border": null,
            "bottom": null,
            "display": null,
            "flex": null,
            "flex_flow": null,
            "grid_area": null,
            "grid_auto_columns": null,
            "grid_auto_flow": null,
            "grid_auto_rows": null,
            "grid_column": null,
            "grid_gap": null,
            "grid_row": null,
            "grid_template_areas": null,
            "grid_template_columns": null,
            "grid_template_rows": null,
            "height": null,
            "justify_content": null,
            "justify_items": null,
            "left": null,
            "margin": null,
            "max_height": null,
            "max_width": null,
            "min_height": null,
            "min_width": null,
            "object_fit": null,
            "object_position": null,
            "order": null,
            "overflow": null,
            "overflow_x": null,
            "overflow_y": null,
            "padding": null,
            "right": null,
            "top": null,
            "visibility": null,
            "width": null
          }
        },
        "89acf074adf74495b0a1388abce56031": {
          "model_module": "@jupyter-widgets/controls",
          "model_name": "ProgressStyleModel",
          "model_module_version": "1.5.0",
          "state": {
            "_model_module": "@jupyter-widgets/controls",
            "_model_module_version": "1.5.0",
            "_model_name": "ProgressStyleModel",
            "_view_count": null,
            "_view_module": "@jupyter-widgets/base",
            "_view_module_version": "1.2.0",
            "_view_name": "StyleView",
            "bar_color": null,
            "description_width": ""
          }
        },
        "6355067f88124f99af2df73c5ab6f3ff": {
          "model_module": "@jupyter-widgets/base",
          "model_name": "LayoutModel",
          "model_module_version": "1.2.0",
          "state": {
            "_model_module": "@jupyter-widgets/base",
            "_model_module_version": "1.2.0",
            "_model_name": "LayoutModel",
            "_view_count": null,
            "_view_module": "@jupyter-widgets/base",
            "_view_module_version": "1.2.0",
            "_view_name": "LayoutView",
            "align_content": null,
            "align_items": null,
            "align_self": null,
            "border": null,
            "bottom": null,
            "display": null,
            "flex": null,
            "flex_flow": null,
            "grid_area": null,
            "grid_auto_columns": null,
            "grid_auto_flow": null,
            "grid_auto_rows": null,
            "grid_column": null,
            "grid_gap": null,
            "grid_row": null,
            "grid_template_areas": null,
            "grid_template_columns": null,
            "grid_template_rows": null,
            "height": null,
            "justify_content": null,
            "justify_items": null,
            "left": null,
            "margin": null,
            "max_height": null,
            "max_width": null,
            "min_height": null,
            "min_width": null,
            "object_fit": null,
            "object_position": null,
            "order": null,
            "overflow": null,
            "overflow_x": null,
            "overflow_y": null,
            "padding": null,
            "right": null,
            "top": null,
            "visibility": null,
            "width": null
          }
        },
        "101eb27e7eae4daca6eeb1657a4c8c91": {
          "model_module": "@jupyter-widgets/controls",
          "model_name": "DescriptionStyleModel",
          "model_module_version": "1.5.0",
          "state": {
            "_model_module": "@jupyter-widgets/controls",
            "_model_module_version": "1.5.0",
            "_model_name": "DescriptionStyleModel",
            "_view_count": null,
            "_view_module": "@jupyter-widgets/base",
            "_view_module_version": "1.2.0",
            "_view_name": "StyleView",
            "description_width": ""
          }
        },
        "51e258ef853f49c0a4e44e4bd84f5bd5": {
          "model_module": "@jupyter-widgets/controls",
          "model_name": "HBoxModel",
          "model_module_version": "1.5.0",
          "state": {
            "_dom_classes": [],
            "_model_module": "@jupyter-widgets/controls",
            "_model_module_version": "1.5.0",
            "_model_name": "HBoxModel",
            "_view_count": null,
            "_view_module": "@jupyter-widgets/controls",
            "_view_module_version": "1.5.0",
            "_view_name": "HBoxView",
            "box_style": "",
            "children": [
              "IPY_MODEL_fb83291c948343fc8abf248f00619ff6",
              "IPY_MODEL_9b937183a29a4afb811ec0d81a19619c",
              "IPY_MODEL_1bc3e637f7eb4f5dbae44fcd94b80d13"
            ],
            "layout": "IPY_MODEL_301df618902e4763928066ddfccc7349"
          }
        },
        "fb83291c948343fc8abf248f00619ff6": {
          "model_module": "@jupyter-widgets/controls",
          "model_name": "HTMLModel",
          "model_module_version": "1.5.0",
          "state": {
            "_dom_classes": [],
            "_model_module": "@jupyter-widgets/controls",
            "_model_module_version": "1.5.0",
            "_model_name": "HTMLModel",
            "_view_count": null,
            "_view_module": "@jupyter-widgets/controls",
            "_view_module_version": "1.5.0",
            "_view_name": "HTMLView",
            "description": "",
            "description_tooltip": null,
            "layout": "IPY_MODEL_0e604d7de14e4e6199377358eb8b4bd0",
            "placeholder": "​",
            "style": "IPY_MODEL_f1ce2099a9554665a5cdfb44db74ed7a",
            "value": "config.json: 100%"
          }
        },
        "9b937183a29a4afb811ec0d81a19619c": {
          "model_module": "@jupyter-widgets/controls",
          "model_name": "FloatProgressModel",
          "model_module_version": "1.5.0",
          "state": {
            "_dom_classes": [],
            "_model_module": "@jupyter-widgets/controls",
            "_model_module_version": "1.5.0",
            "_model_name": "FloatProgressModel",
            "_view_count": null,
            "_view_module": "@jupyter-widgets/controls",
            "_view_module_version": "1.5.0",
            "_view_name": "ProgressView",
            "bar_style": "success",
            "description": "",
            "description_tooltip": null,
            "layout": "IPY_MODEL_baf221ee7d814f41b9318b7bdc9c237f",
            "max": 385,
            "min": 0,
            "orientation": "horizontal",
            "style": "IPY_MODEL_b14f3a2238af4da4982dceb8d4e36b85",
            "value": 385
          }
        },
        "1bc3e637f7eb4f5dbae44fcd94b80d13": {
          "model_module": "@jupyter-widgets/controls",
          "model_name": "HTMLModel",
          "model_module_version": "1.5.0",
          "state": {
            "_dom_classes": [],
            "_model_module": "@jupyter-widgets/controls",
            "_model_module_version": "1.5.0",
            "_model_name": "HTMLModel",
            "_view_count": null,
            "_view_module": "@jupyter-widgets/controls",
            "_view_module_version": "1.5.0",
            "_view_name": "HTMLView",
            "description": "",
            "description_tooltip": null,
            "layout": "IPY_MODEL_d64e54fd9d004b09aea5f19472d619a1",
            "placeholder": "​",
            "style": "IPY_MODEL_b737517251ea4bd188ada9e000070ac1",
            "value": " 385/385 [00:00&lt;00:00, 48.3kB/s]"
          }
        },
        "301df618902e4763928066ddfccc7349": {
          "model_module": "@jupyter-widgets/base",
          "model_name": "LayoutModel",
          "model_module_version": "1.2.0",
          "state": {
            "_model_module": "@jupyter-widgets/base",
            "_model_module_version": "1.2.0",
            "_model_name": "LayoutModel",
            "_view_count": null,
            "_view_module": "@jupyter-widgets/base",
            "_view_module_version": "1.2.0",
            "_view_name": "LayoutView",
            "align_content": null,
            "align_items": null,
            "align_self": null,
            "border": null,
            "bottom": null,
            "display": null,
            "flex": null,
            "flex_flow": null,
            "grid_area": null,
            "grid_auto_columns": null,
            "grid_auto_flow": null,
            "grid_auto_rows": null,
            "grid_column": null,
            "grid_gap": null,
            "grid_row": null,
            "grid_template_areas": null,
            "grid_template_columns": null,
            "grid_template_rows": null,
            "height": null,
            "justify_content": null,
            "justify_items": null,
            "left": null,
            "margin": null,
            "max_height": null,
            "max_width": null,
            "min_height": null,
            "min_width": null,
            "object_fit": null,
            "object_position": null,
            "order": null,
            "overflow": null,
            "overflow_x": null,
            "overflow_y": null,
            "padding": null,
            "right": null,
            "top": null,
            "visibility": null,
            "width": null
          }
        },
        "0e604d7de14e4e6199377358eb8b4bd0": {
          "model_module": "@jupyter-widgets/base",
          "model_name": "LayoutModel",
          "model_module_version": "1.2.0",
          "state": {
            "_model_module": "@jupyter-widgets/base",
            "_model_module_version": "1.2.0",
            "_model_name": "LayoutModel",
            "_view_count": null,
            "_view_module": "@jupyter-widgets/base",
            "_view_module_version": "1.2.0",
            "_view_name": "LayoutView",
            "align_content": null,
            "align_items": null,
            "align_self": null,
            "border": null,
            "bottom": null,
            "display": null,
            "flex": null,
            "flex_flow": null,
            "grid_area": null,
            "grid_auto_columns": null,
            "grid_auto_flow": null,
            "grid_auto_rows": null,
            "grid_column": null,
            "grid_gap": null,
            "grid_row": null,
            "grid_template_areas": null,
            "grid_template_columns": null,
            "grid_template_rows": null,
            "height": null,
            "justify_content": null,
            "justify_items": null,
            "left": null,
            "margin": null,
            "max_height": null,
            "max_width": null,
            "min_height": null,
            "min_width": null,
            "object_fit": null,
            "object_position": null,
            "order": null,
            "overflow": null,
            "overflow_x": null,
            "overflow_y": null,
            "padding": null,
            "right": null,
            "top": null,
            "visibility": null,
            "width": null
          }
        },
        "f1ce2099a9554665a5cdfb44db74ed7a": {
          "model_module": "@jupyter-widgets/controls",
          "model_name": "DescriptionStyleModel",
          "model_module_version": "1.5.0",
          "state": {
            "_model_module": "@jupyter-widgets/controls",
            "_model_module_version": "1.5.0",
            "_model_name": "DescriptionStyleModel",
            "_view_count": null,
            "_view_module": "@jupyter-widgets/base",
            "_view_module_version": "1.2.0",
            "_view_name": "StyleView",
            "description_width": ""
          }
        },
        "baf221ee7d814f41b9318b7bdc9c237f": {
          "model_module": "@jupyter-widgets/base",
          "model_name": "LayoutModel",
          "model_module_version": "1.2.0",
          "state": {
            "_model_module": "@jupyter-widgets/base",
            "_model_module_version": "1.2.0",
            "_model_name": "LayoutModel",
            "_view_count": null,
            "_view_module": "@jupyter-widgets/base",
            "_view_module_version": "1.2.0",
            "_view_name": "LayoutView",
            "align_content": null,
            "align_items": null,
            "align_self": null,
            "border": null,
            "bottom": null,
            "display": null,
            "flex": null,
            "flex_flow": null,
            "grid_area": null,
            "grid_auto_columns": null,
            "grid_auto_flow": null,
            "grid_auto_rows": null,
            "grid_column": null,
            "grid_gap": null,
            "grid_row": null,
            "grid_template_areas": null,
            "grid_template_columns": null,
            "grid_template_rows": null,
            "height": null,
            "justify_content": null,
            "justify_items": null,
            "left": null,
            "margin": null,
            "max_height": null,
            "max_width": null,
            "min_height": null,
            "min_width": null,
            "object_fit": null,
            "object_position": null,
            "order": null,
            "overflow": null,
            "overflow_x": null,
            "overflow_y": null,
            "padding": null,
            "right": null,
            "top": null,
            "visibility": null,
            "width": null
          }
        },
        "b14f3a2238af4da4982dceb8d4e36b85": {
          "model_module": "@jupyter-widgets/controls",
          "model_name": "ProgressStyleModel",
          "model_module_version": "1.5.0",
          "state": {
            "_model_module": "@jupyter-widgets/controls",
            "_model_module_version": "1.5.0",
            "_model_name": "ProgressStyleModel",
            "_view_count": null,
            "_view_module": "@jupyter-widgets/base",
            "_view_module_version": "1.2.0",
            "_view_name": "StyleView",
            "bar_color": null,
            "description_width": ""
          }
        },
        "d64e54fd9d004b09aea5f19472d619a1": {
          "model_module": "@jupyter-widgets/base",
          "model_name": "LayoutModel",
          "model_module_version": "1.2.0",
          "state": {
            "_model_module": "@jupyter-widgets/base",
            "_model_module_version": "1.2.0",
            "_model_name": "LayoutModel",
            "_view_count": null,
            "_view_module": "@jupyter-widgets/base",
            "_view_module_version": "1.2.0",
            "_view_name": "LayoutView",
            "align_content": null,
            "align_items": null,
            "align_self": null,
            "border": null,
            "bottom": null,
            "display": null,
            "flex": null,
            "flex_flow": null,
            "grid_area": null,
            "grid_auto_columns": null,
            "grid_auto_flow": null,
            "grid_auto_rows": null,
            "grid_column": null,
            "grid_gap": null,
            "grid_row": null,
            "grid_template_areas": null,
            "grid_template_columns": null,
            "grid_template_rows": null,
            "height": null,
            "justify_content": null,
            "justify_items": null,
            "left": null,
            "margin": null,
            "max_height": null,
            "max_width": null,
            "min_height": null,
            "min_width": null,
            "object_fit": null,
            "object_position": null,
            "order": null,
            "overflow": null,
            "overflow_x": null,
            "overflow_y": null,
            "padding": null,
            "right": null,
            "top": null,
            "visibility": null,
            "width": null
          }
        },
        "b737517251ea4bd188ada9e000070ac1": {
          "model_module": "@jupyter-widgets/controls",
          "model_name": "DescriptionStyleModel",
          "model_module_version": "1.5.0",
          "state": {
            "_model_module": "@jupyter-widgets/controls",
            "_model_module_version": "1.5.0",
            "_model_name": "DescriptionStyleModel",
            "_view_count": null,
            "_view_module": "@jupyter-widgets/base",
            "_view_module_version": "1.2.0",
            "_view_name": "StyleView",
            "description_width": ""
          }
        }
      }
    }
  },
  "nbformat": 4,
  "nbformat_minor": 0
}