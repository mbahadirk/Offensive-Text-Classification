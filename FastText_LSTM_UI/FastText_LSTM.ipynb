{
  "cells": [
    {
      "cell_type": "code",
      "execution_count": null,
      "metadata": {
        "id": "1MAnruLCmDAl"
      },
      "outputs": [],
      "source": [
        "# from google.colab import files\n",
        "\n",
        "# upload = files.upload()"
      ]
    },
    {
      "cell_type": "markdown",
      "metadata": {
        "id": "pa0ApCSXnrM6"
      },
      "source": [
        "\n",
        "# Importing Data\n"
      ]
    },
    {
      "cell_type": "code",
      "source": [
        "!pip install numpy==1.23.5 gensim==4.3.1\n"
      ],
      "metadata": {
        "colab": {
          "base_uri": "https://localhost:8080/",
          "height": 690
        },
        "id": "Dd5B_zuvMeiN",
        "outputId": "92fb3851-bff3-4a84-fef1-ee29abf799ab"
      },
      "execution_count": null,
      "outputs": [
        {
          "output_type": "stream",
          "name": "stdout",
          "text": [
            "Collecting numpy==1.23.5\n",
            "  Downloading numpy-1.23.5-cp311-cp311-manylinux_2_17_x86_64.manylinux2014_x86_64.whl.metadata (2.3 kB)\n",
            "Collecting gensim==4.3.1\n",
            "  Downloading gensim-4.3.1-cp311-cp311-manylinux_2_17_x86_64.manylinux2014_x86_64.whl.metadata (8.4 kB)\n",
            "Requirement already satisfied: scipy>=1.7.0 in /usr/local/lib/python3.11/dist-packages (from gensim==4.3.1) (1.15.2)\n",
            "Requirement already satisfied: smart-open>=1.8.1 in /usr/local/lib/python3.11/dist-packages (from gensim==4.3.1) (7.1.0)\n",
            "Requirement already satisfied: wrapt in /usr/local/lib/python3.11/dist-packages (from smart-open>=1.8.1->gensim==4.3.1) (1.17.2)\n",
            "Downloading numpy-1.23.5-cp311-cp311-manylinux_2_17_x86_64.manylinux2014_x86_64.whl (17.1 MB)\n",
            "\u001b[2K   \u001b[90m━━━━━━━━━━━━━━━━━━━━━━━━━━━━━━━━━━━━━━━━\u001b[0m \u001b[32m17.1/17.1 MB\u001b[0m \u001b[31m112.2 MB/s\u001b[0m eta \u001b[36m0:00:00\u001b[0m\n",
            "\u001b[?25hDownloading gensim-4.3.1-cp311-cp311-manylinux_2_17_x86_64.manylinux2014_x86_64.whl (26.6 MB)\n",
            "\u001b[2K   \u001b[90m━━━━━━━━━━━━━━━━━━━━━━━━━━━━━━━━━━━━━━━━\u001b[0m \u001b[32m26.6/26.6 MB\u001b[0m \u001b[31m79.6 MB/s\u001b[0m eta \u001b[36m0:00:00\u001b[0m\n",
            "\u001b[?25hInstalling collected packages: numpy, gensim\n",
            "  Attempting uninstall: numpy\n",
            "    Found existing installation: numpy 2.0.2\n",
            "    Uninstalling numpy-2.0.2:\n",
            "      Successfully uninstalled numpy-2.0.2\n",
            "\u001b[31mERROR: pip's dependency resolver does not currently take into account all the packages that are installed. This behaviour is the source of the following dependency conflicts.\n",
            "jaxlib 0.5.1 requires numpy>=1.25, but you have numpy 1.23.5 which is incompatible.\n",
            "treescope 0.1.9 requires numpy>=1.25.2, but you have numpy 1.23.5 which is incompatible.\n",
            "bigframes 2.1.0 requires numpy>=1.24.0, but you have numpy 1.23.5 which is incompatible.\n",
            "imbalanced-learn 0.13.0 requires numpy<3,>=1.24.3, but you have numpy 1.23.5 which is incompatible.\n",
            "jax 0.5.2 requires numpy>=1.25, but you have numpy 1.23.5 which is incompatible.\n",
            "albumentations 2.0.6 requires numpy>=1.24.4, but you have numpy 1.23.5 which is incompatible.\n",
            "pymc 5.22.0 requires numpy>=1.25.0, but you have numpy 1.23.5 which is incompatible.\n",
            "tensorflow 2.18.0 requires numpy<2.1.0,>=1.26.0, but you have numpy 1.23.5 which is incompatible.\n",
            "thinc 8.3.6 requires numpy<3.0.0,>=2.0.0, but you have numpy 1.23.5 which is incompatible.\n",
            "scikit-image 0.25.2 requires numpy>=1.24, but you have numpy 1.23.5 which is incompatible.\n",
            "xarray 2025.3.1 requires numpy>=1.24, but you have numpy 1.23.5 which is incompatible.\n",
            "albucore 0.0.24 requires numpy>=1.24.4, but you have numpy 1.23.5 which is incompatible.\n",
            "blosc2 3.3.2 requires numpy>=1.26, but you have numpy 1.23.5 which is incompatible.\n",
            "chex 0.1.89 requires numpy>=1.24.1, but you have numpy 1.23.5 which is incompatible.\u001b[0m\u001b[31m\n",
            "\u001b[0mSuccessfully installed gensim-4.3.1 numpy-1.23.5\n"
          ]
        },
        {
          "output_type": "display_data",
          "data": {
            "application/vnd.colab-display-data+json": {
              "pip_warning": {
                "packages": [
                  "numpy"
                ]
              },
              "id": "e31a460338954fe49e64af678d8f47a9"
            }
          },
          "metadata": {}
        }
      ]
    },
    {
      "cell_type": "code",
      "source": [
        "!pip uninstall -y scipy\n",
        "!pip install scipy==1.10.1"
      ],
      "metadata": {
        "colab": {
          "base_uri": "https://localhost:8080/"
        },
        "id": "8sMFy7JlX98i",
        "outputId": "e2589c6a-072b-4256-e944-fc27c14eee0d"
      },
      "execution_count": null,
      "outputs": [
        {
          "output_type": "stream",
          "name": "stdout",
          "text": [
            "Found existing installation: scipy 1.10.1\n",
            "Uninstalling scipy-1.10.1:\n",
            "  Successfully uninstalled scipy-1.10.1\n",
            "Collecting scipy==1.10.1\n",
            "  Using cached scipy-1.10.1-cp311-cp311-manylinux_2_17_x86_64.manylinux2014_x86_64.whl.metadata (58 kB)\n",
            "Requirement already satisfied: numpy<1.27.0,>=1.19.5 in /usr/local/lib/python3.11/dist-packages (from scipy==1.10.1) (1.23.5)\n",
            "Using cached scipy-1.10.1-cp311-cp311-manylinux_2_17_x86_64.manylinux2014_x86_64.whl (34.1 MB)\n",
            "Installing collected packages: scipy\n",
            "\u001b[31mERROR: pip's dependency resolver does not currently take into account all the packages that are installed. This behaviour is the source of the following dependency conflicts.\n",
            "jaxlib 0.5.1 requires numpy>=1.25, but you have numpy 1.23.5 which is incompatible.\n",
            "jaxlib 0.5.1 requires scipy>=1.11.1, but you have scipy 1.10.1 which is incompatible.\n",
            "imbalanced-learn 0.13.0 requires numpy<3,>=1.24.3, but you have numpy 1.23.5 which is incompatible.\n",
            "jax 0.5.2 requires numpy>=1.25, but you have numpy 1.23.5 which is incompatible.\n",
            "jax 0.5.2 requires scipy>=1.11.1, but you have scipy 1.10.1 which is incompatible.\n",
            "albumentations 2.0.6 requires numpy>=1.24.4, but you have numpy 1.23.5 which is incompatible.\n",
            "pymc 5.22.0 requires numpy>=1.25.0, but you have numpy 1.23.5 which is incompatible.\n",
            "cvxpy 1.6.5 requires scipy>=1.11.0, but you have scipy 1.10.1 which is incompatible.\n",
            "scikit-image 0.25.2 requires numpy>=1.24, but you have numpy 1.23.5 which is incompatible.\n",
            "scikit-image 0.25.2 requires scipy>=1.11.4, but you have scipy 1.10.1 which is incompatible.\n",
            "chex 0.1.89 requires numpy>=1.24.1, but you have numpy 1.23.5 which is incompatible.\u001b[0m\u001b[31m\n",
            "\u001b[0mSuccessfully installed scipy-1.10.1\n"
          ]
        }
      ]
    },
    {
      "cell_type": "code",
      "source": [
        "!wget https://dl.fbaipublicfiles.com/fasttext/vectors-crawl/cc.tr.300.vec.gz\n"
      ],
      "metadata": {
        "colab": {
          "base_uri": "https://localhost:8080/"
        },
        "id": "pS0lX1cfYaUC",
        "outputId": "fcf53f4e-bf02-4ce4-f3a1-817f527d0f1b"
      },
      "execution_count": null,
      "outputs": [
        {
          "output_type": "stream",
          "name": "stdout",
          "text": [
            "--2025-05-12 12:10:45--  https://dl.fbaipublicfiles.com/fasttext/vectors-crawl/cc.tr.300.vec.gz\n",
            "Resolving dl.fbaipublicfiles.com (dl.fbaipublicfiles.com)... 18.154.144.13, 18.154.144.74, 18.154.144.87, ...\n",
            "Connecting to dl.fbaipublicfiles.com (dl.fbaipublicfiles.com)|18.154.144.13|:443... connected.\n",
            "HTTP request sent, awaiting response... 200 OK\n",
            "Length: 1261500728 (1.2G) [binary/octet-stream]\n",
            "Saving to: ‘cc.tr.300.vec.gz’\n",
            "\n",
            "cc.tr.300.vec.gz    100%[===================>]   1.17G  35.3MB/s    in 32s     \n",
            "\n",
            "2025-05-12 12:11:18 (37.4 MB/s) - ‘cc.tr.300.vec.gz’ saved [1261500728/1261500728]\n",
            "\n"
          ]
        }
      ]
    },
    {
      "cell_type": "code",
      "execution_count": null,
      "metadata": {
        "colab": {
          "base_uri": "https://localhost:8080/",
          "height": 206
        },
        "id": "YBYJbRj6mb_U",
        "outputId": "4ffc0f65-2fdf-491e-d74d-888dd1c9a8f0"
      },
      "outputs": [
        {
          "output_type": "execute_result",
          "data": {
            "text/plain": [
              "                                                text  label\n",
              "0  gercekten sizin hikayelerinizi izleyerek mi ye...      0\n",
              "1                  coook cok bi baklava bi sen zaten      0\n",
              "2  sn dukel ataturkun karma ile baslattigi siyasi...      0\n",
              "3  konfederasyonumuzun aile ve sosyal politikalar...      0\n",
              "4  hakemler tarih yaziyorlar kisiye karsi 32 onde...      1"
            ],
            "text/html": [
              "\n",
              "  <div id=\"df-6e507484-c078-4671-a79a-e2c55a764369\" class=\"colab-df-container\">\n",
              "    <div>\n",
              "<style scoped>\n",
              "    .dataframe tbody tr th:only-of-type {\n",
              "        vertical-align: middle;\n",
              "    }\n",
              "\n",
              "    .dataframe tbody tr th {\n",
              "        vertical-align: top;\n",
              "    }\n",
              "\n",
              "    .dataframe thead th {\n",
              "        text-align: right;\n",
              "    }\n",
              "</style>\n",
              "<table border=\"1\" class=\"dataframe\">\n",
              "  <thead>\n",
              "    <tr style=\"text-align: right;\">\n",
              "      <th></th>\n",
              "      <th>text</th>\n",
              "      <th>label</th>\n",
              "    </tr>\n",
              "  </thead>\n",
              "  <tbody>\n",
              "    <tr>\n",
              "      <th>0</th>\n",
              "      <td>gercekten sizin hikayelerinizi izleyerek mi ye...</td>\n",
              "      <td>0</td>\n",
              "    </tr>\n",
              "    <tr>\n",
              "      <th>1</th>\n",
              "      <td>coook cok bi baklava bi sen zaten</td>\n",
              "      <td>0</td>\n",
              "    </tr>\n",
              "    <tr>\n",
              "      <th>2</th>\n",
              "      <td>sn dukel ataturkun karma ile baslattigi siyasi...</td>\n",
              "      <td>0</td>\n",
              "    </tr>\n",
              "    <tr>\n",
              "      <th>3</th>\n",
              "      <td>konfederasyonumuzun aile ve sosyal politikalar...</td>\n",
              "      <td>0</td>\n",
              "    </tr>\n",
              "    <tr>\n",
              "      <th>4</th>\n",
              "      <td>hakemler tarih yaziyorlar kisiye karsi 32 onde...</td>\n",
              "      <td>1</td>\n",
              "    </tr>\n",
              "  </tbody>\n",
              "</table>\n",
              "</div>\n",
              "    <div class=\"colab-df-buttons\">\n",
              "\n",
              "  <div class=\"colab-df-container\">\n",
              "    <button class=\"colab-df-convert\" onclick=\"convertToInteractive('df-6e507484-c078-4671-a79a-e2c55a764369')\"\n",
              "            title=\"Convert this dataframe to an interactive table.\"\n",
              "            style=\"display:none;\">\n",
              "\n",
              "  <svg xmlns=\"http://www.w3.org/2000/svg\" height=\"24px\" viewBox=\"0 -960 960 960\">\n",
              "    <path d=\"M120-120v-720h720v720H120Zm60-500h600v-160H180v160Zm220 220h160v-160H400v160Zm0 220h160v-160H400v160ZM180-400h160v-160H180v160Zm440 0h160v-160H620v160ZM180-180h160v-160H180v160Zm440 0h160v-160H620v160Z\"/>\n",
              "  </svg>\n",
              "    </button>\n",
              "\n",
              "  <style>\n",
              "    .colab-df-container {\n",
              "      display:flex;\n",
              "      gap: 12px;\n",
              "    }\n",
              "\n",
              "    .colab-df-convert {\n",
              "      background-color: #E8F0FE;\n",
              "      border: none;\n",
              "      border-radius: 50%;\n",
              "      cursor: pointer;\n",
              "      display: none;\n",
              "      fill: #1967D2;\n",
              "      height: 32px;\n",
              "      padding: 0 0 0 0;\n",
              "      width: 32px;\n",
              "    }\n",
              "\n",
              "    .colab-df-convert:hover {\n",
              "      background-color: #E2EBFA;\n",
              "      box-shadow: 0px 1px 2px rgba(60, 64, 67, 0.3), 0px 1px 3px 1px rgba(60, 64, 67, 0.15);\n",
              "      fill: #174EA6;\n",
              "    }\n",
              "\n",
              "    .colab-df-buttons div {\n",
              "      margin-bottom: 4px;\n",
              "    }\n",
              "\n",
              "    [theme=dark] .colab-df-convert {\n",
              "      background-color: #3B4455;\n",
              "      fill: #D2E3FC;\n",
              "    }\n",
              "\n",
              "    [theme=dark] .colab-df-convert:hover {\n",
              "      background-color: #434B5C;\n",
              "      box-shadow: 0px 1px 3px 1px rgba(0, 0, 0, 0.15);\n",
              "      filter: drop-shadow(0px 1px 2px rgba(0, 0, 0, 0.3));\n",
              "      fill: #FFFFFF;\n",
              "    }\n",
              "  </style>\n",
              "\n",
              "    <script>\n",
              "      const buttonEl =\n",
              "        document.querySelector('#df-6e507484-c078-4671-a79a-e2c55a764369 button.colab-df-convert');\n",
              "      buttonEl.style.display =\n",
              "        google.colab.kernel.accessAllowed ? 'block' : 'none';\n",
              "\n",
              "      async function convertToInteractive(key) {\n",
              "        const element = document.querySelector('#df-6e507484-c078-4671-a79a-e2c55a764369');\n",
              "        const dataTable =\n",
              "          await google.colab.kernel.invokeFunction('convertToInteractive',\n",
              "                                                    [key], {});\n",
              "        if (!dataTable) return;\n",
              "\n",
              "        const docLinkHtml = 'Like what you see? Visit the ' +\n",
              "          '<a target=\"_blank\" href=https://colab.research.google.com/notebooks/data_table.ipynb>data table notebook</a>'\n",
              "          + ' to learn more about interactive tables.';\n",
              "        element.innerHTML = '';\n",
              "        dataTable['output_type'] = 'display_data';\n",
              "        await google.colab.output.renderOutput(dataTable, element);\n",
              "        const docLink = document.createElement('div');\n",
              "        docLink.innerHTML = docLinkHtml;\n",
              "        element.appendChild(docLink);\n",
              "      }\n",
              "    </script>\n",
              "  </div>\n",
              "\n",
              "\n",
              "    <div id=\"df-3e3ccdc0-3760-47e6-bd44-4e6c4feeea48\">\n",
              "      <button class=\"colab-df-quickchart\" onclick=\"quickchart('df-3e3ccdc0-3760-47e6-bd44-4e6c4feeea48')\"\n",
              "                title=\"Suggest charts\"\n",
              "                style=\"display:none;\">\n",
              "\n",
              "<svg xmlns=\"http://www.w3.org/2000/svg\" height=\"24px\"viewBox=\"0 0 24 24\"\n",
              "     width=\"24px\">\n",
              "    <g>\n",
              "        <path d=\"M19 3H5c-1.1 0-2 .9-2 2v14c0 1.1.9 2 2 2h14c1.1 0 2-.9 2-2V5c0-1.1-.9-2-2-2zM9 17H7v-7h2v7zm4 0h-2V7h2v10zm4 0h-2v-4h2v4z\"/>\n",
              "    </g>\n",
              "</svg>\n",
              "      </button>\n",
              "\n",
              "<style>\n",
              "  .colab-df-quickchart {\n",
              "      --bg-color: #E8F0FE;\n",
              "      --fill-color: #1967D2;\n",
              "      --hover-bg-color: #E2EBFA;\n",
              "      --hover-fill-color: #174EA6;\n",
              "      --disabled-fill-color: #AAA;\n",
              "      --disabled-bg-color: #DDD;\n",
              "  }\n",
              "\n",
              "  [theme=dark] .colab-df-quickchart {\n",
              "      --bg-color: #3B4455;\n",
              "      --fill-color: #D2E3FC;\n",
              "      --hover-bg-color: #434B5C;\n",
              "      --hover-fill-color: #FFFFFF;\n",
              "      --disabled-bg-color: #3B4455;\n",
              "      --disabled-fill-color: #666;\n",
              "  }\n",
              "\n",
              "  .colab-df-quickchart {\n",
              "    background-color: var(--bg-color);\n",
              "    border: none;\n",
              "    border-radius: 50%;\n",
              "    cursor: pointer;\n",
              "    display: none;\n",
              "    fill: var(--fill-color);\n",
              "    height: 32px;\n",
              "    padding: 0;\n",
              "    width: 32px;\n",
              "  }\n",
              "\n",
              "  .colab-df-quickchart:hover {\n",
              "    background-color: var(--hover-bg-color);\n",
              "    box-shadow: 0 1px 2px rgba(60, 64, 67, 0.3), 0 1px 3px 1px rgba(60, 64, 67, 0.15);\n",
              "    fill: var(--button-hover-fill-color);\n",
              "  }\n",
              "\n",
              "  .colab-df-quickchart-complete:disabled,\n",
              "  .colab-df-quickchart-complete:disabled:hover {\n",
              "    background-color: var(--disabled-bg-color);\n",
              "    fill: var(--disabled-fill-color);\n",
              "    box-shadow: none;\n",
              "  }\n",
              "\n",
              "  .colab-df-spinner {\n",
              "    border: 2px solid var(--fill-color);\n",
              "    border-color: transparent;\n",
              "    border-bottom-color: var(--fill-color);\n",
              "    animation:\n",
              "      spin 1s steps(1) infinite;\n",
              "  }\n",
              "\n",
              "  @keyframes spin {\n",
              "    0% {\n",
              "      border-color: transparent;\n",
              "      border-bottom-color: var(--fill-color);\n",
              "      border-left-color: var(--fill-color);\n",
              "    }\n",
              "    20% {\n",
              "      border-color: transparent;\n",
              "      border-left-color: var(--fill-color);\n",
              "      border-top-color: var(--fill-color);\n",
              "    }\n",
              "    30% {\n",
              "      border-color: transparent;\n",
              "      border-left-color: var(--fill-color);\n",
              "      border-top-color: var(--fill-color);\n",
              "      border-right-color: var(--fill-color);\n",
              "    }\n",
              "    40% {\n",
              "      border-color: transparent;\n",
              "      border-right-color: var(--fill-color);\n",
              "      border-top-color: var(--fill-color);\n",
              "    }\n",
              "    60% {\n",
              "      border-color: transparent;\n",
              "      border-right-color: var(--fill-color);\n",
              "    }\n",
              "    80% {\n",
              "      border-color: transparent;\n",
              "      border-right-color: var(--fill-color);\n",
              "      border-bottom-color: var(--fill-color);\n",
              "    }\n",
              "    90% {\n",
              "      border-color: transparent;\n",
              "      border-bottom-color: var(--fill-color);\n",
              "    }\n",
              "  }\n",
              "</style>\n",
              "\n",
              "      <script>\n",
              "        async function quickchart(key) {\n",
              "          const quickchartButtonEl =\n",
              "            document.querySelector('#' + key + ' button');\n",
              "          quickchartButtonEl.disabled = true;  // To prevent multiple clicks.\n",
              "          quickchartButtonEl.classList.add('colab-df-spinner');\n",
              "          try {\n",
              "            const charts = await google.colab.kernel.invokeFunction(\n",
              "                'suggestCharts', [key], {});\n",
              "          } catch (error) {\n",
              "            console.error('Error during call to suggestCharts:', error);\n",
              "          }\n",
              "          quickchartButtonEl.classList.remove('colab-df-spinner');\n",
              "          quickchartButtonEl.classList.add('colab-df-quickchart-complete');\n",
              "        }\n",
              "        (() => {\n",
              "          let quickchartButtonEl =\n",
              "            document.querySelector('#df-3e3ccdc0-3760-47e6-bd44-4e6c4feeea48 button');\n",
              "          quickchartButtonEl.style.display =\n",
              "            google.colab.kernel.accessAllowed ? 'block' : 'none';\n",
              "        })();\n",
              "      </script>\n",
              "    </div>\n",
              "\n",
              "    </div>\n",
              "  </div>\n"
            ],
            "application/vnd.google.colaboratory.intrinsic+json": {
              "type": "dataframe",
              "variable_name": "df",
              "summary": "{\n  \"name\": \"df\",\n  \"rows\": 42398,\n  \"fields\": [\n    {\n      \"column\": \"text\",\n      \"properties\": {\n        \"dtype\": \"string\",\n        \"num_unique_values\": 42141,\n        \"samples\": [\n          \"vay cakal erbakan kurdleri yillarca kandirmis demekki milli milli derken mhp gibiymis kodugumun turkcusu\",\n          \"amk ulkemizi ziyarete gelen cebelitarik vatandasindan bahsediyorlar sanki yabanci uyrukluymus amina kodugumun suriyelisi yazin gecin iste\",\n          \"wanyama neden olmasin beklemeye gectik\"\n        ],\n        \"semantic_type\": \"\",\n        \"description\": \"\"\n      }\n    },\n    {\n      \"column\": \"label\",\n      \"properties\": {\n        \"dtype\": \"number\",\n        \"std\": 0,\n        \"min\": 0,\n        \"max\": 1,\n        \"num_unique_values\": 2,\n        \"samples\": [\n          1,\n          0\n        ],\n        \"semantic_type\": \"\",\n        \"description\": \"\"\n      }\n    }\n  ]\n}"
            }
          },
          "metadata": {},
          "execution_count": 3
        }
      ],
      "source": [
        "import pandas as pd\n",
        "\n",
        "# Kullandığımız veri setindeki satırları \"|\" ayıracı ile ayırıyoruz.\n",
        "df = pd.read_csv('/content/preprocessed_train_40k.csv')\n",
        "df = df[[\"text\", \"label\"]]\n",
        "df.head()"
      ]
    },
    {
      "cell_type": "code",
      "execution_count": null,
      "metadata": {
        "colab": {
          "base_uri": "https://localhost:8080/"
        },
        "id": "fdHe_Tov6E_n",
        "outputId": "aad0bd31-fc82-4080-fea3-98521f4cccf7"
      },
      "outputs": [
        {
          "name": "stdout",
          "output_type": "stream",
          "text": [
            "Mounted at /content/drive\n"
          ]
        }
      ],
      "source": [
        "from google.colab import drive\n",
        "drive.mount('/content/drive')"
      ]
    },
    {
      "cell_type": "code",
      "execution_count": null,
      "metadata": {
        "colab": {
          "base_uri": "https://localhost:8080/"
        },
        "id": "xX9CLWljnzXS",
        "outputId": "ae96f592-b50a-45a9-a549-4028bd2c0e65"
      },
      "outputs": [
        {
          "output_type": "stream",
          "name": "stdout",
          "text": [
            "<class 'pandas.core.frame.DataFrame'>\n",
            "RangeIndex: 42398 entries, 0 to 42397\n",
            "Data columns (total 2 columns):\n",
            " #   Column  Non-Null Count  Dtype \n",
            "---  ------  --------------  ----- \n",
            " 0   text    42396 non-null  object\n",
            " 1   label   42398 non-null  int64 \n",
            "dtypes: int64(1), object(1)\n",
            "memory usage: 662.6+ KB\n"
          ]
        }
      ],
      "source": [
        "# Veri seti hakkında bilgileri yazdırdık.\n",
        "df.info()"
      ]
    },
    {
      "cell_type": "code",
      "execution_count": null,
      "metadata": {
        "colab": {
          "base_uri": "https://localhost:8080/",
          "height": 526
        },
        "id": "DIPEA9OPn493",
        "outputId": "69b37d32-99b7-4673-c568-13aad42a1631"
      },
      "outputs": [
        {
          "data": {
            "text/plain": [
              "([<matplotlib.patches.Wedge at 0x7ae4857b3e10>,\n",
              "  <matplotlib.patches.Wedge at 0x7ae4857be810>],\n",
              " [Text(-1.0941706636813076, -0.11309535242089684, 'Zararsiz'),\n",
              "  Text(1.0941707077221812, 0.11309492633509963, 'Zararli')],\n",
              " [Text(-0.5968203620079859, -0.06168837404776191, '53.3%'),\n",
              "  Text(0.5968203860302805, 0.06168814163732706, '46.7%')])"
            ]
          },
          "execution_count": 5,
          "metadata": {},
          "output_type": "execute_result"
        },
        {
          "data": {
            "image/png": "[encoded data removed]",
            "text/plain": [
              "<Figure size 1500x500 with 1 Axes>"
            ]
          },
          "metadata": {},
          "output_type": "display_data"
        }
      ],
      "source": [
        "import matplotlib.pyplot as plt\n",
        "plt.rcParams['figure.figsize'] = (15, 5)\n",
        "\n",
        "# OTHER kategorisindeki veri adetini hesapladik.\n",
        "positive = len(df[df['label'] == 0])\n",
        "# (RACIST+INSULT+PROFANITY+SEXIST) kategorisindeki veri adetini hesapladik.\n",
        "negative = len(df[df['label'] == 1])\n",
        "# Dairesel grafikteki verilerimizi ayarladık.\n",
        "pie_y = [positive, negative]\n",
        "# Dairesel grafikteki verilerimizin adını ayarladık.\n",
        "pie_labels = [\"Zararsiz\", \"Zararli\"]\n",
        "\n",
        "# Dairesel grafiğimizi oluşturduk.\n",
        "plt.pie(pie_y, labels=pie_labels, startangle=90, autopct='%1.1f%%')"
      ]
    },
    {
      "cell_type": "markdown",
      "metadata": {
        "id": "ATtugYUJoWnq"
      },
      "source": [
        "# Her bir kategorideki veri adeti"
      ]
    },
    {
      "cell_type": "code",
      "execution_count": null,
      "metadata": {
        "colab": {
          "base_uri": "https://localhost:8080/",
          "height": 358
        },
        "id": "4pTObUuaoC6i",
        "outputId": "82bf8107-f38b-459d-a65d-9239c9571eeb"
      },
      "outputs": [
        {
          "data": {
            "image/png": "[encoded data removed]",
            "text/plain": [
              "<Figure size 1500x500 with 1 Axes>"
            ]
          },
          "metadata": {},
          "output_type": "display_data"
        }
      ],
      "source": [
        "from collections import Counter\n",
        "# TARGET sütunundaki kategorileri bulduk.\n",
        "tags = Counter(df[\"label\"]).keys()\n",
        "# TARGET sütunundaki kategorilerin adetini bulduk.\n",
        "tags_len = Counter(df[\"label\"]).values()\n",
        "\n",
        "# Kategori ismi ve adet sayısını veri seti haline getirdik.\n",
        "tag_df = pd.DataFrame(zip(tags, tags_len), columns=[\"Sinif\", \"Toplam\"])\n",
        "# Plot grafiğimizi oluşturduk.\n",
        "tag_df.plot(x=\"Sinif\", y=\"Toplam\", kind=\"bar\", legend=False, grid=False, figsize=(15,5))\n",
        "# Plot grafiğimizin başlığını ayarladık.\n",
        "plt.title(\"Etiket Sayılarının Görselleştirilmesi\", fontsize=18)\n",
        "# Plot grafiğimizin x ekseni başlığını ayarladık.\n",
        "plt.xlabel(\"Etiketler\", fontsize=15)\n",
        "# Plot grafiğimizin y ekseni başlığını ayarladık.\n",
        "plt.ylabel(\"Toplam\", fontsize=15)\n",
        "# Plot grafiğimizi ekrana yazdırdık.\n",
        "plt.show()"
      ]
    },
    {
      "cell_type": "markdown",
      "metadata": {
        "id": "F7kGF4wNo0YL"
      },
      "source": [
        "# Temizlemeden önceki en sık kullanılan kelimeler"
      ]
    },
    {
      "cell_type": "code",
      "execution_count": null,
      "metadata": {
        "colab": {
          "base_uri": "https://localhost:8080/"
        },
        "id": "1AFrfNSCol5F",
        "outputId": "092df689-1348-41f8-e6b3-b5a890078605"
      },
      "outputs": [
        {
          "name": "stderr",
          "output_type": "stream",
          "text": [
            "[nltk_data] Downloading package punkt_tab to /root/nltk_data...\n",
            "[nltk_data]   Unzipping tokenizers/punkt_tab.zip.\n"
          ]
        }
      ],
      "source": [
        "import nltk\n",
        "import string\n",
        "# Download the 'punkt_tab' resource\n",
        "nltk.download('punkt_tab')\n",
        "\n",
        "# Bir kategorideki en sık geçen kelimeleri bulmaya yarayan fonksiyonumuzu tanımladık.\n",
        "def word_freq(CATEGORY):\n",
        "  # Parametre olarak verilen kategoriyi kullanarak veri setimizi oluşturduk.\n",
        "  freq_df = df[df['label'] == CATEGORY]\n",
        "  # Kategorimizin text sınıfındaki satırlardaki kelimeleri bir değişkene aktardık.\n",
        "  freq_words = freq_df[\"text\"].tolist()\n",
        "  # The error is likely due to some values in the \"text\" column being floats or NaNs.\n",
        "  # This line converts all elements of freq_words to strings before applying lower(),\n",
        "  # preventing the AttributeError.\n",
        "  freq_words = [str(i).lower() for i in freq_words]\n",
        "  freq_punc = []\n",
        "  # Dizimizdeki kelimelerin sıklığındaki noktalama işaretlerini saydık.\n",
        "  for o in freq_words:\n",
        "    freq_punc += nltk.word_tokenize(o)\n",
        "  freq_punc = [o for o in freq_punc if o not in string.punctuation]\n",
        "  freq_freq = Counter(freq_punc)\n",
        "  # En sık geçen 15 kelimeyi bir değişkene atadık.\n",
        "  freq_top = freq_freq.most_common(15)\n",
        "\n",
        "\n",
        "  words = [word for word, _ in freq_top]\n",
        "\n",
        "  counts = [counts for _, counts in freq_top]\n",
        "\n",
        "  # Sütun grafiğimizi oluşturduk.\n",
        "  plt.bar(words, counts)\n",
        "  # Sütun grafiğimizin başlığını ayarladık.\n",
        "  plt.title(f\"{CATEGORY} SINIFINDAKI EN SIK GECEN 15 KELIME\")\n",
        "  # Sütun grafiğimizin y ekseni başlığını ayarladık.\n",
        "  plt.ylabel(\"Frekans\")\n",
        "  # Sütun grafiğimizin x ekseni başlığını ayarladık.\n",
        "  plt.xlabel(\"Kelimeler\")\n",
        "  # Sütün grafiğimizi ekrana bastırdık.\n",
        "  plt.show()\n",
        "\n",
        "  # WordCloud'da kullanmak için en sık geçen kelimeleri döndürdük.\n",
        "  return freq_top"
      ]
    },
    {
      "cell_type": "code",
      "execution_count": null,
      "metadata": {
        "colab": {
          "base_uri": "https://localhost:8080/",
          "height": 358
        },
        "id": "qafX1tTRo-bT",
        "outputId": "04ccf924-5c05-4c9e-8706-47d831366b4d"
      },
      "outputs": [
        {
          "data": {
            "image/png": "[encoded data removed]",
            "text/plain": [
              "<Figure size 1500x500 with 1 Axes>"
            ]
          },
          "metadata": {},
          "output_type": "display_data"
        }
      ],
      "source": [
        "# 1 kategorisindeki en sık geçen 15 kelimeyi gösteren grafiği ekrana yazdırdık.\n",
        "negative_top = word_freq(1)"
      ]
    },
    {
      "cell_type": "code",
      "execution_count": null,
      "metadata": {
        "colab": {
          "base_uri": "https://localhost:8080/",
          "height": 358
        },
        "id": "u8VlMjmmpEA6",
        "outputId": "936680ac-5d7d-4fba-ce07-008e55886383"
      },
      "outputs": [
        {
          "data": {
            "image/png": "[encoded data removed]",
            "text/plain": [
              "<Figure size 1500x500 with 1 Axes>"
            ]
          },
          "metadata": {},
          "output_type": "display_data"
        }
      ],
      "source": [
        "# 0 kategorisindeki en sık geçen 15 kelimeyi gösteren grafiği ekrana yazdırdık.\n",
        "positive_top = word_freq(0)"
      ]
    },
    {
      "cell_type": "code",
      "source": [
        "from gensim.models import KeyedVectors\n",
        "from torch.utils.data import Dataset\n",
        "import torch\n",
        "import numpy as np\n",
        "from gensim.models import KeyedVectors"
      ],
      "metadata": {
        "id": "o3L0-ATgWO2W"
      },
      "execution_count": null,
      "outputs": []
    },
    {
      "cell_type": "code",
      "source": [
        "fasttext_model = KeyedVectors.load_word2vec_format('/content/cc.tr.300.vec.gz', binary=False)\n"
      ],
      "metadata": {
        "id": "Wdaf7iwYWUEl"
      },
      "execution_count": null,
      "outputs": []
    },
    {
      "cell_type": "code",
      "source": [
        "fasttext_model.save('cc.tr.300.kv')"
      ],
      "metadata": {
        "id": "kCQ1p06NbzmA"
      },
      "execution_count": null,
      "outputs": []
    },
    {
      "cell_type": "code",
      "execution_count": null,
      "metadata": {
        "id": "EqMZzOELqDpc",
        "colab": {
          "base_uri": "https://localhost:8080/"
        },
        "outputId": "9a111eed-a7b6-4cc7-9fca-45d0392710dc"
      },
      "outputs": [
        {
          "output_type": "stream",
          "name": "stdout",
          "text": [
            "Örnek vektör şekli: torch.Size([20, 300])\n",
            "Etiketi: tensor(0)\n"
          ]
        }
      ],
      "source": [
        "def sentence_to_vec(sentence, model, dim=300, max_len=20):\n",
        "    sentence = str(sentence)\n",
        "    words = sentence.lower().split()\n",
        "    vecs = []\n",
        "    for word in words:\n",
        "        if word in model:\n",
        "            vecs.append(model[word])\n",
        "    # Şimdi padding yapacağız\n",
        "    if len(vecs) < max_len:\n",
        "        # Eksik kelime kadar sıfır vektör ekle\n",
        "        vecs.extend([np.zeros(dim)] * (max_len - len(vecs)))\n",
        "    else:\n",
        "        # Fazlaysa kırp\n",
        "        vecs = vecs[:max_len]\n",
        "    return np.array(vecs)\n",
        "\n",
        "\n",
        "\n",
        "\n",
        "class FastTextDataset(Dataset):\n",
        "    def __init__(self, dataframe, model, max_len=20):\n",
        "        self.labels = dataframe[\"label\"].values\n",
        "        self.texts = [sentence_to_vec(text, model, max_len=max_len) for text in dataframe[\"text\"]]\n",
        "\n",
        "    def __len__(self):\n",
        "        return len(self.labels)\n",
        "\n",
        "    def __getitem__(self, idx):\n",
        "        text_vec = torch.tensor(self.texts[idx], dtype=torch.float32)  # (max_len, 300)\n",
        "        label = torch.tensor(self.labels[idx], dtype=torch.long)\n",
        "        return text_vec, label\n",
        "\n",
        "\n",
        "\n",
        "\n",
        "\n",
        "# Dataset oluştur\n",
        "dataset = FastTextDataset(df, fasttext_model)\n",
        "\n",
        "# Örnek: İlk örneği kontrol edelim\n",
        "sample_x, sample_y = dataset[0]\n",
        "print(\"Örnek vektör şekli:\", sample_x.shape)\n",
        "print(\"Etiketi:\", sample_y)"
      ]
    },
    {
      "cell_type": "code",
      "source": [
        "# Örnek bir cümle seçelim\n",
        "example_sentence = \"bu ürün çok kötü\"\n",
        "\n",
        "# Cümleyi vektörleştirelim\n",
        "vector = sentence_to_vec(example_sentence, fasttext_model)\n",
        "\n",
        "# Vektörü yazdıralım\n",
        "print(vector)\n",
        "print(f\"Vektör boyutu: {vector.shape}\")\n"
      ],
      "metadata": {
        "colab": {
          "base_uri": "https://localhost:8080/"
        },
        "id": "Mmu7uO4G_nXx",
        "outputId": "1927aeee-6a46-4dfd-8830-87abb112a719"
      },
      "execution_count": null,
      "outputs": [
        {
          "output_type": "stream",
          "name": "stdout",
          "text": [
            "[[ 0.17039999  0.0893     -0.19750001 ...  0.1169     -0.004\n",
            "  -0.0674    ]\n",
            " [ 0.1079      0.0117      0.1242     ... -0.0176     -0.078\n",
            "   0.0753    ]\n",
            " [ 0.0222     -0.0735     -0.0031     ... -0.0133     -0.0151\n",
            "   0.0036    ]\n",
            " ...\n",
            " [ 0.          0.          0.         ...  0.          0.\n",
            "   0.        ]\n",
            " [ 0.          0.          0.         ...  0.          0.\n",
            "   0.        ]\n",
            " [ 0.          0.          0.         ...  0.          0.\n",
            "   0.        ]]\n",
            "Vektör boyutu: (20, 300)\n"
          ]
        }
      ]
    },
    {
      "cell_type": "code",
      "execution_count": null,
      "metadata": {
        "colab": {
          "base_uri": "https://localhost:8080/"
        },
        "id": "SnTm6kd_v-87",
        "outputId": "47e01d1b-9811-4126-8e90-0e14a1b832c1"
      },
      "outputs": [
        {
          "output_type": "stream",
          "name": "stdout",
          "text": [
            "25438 8479 8481\n"
          ]
        }
      ],
      "source": [
        "def train_validate_test_split(df):\n",
        "    # Rastgelelik durumu.\n",
        "    np.random.seed(4242)\n",
        "    # Diziyi rastgele permute eder.\n",
        "    perm = np.random.permutation(df.index)\n",
        "    # Veri setinin %60'ının sayısal değeri hesaplandı.\n",
        "    train_end = int(.6 * len(df.index))\n",
        "    # Veri setinin %20'sinin sayısal değeri hesaplandı.\n",
        "    validate_end = int(.2 * len(df.index)) + train_end\n",
        "    # Veri setinin %60'ını train etmek için ayırdık.\n",
        "    train = df.iloc[perm[:train_end]]\n",
        "    # Veri setinin %20'sini validation etmek için ayırdık.\n",
        "    validate = df.iloc[perm[train_end:validate_end]]\n",
        "    # Veri setinin %20'sini test etmek için ayırdık.\n",
        "    test = df.iloc[perm[validate_end:]]\n",
        "    # train, validation, test veri setlerini döndür.\n",
        "    return train, validate, test\n",
        "\n",
        "# Train, Validation ve Test için veri setlerimiz oluşturduk.\n",
        "df_train, df_validation, df_test = train_validate_test_split(df)\n",
        "# Train, Validation ve Test için oluşturduğumuz veri setlerinin uzunluğunu ekrana yazdırdık. (%60 - %20 - %20)\n",
        "print(len(df_train), len(df_validation), len(df_test))"
      ]
    },
    {
      "cell_type": "code",
      "execution_count": null,
      "metadata": {
        "id": "y8gUKIFgwBRu"
      },
      "outputs": [],
      "source": [
        "import torch.nn as nn\n",
        "from torch.utils.data import DataLoader\n",
        "import torch.optim as optim\n",
        "\n",
        "class FastTextLSTMClassifier(nn.Module):\n",
        "    def __init__(self, embedding_dim=300, hidden_dim=128, output_dim=2, num_layers=1):\n",
        "        super(FastTextLSTMClassifier, self).__init__()\n",
        "        self.lstm = nn.LSTM(input_size=embedding_dim, hidden_size=hidden_dim,\n",
        "                            num_layers=num_layers, batch_first=True)\n",
        "        self.fc = nn.Linear(hidden_dim, output_dim)\n",
        "        self.softmax = nn.LogSoftmax(dim=1)\n",
        "\n",
        "    def forward(self, x):\n",
        "        lstm_out, (h_n, c_n) = self.lstm(x)\n",
        "        # h_n[-1] son katmandaki gizli durum\n",
        "        out = self.fc(h_n[-1])\n",
        "        return out\n",
        "\n"
      ]
    },
    {
      "cell_type": "code",
      "execution_count": null,
      "metadata": {
        "colab": {
          "base_uri": "https://localhost:8080/"
        },
        "id": "LF__SR-hwFbB",
        "outputId": "bac45744-e504-40f6-910e-7210ff302bbc"
      },
      "outputs": [
        {
          "output_type": "stream",
          "name": "stdout",
          "text": [
            "Epochs: 1\n",
            "Train Loss:  0.0116\n",
            "Train Accuracy:  0.8308\n",
            "Validation Loss:  0.0096\n",
            "Validation Accuracy:  0.8712\n",
            "Epochs: 2\n",
            "Train Loss:  0.0096\n",
            "Train Accuracy:  0.8708\n",
            "Validation Loss:  0.0095\n",
            "Validation Accuracy:  0.8766\n",
            "Epochs: 3\n",
            "Train Loss:  0.0091\n",
            "Train Accuracy:  0.8784\n",
            "Validation Loss:  0.0092\n",
            "Validation Accuracy:  0.8821\n",
            "Epochs: 4\n",
            "Train Loss:  0.0087\n",
            "Train Accuracy:  0.8837\n",
            "Validation Loss:  0.0088\n",
            "Validation Accuracy:  0.8822\n",
            "Epochs: 5\n",
            "Train Loss:  0.0085\n",
            "Train Accuracy:  0.8867\n",
            "Validation Loss:  0.0089\n",
            "Validation Accuracy:  0.8825\n",
            "Epochs: 6\n",
            "Train Loss:  0.0082\n",
            "Train Accuracy:  0.8896\n",
            "Validation Loss:  0.0088\n",
            "Validation Accuracy:  0.8810\n",
            "Epochs: 7\n",
            "Train Loss:  0.0080\n",
            "Train Accuracy:  0.8950\n",
            "Validation Loss:  0.0088\n",
            "Validation Accuracy:  0.8857\n",
            "Epochs: 8\n",
            "Train Loss:  0.0077\n",
            "Train Accuracy:  0.8971\n",
            "Validation Loss:  0.0090\n",
            "Validation Accuracy:  0.8821\n",
            "Epochs: 9\n",
            "Train Loss:  0.0074\n",
            "Train Accuracy:  0.9021\n",
            "Validation Loss:  0.0089\n",
            "Validation Accuracy:  0.8819\n",
            "Epochs: 10\n",
            "Train Loss:  0.0071\n",
            "Train Accuracy:  0.9065\n",
            "Validation Loss:  0.0094\n",
            "Validation Accuracy:  0.8812\n"
          ]
        }
      ],
      "source": [
        "# Eğitim tur sayısı\n",
        "EPOCHS = 10\n",
        "# FastText model tanımlaması\n",
        "model = FastTextLSTMClassifier()\n",
        "# Öğrenme oranı\n",
        "LR = 1e-3\n",
        "\n",
        "# FastText Dataset\n",
        "train = FastTextDataset(df_train, fasttext_model)\n",
        "validation = FastTextDataset(df_validation, fasttext_model)\n",
        "\n",
        "# DataLoader\n",
        "tdl = torch.utils.data.DataLoader(train, batch_size=32, shuffle=True)\n",
        "vdl = torch.utils.data.DataLoader(validation, batch_size=32)\n",
        "\n",
        "# Cihaz seçimi\n",
        "device = torch.device(\"cuda\" if torch.cuda.is_available() else \"cpu\")\n",
        "\n",
        "# Loss ve optimizer\n",
        "criterion = torch.nn.CrossEntropyLoss().to(device)\n",
        "optimizer = torch.optim.Adam(model.parameters(), lr=LR)\n",
        "\n",
        "# Modeli cihaza taşı\n",
        "model = model.to(device)\n",
        "\n",
        "# Eğitim döngüsü\n",
        "for EPOCH in range(EPOCHS):\n",
        "    total_train_accuracy = 0\n",
        "    total_train_loss = 0\n",
        "    total_validation_accuracy = 0\n",
        "    total_validation_loss = 0\n",
        "\n",
        "    model.train()\n",
        "    for texts, labels in tdl:\n",
        "        texts, labels = texts.to(device), labels.to(device)\n",
        "\n",
        "        outputs = model(texts)\n",
        "\n",
        "        batch_loss = criterion(outputs, labels)\n",
        "        total_train_loss += batch_loss.item()\n",
        "\n",
        "        train_accuracy = (outputs.argmax(dim=1) == labels).sum().item()\n",
        "        total_train_accuracy += train_accuracy\n",
        "\n",
        "        optimizer.zero_grad()\n",
        "        batch_loss.backward()\n",
        "        optimizer.step()\n",
        "\n",
        "    model.eval()\n",
        "    with torch.no_grad():\n",
        "        for texts, labels in vdl:\n",
        "            texts, labels = texts.to(device), labels.to(device)\n",
        "\n",
        "            outputs = model(texts)\n",
        "\n",
        "            batch_loss = criterion(outputs, labels)\n",
        "            total_validation_loss += batch_loss.item()\n",
        "\n",
        "            validation_accuracy = (outputs.argmax(dim=1) == labels).sum().item()\n",
        "            total_validation_accuracy += validation_accuracy\n",
        "\n",
        "    print(f'Epochs: {EPOCH + 1}')\n",
        "    print(f'Train Loss: {total_train_loss / len(df_train): .4f}')\n",
        "    print(f'Train Accuracy: {total_train_accuracy / len(df_train): .4f}')\n",
        "    print(f'Validation Loss: {total_validation_loss / len(df_validation): .4f}')\n",
        "    print(f'Validation Accuracy: {total_validation_accuracy / len(df_validation): .4f}')\n"
      ]
    },
    {
      "cell_type": "code",
      "source": [
        "# Eğitimi tamamladıktan sonra modeli kaydet\n",
        "torch.save(model, 'fasttext_lstm_model.pt')\n"
      ],
      "metadata": {
        "id": "bKW4Zg8CHMf6"
      },
      "execution_count": null,
      "outputs": []
    },
    {
      "cell_type": "code",
      "execution_count": null,
      "metadata": {
        "colab": {
          "base_uri": "https://localhost:8080/"
        },
        "id": "SoXrfcfewIwc",
        "outputId": "ad6dfd9c-29ac-480a-d3d3-b5d2be0ecd46"
      },
      "outputs": [
        {
          "output_type": "stream",
          "name": "stdout",
          "text": [
            "Test Accuracy: 0.883\n"
          ]
        }
      ],
      "source": [
        "# Test için ayırdığımız veri setlerini\n",
        "test = FastTextDataset(df_test, fasttext_model)\n",
        "\n",
        "# DataLoader ile batch'liyoruz\n",
        "tdl = torch.utils.data.DataLoader(test, batch_size=2)\n",
        "\n",
        "device = torch.device(\"cuda\")\n",
        "model = model.cuda()\n",
        "\n",
        "# Toplam test doğruluğu\n",
        "total_test_accuracy = 0\n",
        "\n",
        "# Test işlemi sırasında model ağırlıklarını değiştirmeyeceğimiz modelin gradyanlara ihtiyacı yoktur\n",
        "# \"no_grad\" fonksiyonu ile gradyan hesaplarını devre dışı bırakıyoruz.\n",
        "with torch.no_grad():\n",
        "    for test_input, test_label in tdl:\n",
        "        # Verileri cihazımıza (GPU/CPU) gönderiyoruz\n",
        "        test_label = test_label.to(device)\n",
        "\n",
        "        # Input verisini ve maskeyi modele uygun hale getiriyoruz\n",
        "        input_id = test_input.to(device)\n",
        "\n",
        "        # Modelin tahminlerini alıyoruz\n",
        "        output = model(input_id)\n",
        "\n",
        "        # Doğruluğu hesaplıyoruz\n",
        "        test_accuracy = (output.argmax(dim=1) == test_label).sum().item()\n",
        "        total_test_accuracy += test_accuracy\n",
        "\n",
        "# Test doğruluğunu normalize ediyoruz\n",
        "test_accuracy = total_test_accuracy / len(tdl.dataset)\n",
        "print(f'Test Accuracy: {test_accuracy:.3f}')\n"
      ]
    },
    {
      "cell_type": "code",
      "source": [
        "def predict_sentence(model, sentence, fasttext_model, device='cuda'):\n",
        "    model.eval()  # Modeli eval moduna alıyoruz (dropout vs kapansın diye)\n",
        "\n",
        "    # Cümleyi vektöre çevir\n",
        "    vec = sentence_to_vec(sentence, fasttext_model)  # Bu eskisi gibi ortalama vektör döndürüyor\n",
        "    vec = torch.tensor(vec, dtype=torch.float32).to(device)  # Tensora çevir\n",
        "    vec = vec.unsqueeze(0)  # (1, 300) -> batch dimension\n",
        "\n",
        "    with torch.no_grad():\n",
        "        output = model(vec)  # Modelden çıktı al\n",
        "        prediction = output.argmax(dim=1).item()  # En yüksek skorlu sınıfı seç\n",
        "\n",
        "    return prediction  # 0 veya 1 döner\n",
        "\n",
        "sentence = \"test cümlesi\"\n",
        "result = predict_sentence(model, sentence, fasttext_model)\n",
        "\n",
        "print(\"Tahmin:\", result)  # 0 veya 1 döner\n"
      ],
      "metadata": {
        "colab": {
          "base_uri": "https://localhost:8080/"
        },
        "id": "147I7awpkRpA",
        "outputId": "4d294e8b-627a-4e94-d2cb-42f4d1060b10"
      },
      "execution_count": null,
      "outputs": [
        {
          "output_type": "stream",
          "name": "stdout",
          "text": [
            "Tahmin: 0\n"
          ]
        }
      ]
    },
    {
      "cell_type": "code",
      "execution_count": null,
      "metadata": {
        "colab": {
          "base_uri": "https://localhost:8080/",
          "height": 487
        },
        "id": "Mr5pWQolQNMU",
        "outputId": "3d037901-c38c-495b-bd2a-9d8d444d1170"
      },
      "outputs": [
        {
          "output_type": "display_data",
          "data": {
            "text/plain": [
              "<Figure size 640x480 with 2 Axes>"
            ],
            "image/png": "[encoded data removed]"
          },
          "metadata": {}
        }
      ],
      "source": [
        "import numpy as np\n",
        "import itertools\n",
        "import matplotlib.pyplot as plt\n",
        "from sklearn.metrics import confusion_matrix\n",
        "\n",
        "def plot_confusion_matrix(predicted, actuals, sub_classes, title='Confusion matrix', cmap=plt.cm.Blues):\n",
        "    # Confusion Matrix oluştur\n",
        "    confusion = confusion_matrix(actuals, predicted)  # DİKKAT: actuals, predicted sırası değişti!\n",
        "\n",
        "    plt.imshow(confusion, interpolation='nearest', cmap=cmap)\n",
        "    plt.title(title)\n",
        "    plt.colorbar()\n",
        "\n",
        "    tick_marks = np.arange(len(sub_classes))\n",
        "    plt.xticks(tick_marks, sub_classes, rotation=90)\n",
        "    plt.yticks(tick_marks, sub_classes)\n",
        "\n",
        "    # Confusion matrix içindeki sayıları yaz\n",
        "    for i, j in itertools.product(range(confusion.shape[0]), range(confusion.shape[1])):\n",
        "        plt.text(j, i, format(confusion[i, j], 'd'),\n",
        "                 horizontalalignment=\"center\",\n",
        "                 color=\"white\" if confusion[i, j] > confusion.max() / 2. else \"black\")\n",
        "\n",
        "    plt.rcParams[\"figure.figsize\"] = (10, 8)\n",
        "    plt.ylabel('Actual')\n",
        "    plt.xlabel('Predicted')\n",
        "    plt.tight_layout()\n",
        "    plt.show()\n",
        "\n",
        "# Burada sub_classes listesini oluşturuyoruz\n",
        "sub_classes = sorted(df_test['label'].unique())  # Etiketleri sırala\n",
        "\n",
        "# Ve fonksiyonu çağırıyoruz\n",
        "plot_confusion_matrix(predicted, actuals, sub_classes=sub_classes)\n"
      ]
    }
  ],
  "metadata": {
    "accelerator": "GPU",
    "colab": {
      "gpuType": "T4",
      "machine_shape": "hm",
      "provenance": []
    },
    "kernelspec": {
      "display_name": "Python 3 (ipykernel)",
      "language": "python",
      "name": "python3"
    },
    "language_info": {
      "codemirror_mode": {
        "name": "ipython",
        "version": 3
      },
      "file_extension": ".py",
      "mimetype": "text/x-python",
      "name": "python",
      "nbconvert_exporter": "python",
      "pygments_lexer": "ipython3",
      "version": "3.12.7"
    }
  },
  "nbformat": 4,
  "nbformat_minor": 0
}