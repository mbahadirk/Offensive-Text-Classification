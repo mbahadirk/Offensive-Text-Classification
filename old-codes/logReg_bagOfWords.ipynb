{
 "cells": [
  {
   "cell_type": "code",
   "execution_count": 1,
   "id": "e642f6b8-8fc1-441f-93c5-cb255c0174a1",
   "metadata": {},
   "outputs": [],
   "source": [
    "import pandas as pd\n",
    "import numpy as np\n",
    "from tqdm import tqdm\n",
    "import copy\n",
    "import matplotlib.pyplot as plt\n",
    "from sklearn.model_selection import train_test_split\n",
    "from sklearn.feature_extraction.text import CountVectorizer  # Bag of Words için\n",
    "from sklearn.linear_model import LogisticRegression\n",
    "from sklearn.metrics import classification_report, accuracy_score, confusion_matrix, ConfusionMatrixDisplay"
   ]
  },
  {
   "cell_type": "code",
   "execution_count": 2,
   "id": "406ae5a1-c726-42f5-8de7-714989e162e3",
   "metadata": {},
   "outputs": [],
   "source": [
    "# Veri setini yükle\n",
    "path = 'turkce_cumleler_kokler_corrected_50k.csv'\n",
    "df = pd.read_csv(path)\n",
    "df = df.drop(columns=['id', 'text'])\n",
    "\n",
    "X = df['roots']\n",
    "y = df['label']\n",
    "\n",
    "df = df.head(2000)"
   ]
  },
  {
   "cell_type": "code",
   "execution_count": 3,
   "id": "48bf6f1e-646a-48e4-9fb3-fe05da47a7b7",
   "metadata": {},
   "outputs": [],
   "source": [
    "# Eğitim ve test veri setlerini ayır\n",
    "X_train, X_test, y_train, y_test = train_test_split(X, y, test_size=0.3, random_state=42)\n",
    "\n",
    "# Eksik verileri doldur\n",
    "X_train = np.where(pd.isna(X_train), '', X_train)\n",
    "X_test = np.where(pd.isna(X_test), '', X_test)"
   ]
  },
  {
   "cell_type": "code",
   "execution_count": 4,
   "id": "92106acf-eedc-490e-8a96-722923b03a4e",
   "metadata": {},
   "outputs": [],
   "source": [
    "# Bag of Words vektörleştirme\n",
    "vectorizer = CountVectorizer()\n",
    "#vectorizer = CountVectorizer(max_features=500)   # Bag of Words için CountVectorizer kullanıyoruz\n",
    "X_train_bow = vectorizer.fit_transform(X_train)\n",
    "X_test_bow = vectorizer.transform(X_test)"
   ]
  },
  {
   "cell_type": "code",
   "execution_count": 37,
   "id": "3026e87d-b336-4c93-bb66-70ddfe3d92fc",
   "metadata": {},
   "outputs": [
    {
     "name": "stdout",
     "output_type": "stream",
     "text": [
      "Vocabulary büyüklüğü: 42954\n",
      "İlk 10 kelime: ['00' '000' '0000' '0000dan' '0001' '00010300' '0006' '000i' '001' '0015'\n",
      " '0017' '008' '0097' '00dan' '01' '010' '0100' '01107661701' '0112' '0114'\n",
      " '0123' '0132' '0134' '01344833155' '0151' '01692760036' '01986191979'\n",
      " '02' '02000300' '0202' '02022022' '02125071453' '0224' '02419470899'\n",
      " '0244' '025' '02541463932' '0259' '0265' '0269' '02859688561' '03'\n",
      " '03052018' '0307' '03236860525' '033' '0330am' '0332' '03823153952'\n",
      " '0400' '0443' '04475912210' '046' '04610790771' '0493' '05' '0504'\n",
      " '05091921' '05136488817' '05154234783' '0525' '0530pm' '0531'\n",
      " '05339204540' '05354799780' '05366018340' '0538' '0541' '05522643909'\n",
      " '06' '060' '06068266580' '0610' '0614' '06266109224' '06344802112'\n",
      " '06923193852' '06933278111' '07' '0711de' '07149775637' '0715'\n",
      " '07662762806' '079' '07913405822' '07953982168' '07li' '08' '0800' '0802'\n",
      " '08022018' '0803' '0812' '08199134181' '0854' '088' '08995611779' '09'\n",
      " '090' '0900' '091' '0911' '0928' '093' '0930' '0941' '0945' '09617813919'\n",
      " '09818444819' '09853707120' '10' '100' '1000' '10000' '100000' '10000000'\n",
      " '1000000000000000000000000000000000000000000milyard' '10000tl' '1000da'\n",
      " '1000de' '1000lik' '1001' '100100' '100200' '100800' '100bin' '100e'\n",
      " '100er' '100gr' '100mt' '100tl' '100u' '100urun' '100yili' '101' '1010'\n",
      " '1010uz' '1015' '101i' '101yildonumu' '102' '1020' '1025' '102739329'\n",
      " '1030' '1030daki' '104' '105' '1053' '10551' '106' '106si' '1071' '108'\n",
      " '1080p' '1097' '10bin' '10binden' '10bini' '10binlerce' '10binmujdesi'\n",
      " '10blm4' '10da' '10dan' '10jetlere' '10k' '10kmden' '10ncu' '10si'\n",
      " '10tlye' '10u' '10un' '10yil' '10yilda' '11' '110' '1100' '110120130140'\n",
      " '110548' '1110' '1112deki' '1119' '112' '113' '1130' '1145' '117' '1199'\n",
      " '11cb' '11de' '11e' '11i' '11inde' '11sinifsiniz' '12' '120' '1200'\n",
      " '1200da' '120120120' '120bin' '121' '1213' '122' '1221' '123' '1231'\n",
      " '1237117' '124' '124128' '125' '1250' '125cc' '125e' '128' '129' '12de'\n",
      " '12sinifta' '12ye' '13' '130' '1300' '1314' '131i' '132' '1330' '135'\n",
      " '136' '138' '139144000' '13mayis' '13sira' '14' '140' '1400' '140000'\n",
      " '1400lerde' '1400yildir' '14042019' '1415' '144' '145' '1453' '1453te'\n",
      " '145de' '147' '1479' '149' '1498' '14dunde' '15' '150' '1500' '15000'\n",
      " '15000000' '150303939193858392839' '150ye' '151' '1510' '1512' '15159'\n",
      " '1516' '152' '1520' '1524' '1536282' '154' '1542' '155' '1550' '155e'\n",
      " '155i' '1565' '1566' '15900' '15bin' '15e' '15k' '15lik' '15lilerimizi'\n",
      " '15m' '15temmuz' '15temmuzdan' '16' '160' '16001800' '1603' '160300'\n",
      " '16092019' '160k' '162' '1620' '1624' '165' '1660555000000' '167' '16bin'\n",
      " '16da' '16yil' '17' '170' '1700' '17000' '170000' '17032017' '170li'\n",
      " '1715' '1717' '172' '1725' '173' '1736' '1744' '175' '1754deki'\n",
      " '1754evde' '176' '177428' '1775in' '1779' '179' '17bin' '17sirada' '17ye'\n",
      " '18' '180' '1800' '1800lerde' '18032022' '1808040' '182' '1820' '1824'\n",
      " '18381' '187' '188' '1884' '1884te' '188lik' '1890' '18gun' '18inden'\n",
      " '18miscesine' '19' '190' '1900' '1900da' '1900de' '1900lerin' '1900lu'\n",
      " '1903' '190417' '1905' '1906da' '1907' '1909' '1909da' '1914' '1914ten'\n",
      " '1915' '1915de' '1915in' '1915te' '1917' '1918de' '1919' '19191935'\n",
      " '1919den' '1920' '1920de' '1920den' '1921' '1922' '1922de' '1922ye'\n",
      " '1923' '1927den' '1930larda' '1933te' '1934' '1940' '1942de' '1943'\n",
      " '19441945' '1945' '1946' '1947de' '1947den' '1949' '1950' '1950000'\n",
      " '1950lerin' '1956' '196' '1960' '196070' '1961de' '1963' '1964' '1965'\n",
      " '1969' '1970' '1970lerde' '1970li' '1973te' '1980' '198090' '1980de'\n",
      " '1982' '1986' '1987de' '199' '1990' '1990li' '1992' '1992de' '1992den'\n",
      " '1994' '1994ten' '1995' '1996' '1997' '1998' '1999' '1999da' '1a'\n",
      " '1abdulkadir' '1altay' '1anne' '1basamak' '1bir' '1blok' '1cebrail'\n",
      " '1ceyrek' '1de' '1deepfreeze' '1den' '1dunya' '1e' '1eger' '1er'\n",
      " '1finansbank' '1fr' '1hiciz' '1hukumet' '1i' '1in' '1inch' '1inci' '1ine'\n",
      " '1inin' '1islami' '1kiliclaroglu' '1kurani' '1lig' '1linnestipik' '1m'\n",
      " '1meyveli' '1myi' '1ol' '1olinciden' '1olunca' '1pkk' '1rkcilik'\n",
      " '1ruslar' '1sia' '1sila' '1sokakta' '1suriyeli' '1tl' '1tum' '1unvanlar'\n",
      " '1vuslat' '20' '200' '2000' '20000' '2000i' '2000ler' '2000lerde'\n",
      " '2000li' '2000liymisim' '2001' '2002' '2002de' '2002den' '2004' '2004un'\n",
      " '20062008' '2007' '2007li' '2008' '2009' '200e' '2010' '201011'\n",
      " '20102011' '2010da' '2010dan' '2010luyum' '2011' '2011deki' '2011e'\n",
      " '2012' '2013' '2013te' '2013ten' '2014' '201415' '2015' '2016' '2016nin'\n",
      " '2017' '2017de' '2017nin' '2018' '20182018' '20182019' '2018257' '201832'\n",
      " '2018de' '2019' '20192020' '2019a' '2019da' '2019dan' '2019un' '202'\n",
      " '2020' '20202021de' '2020den' '2020ye' '2021' '2021de' '2022' '2022nin'\n",
      " '2023' '2023sike' '2023te' '2024' '2025' '2030' '2035' '2044' '20bin'\n",
      " '20binyetmez' '20dakikadan' '20den' '20gun' '20k' '20lerde' '20li'\n",
      " '20lige' '20lik' '20mio' '20si' '20yi' '20yilda' '21' '210' '2100' '213'\n",
      " '213k' '214' '216' '2160' '21aralik' '21bransli' '21inci' '21yuzyilda'\n",
      " '21yy2020' '21yyda' '21yydayiz' '22' '220' '2200' '22000' '221' '223637'\n",
      " '224' '225' '226' '227' '22k' '23' '230' '2300' '230liraya' '2337'\n",
      " '2347439' '236' '238' '2391' '23aydirbekliyor' '23bin' '23gb' '23nisan'\n",
      " '24' '240' '240000' '2400tl' '240250' '24072018' '248' '25' '250' '2500'\n",
      " '25000' '250000' '2500kontenjan' '25075' '2530' '2530m' '256' '2563'\n",
      " '256gb' '256kb' '257' '25bin' '25iktidari' '25indeyim' '25te' '25tl' '26'\n",
      " '260' '261548' '262627' '2635548' '26363kez' '2646' '26467000' '265'\n",
      " '269' '26agustos1922' '26nisan' '27' '270' '2700' '27121' '272863829'\n",
      " '275' '2750' '27reskotanlilari' '28' '280' '28011992' '2827373' '2830'\n",
      " '285tir' '28martdunyamutevazilergunu' '28yasinda'\n",
      " '28yildonumundesaygiyla' '29' '290' '29032019da' '291' '2914' '2930'\n",
      " '294polatliakp' '295748' '297' '299' '29m' '29maddenin'\n",
      " '29otobiyografinizi' '29u' '29yilinda' '2atamada' '2ataturk' '2aydir'\n",
      " '2aylar' '2bu' '2cephede' '2ci' '2dabf37859e247f7a8513f19576d2522'\n",
      " '2digiturk' '2dkda' '2ek' '2fakirlerin' '2gelince' '2gol' '2gun' '2half'\n",
      " '2hande' '2inonu' '2jailson' '2jzgwtizoo' '2k19u' '2karabag' '2kez'\n",
      " '2kul' '2lig' '2ligde' '2m' '2macta' '2mikail' '2mlyr' '2muslumanlari'\n",
      " '2nci' '2nciildisi' '2nohut' '2not' '2nutuk' '2ramses' '2rusyada'\n",
      " '2saridan' '2sariyi' '2si' '2sinan' '2sinde' '2sinden' '2sinif'\n",
      " '2sinifta' '2tane' '2tercih' '2turda' '2ust' '2x3' '2yanginla' '2yari'\n",
      " '2yarinin' '2yi' '2yil' '2yildir' '2yillik' '30' '300' '3000' '30000'\n",
      " '300000' '3000liralik' '300400' '300500' '300800' '300klik' '3035' '3040'\n",
      " '305' '30agustos' '30dan' '30dk' '30mayista' '30tipim' '30unda' '31'\n",
      " '310' '3109952' '313' '3132' '3147' '314c88e4425b415fa7a8bf8a47630b33'\n",
      " '316' '318' '3181e' '3190' '31ci' '31den' '31e' '31lik' '32' '320' '3200'\n",
      " '32000' '32222' '3246' '32lik' '33' '330' '330da' '33794789637' '34'\n",
      " '340' '3400tl' '345' '34evlilikle' '34uya' '35' '350' '3500' '350450'\n",
      " '350den' '3517' '354' '357' '357mhp' '35lik' '36' '360' '3600' '363772'\n",
      " '364' '36425' '3647474' '365' '37' '370' '3700' '372' '3743' '38'\n",
      " '38473847' '3848' '387' '38970' '39' '394'\n",
      " '394dde45adc74ec0ba9e14e6042f3bf4' '395' '396' '3a' '3abank' '3atiba'\n",
      " '3binbekler' '3cm' '3cu' '3d' '3dk' '3ds' '3dunya' '3e' '3er' '3eylulde'\n",
      " '3firkasunnilere' '3g' '3gsi' '3gun' '3i' '3iqluk' '3israfil' '3k'\n",
      " '3kadin' '3karisi' '3katilini' '3kidem' '3kisisin' '3kopru' '3kural'\n",
      " '3lemistik' '3lig' '3lt' '3lu' '3luk' '3m' '3ncu' '3onyekuru' '3puan'\n",
      " '3rusya' '3saat' '3sayfa' '3t' '3tane' '3te' '3ten' '3turda' '3u' '3ude'\n",
      " '3ulkeden' '3un' '3unun' '3x' '40' '400' '40000' '4000kisi' '400m'\n",
      " '401de' '403' '404' '4050' '407' '40a' '40bin' '40binek' '40erkek' '40k'\n",
      " '40yenildigimiz' '40yil' '41' '411' '41248' '415' '416' '418' '41bin'\n",
      " '41i' '42' '4234' '424' '4250' '43' '43000' '432' '433' '4330' '44'\n",
      " '440450' '441' '442' '443dis' '444' '4447' '445' '446' '448mhp' '45'\n",
      " '4500' '452' '45307035' '4550' '45dkda' '45lere' '45m' '46' '460' '46324'\n",
      " '465' '47' '474' '475' '478' '48' '480' '4800' '481' '48284' '4843255949'\n",
      " '485' '488' '49' '490' '495' '495500' '497' '4_5' '4a' '4aralik'\n",
      " '4azrail' '4b' '4banvit' '4by' '4byekadro' '4d' '4e' '4er' '4es'\n",
      " '4eylulde' '4ikinci' '4istanbul' '4karinla' '4karisi' '4kez' '4luk'\n",
      " '4mcenk' '4mdan' '4mina' '4ncu' '4nt' '4o' '4olmus' '4onada' '4sayfa'\n",
      " '4sinifta' '4u' '4unde' '4y' '4yemek' '4yildiza' '4yilin'\n",
      " '4yilsonrasetten' '4zorunlu' '50' '500' '5000' '5000000' '5000atama'\n",
      " '5000tl' '500bin' '500takipcili' '500tl' '500u' '5059' '50m' '51' '510'\n",
      " '510luk' '511214e920124097af793900b46eba9e' '515' '517' '519' '52'\n",
      " '52762' '528' '52zira' '53' '530' '531' '5343' '54' '540' '540i' '542']\n"
     ]
    }
   ],
   "source": [
    "# Vocabulary büyüklüğünü yazdır\n",
    "vocabulary_size = len(vectorizer.get_feature_names_out())\n",
    "print(f\"Vocabulary büyüklüğü: {vocabulary_size}\")\n",
    "\n",
    "# İlk 10 kelimeyi yazdır\n",
    "print(\"İlk 10 kelime:\", vectorizer.get_feature_names_out()[:1000])"
   ]
  },
  {
   "cell_type": "code",
   "execution_count": 6,
   "id": "938aa19e-5574-41df-98d3-631b687a5835",
   "metadata": {},
   "outputs": [
    {
     "name": "stdout",
     "output_type": "stream",
     "text": [
      "\n",
      "Bag of Words örnekleri:\n",
      "Örnek 15325:\n",
      "Orijinal:     netflixte film izlemek gelmek amk yahudi\n",
      "Bag of Words vektörü: [0 0 0 ... 0 0 0]\n",
      "Örnek 28583:\n",
      "Orijinal:  guzel bolu 1 2 sinif eglence 3 sinifta yazma ogreniyosun 4sinifta stajdasin  temel saglam tutmak rahat rahat bitirirsin \n",
      "Bag of Words vektörü: [0 0 0 ... 0 0 0]\n",
      "Örnek 9807:\n",
      "Orijinal: mut gozukmek mutlu istemek\n",
      "Bag of Words vektörü: [0 0 0 ... 0 0 0]\n"
     ]
    }
   ],
   "source": [
    "# Bag of Words'ten birkaç örnek yazdır\n",
    "print(\"\\nBag of Words örnekleri:\")\n",
    "feature_names = vectorizer.get_feature_names_out()\n",
    "sample_indices = np.random.choice(X_train_bow.shape[0], 3, replace=False)  # Rastgele 3 örnek seç\n",
    "for idx in sample_indices:\n",
    "    print(f\"Örnek {idx + 1}:\")\n",
    "    print(\"Orijinal:\", X_train[idx])\n",
    "    print(\"Bag of Words vektörü:\", X_train_bow[idx].toarray()[0])"
   ]
  },
  {
   "cell_type": "code",
   "execution_count": 7,
   "id": "6d8b994e-1b71-4462-83aa-e383e8b6800e",
   "metadata": {},
   "outputs": [
    {
     "name": "stdout",
     "output_type": "stream",
     "text": [
      "\n",
      "Bag of Words örnekleri:\n",
      "Örnek 1:\n",
      "Orijinal: bangtanin kazanmak bakanlik seci kalmak amkk gerci alirlae geliyorda \n",
      "Bag of Words vektörü: [0 0 0 ... 0 0 0]\n",
      "Örnek 2:\n",
      "Orijinal:  ev asi y\n",
      "Bag of Words vektörü: [0 0 0 ... 0 0 0]\n",
      "Örnek 3:\n",
      "Orijinal:  kadin falaka yatirmak manyak vary el verecek sop sineklik verecek popo rt erdogan iktidar kalmak ay adet vuracaksin\n",
      "Bag of Words vektörü: [0 0 0 ... 0 0 0]\n"
     ]
    }
   ],
   "source": [
    "# Bag of Words'ten ilk 3 örneği yazdır\n",
    "print(\"\\nBag of Words örnekleri:\")\n",
    "feature_names = vectorizer.get_feature_names_out()\n",
    "for idx in range(3):  # İlk 3 örnek\n",
    "    print(f\"Örnek {idx + 1}:\")\n",
    "    print(\"Orijinal:\", X_train[idx])\n",
    "    print(\"Bag of Words vektörü:\", X_train_bow[idx].toarray()[0])"
   ]
  },
  {
   "cell_type": "code",
   "execution_count": 8,
   "id": "c180144b-9314-4c5f-b2cc-f5a74735b006",
   "metadata": {},
   "outputs": [
    {
     "name": "stdout",
     "output_type": "stream",
     "text": [
      "\n",
      "Model Performansı:\n",
      "Accuracy: 0.8943396226415095\n",
      "              precision    recall  f1-score   support\n",
      "\n",
      "           0       0.86      0.96      0.91      6756\n",
      "           1       0.94      0.83      0.88      5964\n",
      "\n",
      "    accuracy                           0.89     12720\n",
      "   macro avg       0.90      0.89      0.89     12720\n",
      "weighted avg       0.90      0.89      0.89     12720\n",
      "\n"
     ]
    }
   ],
   "source": [
    "# Logistic Regression modelini oluştur ve eğit\n",
    "logreg_model = LogisticRegression(max_iter=1000)  # max_iter artırılabilir\n",
    "logreg_model.fit(X_train_bow, y_train)\n",
    "\n",
    "# Tahmin yap\n",
    "y_pred = logreg_model.predict(X_test_bow)\n",
    "\n",
    "# Modeli değerlendir\n",
    "print(\"\\nModel Performansı:\")\n",
    "print(\"Accuracy:\", accuracy_score(y_test, y_pred))\n",
    "print(classification_report(y_test, y_pred))"
   ]
  },
  {
   "cell_type": "code",
   "execution_count": 9,
   "id": "a15f7293-d234-4ecc-8a84-8cc874ad6908",
   "metadata": {},
   "outputs": [
    {
     "data": {
      "image/png": "[encoded data removed]",
      "text/plain": [
       "<Figure size 640x480 with 2 Axes>"
      ]
     },
     "metadata": {},
     "output_type": "display_data"
    }
   ],
   "source": [
    "cm = confusion_matrix(y_test, y_pred)\n",
    "disp = ConfusionMatrixDisplay(confusion_matrix=cm, display_labels=logreg_model.classes_)\n",
    "disp.plot(cmap=plt.cm.Blues)\n",
    "plt.title(\"Confusion Matrix\")\n",
    "plt.show()"
   ]
  }
 ],
 "metadata": {
  "kernelspec": {
   "display_name": "Python 3 (ipykernel)",
   "language": "python",
   "name": "python3"
  },
  "language_info": {
   "codemirror_mode": {
    "name": "ipython",
    "version": 3
   },
   "file_extension": ".py",
   "mimetype": "text/x-python",
   "name": "python",
   "nbconvert_exporter": "python",
   "pygments_lexer": "ipython3",
   "version": "3.12.4"
  }
 },
 "nbformat": 4,
 "nbformat_minor": 5
}
